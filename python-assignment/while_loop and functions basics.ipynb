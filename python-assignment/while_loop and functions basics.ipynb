{
 "cells": [
  {
   "cell_type": "code",
   "execution_count": 2,
   "id": "95393454",
   "metadata": {},
   "outputs": [
    {
     "name": "stdout",
     "output_type": "stream",
     "text": [
      "1\n",
      "2\n",
      "3\n",
      "4\n",
      "5\n",
      "6\n",
      "7\n",
      "8\n",
      "9\n",
      "10\n"
     ]
    }
   ],
   "source": [
    "a =1\n",
    "b=10\n",
    "\n",
    "while a<=b:\n",
    "    print (a)\n",
    "    a=a+1\n",
    "    "
   ]
  },
  {
   "cell_type": "code",
   "execution_count": 3,
   "id": "f74796c5",
   "metadata": {},
   "outputs": [],
   "source": [
    "def test():\n",
    "    print(\"learning functions\")"
   ]
  },
  {
   "cell_type": "code",
   "execution_count": 4,
   "id": "1cd6047c",
   "metadata": {},
   "outputs": [
    {
     "name": "stdout",
     "output_type": "stream",
     "text": [
      "learning functions\n"
     ]
    }
   ],
   "source": [
    "test()"
   ]
  },
  {
   "cell_type": "code",
   "execution_count": 5,
   "id": "010488db",
   "metadata": {},
   "outputs": [
    {
     "name": "stdout",
     "output_type": "stream",
     "text": [
      "learning functions\n"
     ]
    },
    {
     "data": {
      "text/plain": [
       "NoneType"
      ]
     },
     "execution_count": 5,
     "metadata": {},
     "output_type": "execute_result"
    }
   ],
   "source": [
    "type(test())"
   ]
  },
  {
   "cell_type": "code",
   "execution_count": 6,
   "id": "411174f6",
   "metadata": {},
   "outputs": [],
   "source": [
    "def test1():\n",
    "        return \"do not use print function use logger\""
   ]
  },
  {
   "cell_type": "code",
   "execution_count": 7,
   "id": "909f2c7d",
   "metadata": {},
   "outputs": [
    {
     "data": {
      "text/plain": [
       "'do not use print function use logger what is logger'"
      ]
     },
     "execution_count": 7,
     "metadata": {},
     "output_type": "execute_result"
    }
   ],
   "source": [
    "test1()+ \" what is logger\""
   ]
  },
  {
   "cell_type": "code",
   "execution_count": 8,
   "id": "bbc25571",
   "metadata": {},
   "outputs": [],
   "source": [
    "def test2():\n",
    "    pass"
   ]
  },
  {
   "cell_type": "code",
   "execution_count": 9,
   "id": "f79256e1",
   "metadata": {},
   "outputs": [],
   "source": [
    "def test3():\n",
    "    return 1,2,5,[1,2,4]"
   ]
  },
  {
   "cell_type": "code",
   "execution_count": 10,
   "id": "ee65be66",
   "metadata": {},
   "outputs": [
    {
     "data": {
      "text/plain": [
       "(1, 2, 5, [1, 2, 4])"
      ]
     },
     "execution_count": 10,
     "metadata": {},
     "output_type": "execute_result"
    }
   ],
   "source": [
    "test3()\n",
    "#It will always return as typle"
   ]
  },
  {
   "cell_type": "code",
   "execution_count": 12,
   "id": "6d79af8a",
   "metadata": {},
   "outputs": [],
   "source": [
    "a,b,c,d=test3()"
   ]
  },
  {
   "cell_type": "code",
   "execution_count": 13,
   "id": "7a392e45",
   "metadata": {},
   "outputs": [
    {
     "data": {
      "text/plain": [
       "1"
      ]
     },
     "execution_count": 13,
     "metadata": {},
     "output_type": "execute_result"
    }
   ],
   "source": [
    "a"
   ]
  },
  {
   "cell_type": "code",
   "execution_count": 14,
   "id": "2e145135",
   "metadata": {},
   "outputs": [],
   "source": [
    "_,_,_,e=test3()"
   ]
  },
  {
   "cell_type": "code",
   "execution_count": 27,
   "id": "fb2d3560",
   "metadata": {},
   "outputs": [],
   "source": [
    "e\n",
    "b=7"
   ]
  },
  {
   "cell_type": "code",
   "execution_count": 32,
   "id": "bf352917",
   "metadata": {},
   "outputs": [],
   "source": [
    "def test4(a,b):\n",
    "    while a<b:\n",
    "        return a\n",
    "        a+=2\n",
    "    else:\n",
    "        return \"python is easy\""
   ]
  },
  {
   "cell_type": "code",
   "execution_count": 33,
   "id": "b10b6506",
   "metadata": {},
   "outputs": [
    {
     "data": {
      "text/plain": [
       "1"
      ]
     },
     "execution_count": 33,
     "metadata": {},
     "output_type": "execute_result"
    }
   ],
   "source": [
    "test4(a,b)"
   ]
  },
  {
   "cell_type": "code",
   "execution_count": 36,
   "id": "5c2f5831",
   "metadata": {},
   "outputs": [],
   "source": [
    "l=[]\n",
    "def test5(a,b):\n",
    "    while a<b:\n",
    "        #return a\n",
    "        l.append(a)\n",
    "        a+=2\n",
    "    else:\n",
    "        #return \"python is easy\"\n",
    "        print(\"python is easy\")\n",
    "        return l"
   ]
  },
  {
   "cell_type": "code",
   "execution_count": 37,
   "id": "8af810c3",
   "metadata": {},
   "outputs": [
    {
     "name": "stdout",
     "output_type": "stream",
     "text": [
      "python is easy\n"
     ]
    },
    {
     "data": {
      "text/plain": [
       "[1, 3, 5]"
      ]
     },
     "execution_count": 37,
     "metadata": {},
     "output_type": "execute_result"
    }
   ],
   "source": [
    "test5(a,b)"
   ]
  },
  {
   "cell_type": "code",
   "execution_count": 43,
   "id": "19b2233b",
   "metadata": {},
   "outputs": [],
   "source": [
    "l1=[]\n",
    "def test6():\n",
    "    for i in l:\n",
    "        if type(i)==int:\n",
    "            l1.append(i)\n",
    "    return l1"
   ]
  },
  {
   "cell_type": "code",
   "execution_count": 44,
   "id": "1ca4ba41",
   "metadata": {},
   "outputs": [
    {
     "data": {
      "text/plain": [
       "[1, 3, 5]"
      ]
     },
     "execution_count": 44,
     "metadata": {},
     "output_type": "execute_result"
    }
   ],
   "source": [
    "test6()"
   ]
  },
  {
   "cell_type": "code",
   "execution_count": 1,
   "id": "088ae373",
   "metadata": {},
   "outputs": [],
   "source": [
    "def test7(*a):\n",
    "    return a"
   ]
  },
  {
   "cell_type": "code",
   "execution_count": 4,
   "id": "d8d6f957",
   "metadata": {},
   "outputs": [
    {
     "data": {
      "text/plain": [
       "(34, 56, [1, 2, 3, 5])"
      ]
     },
     "execution_count": 4,
     "metadata": {},
     "output_type": "execute_result"
    }
   ],
   "source": [
    "test7(34,56,[1,2,3,5])"
   ]
  },
  {
   "cell_type": "code",
   "execution_count": 5,
   "id": "296b3eec",
   "metadata": {},
   "outputs": [],
   "source": [
    "#args is not a keyword\n",
    "def test8(*args):\n",
    "    return args"
   ]
  },
  {
   "cell_type": "code",
   "execution_count": 6,
   "id": "9e2840d2",
   "metadata": {},
   "outputs": [],
   "source": [
    "def test9(*args):\n",
    "    l=[]\n",
    "    for i in args:\n",
    "        l.append(i)\n",
    "    return l"
   ]
  },
  {
   "cell_type": "code",
   "execution_count": 8,
   "id": "41cac550",
   "metadata": {},
   "outputs": [
    {
     "data": {
      "text/plain": [
       "[4, 5, 6, [4, 5, 3]]"
      ]
     },
     "execution_count": 8,
     "metadata": {},
     "output_type": "execute_result"
    }
   ],
   "source": [
    "test9(4,5,6,[4,5,3])"
   ]
  },
  {
   "cell_type": "code",
   "execution_count": 9,
   "id": "4b73ff2d",
   "metadata": {},
   "outputs": [],
   "source": [
    "def test10(a,b,c,d,*args):\n",
    "    return a,b,c,d,args"
   ]
  },
  {
   "cell_type": "code",
   "execution_count": 10,
   "id": "aaa55404",
   "metadata": {},
   "outputs": [
    {
     "data": {
      "text/plain": [
       "(1, 1, 3, 4, (53, 2, 4, 2, 543))"
      ]
     },
     "execution_count": 10,
     "metadata": {},
     "output_type": "execute_result"
    }
   ],
   "source": [
    "test10(1,1,3,4,53,2,4,2,543)"
   ]
  },
  {
   "cell_type": "code",
   "execution_count": 11,
   "id": "e5251374",
   "metadata": {},
   "outputs": [],
   "source": [
    "def test11(*args,a,b,c,d):\n",
    "    return args,a,b,c,d"
   ]
  },
  {
   "cell_type": "code",
   "execution_count": 12,
   "id": "b9b3a06a",
   "metadata": {},
   "outputs": [
    {
     "data": {
      "text/plain": [
       "((4, 5, 3, 5, 24, 645, 23, 234), 34, 34, 23, 452)"
      ]
     },
     "execution_count": 12,
     "metadata": {},
     "output_type": "execute_result"
    }
   ],
   "source": [
    "test11(4,5,3,5,24,645,23,234,a=34,b=34,c=23,d=452)"
   ]
  },
  {
   "cell_type": "code",
   "execution_count": 2,
   "id": "b4f9c9a0",
   "metadata": {},
   "outputs": [],
   "source": [
    "#expecting key value pair\n",
    "def test12(**kwargs):\n",
    "    return kwargs"
   ]
  },
  {
   "cell_type": "code",
   "execution_count": 3,
   "id": "8da6cbd8",
   "metadata": {},
   "outputs": [
    {
     "data": {
      "text/plain": [
       "{'a': 4, 'b': 5, 'c': 'ufo'}"
      ]
     },
     "execution_count": 3,
     "metadata": {},
     "output_type": "execute_result"
    }
   ],
   "source": [
    "test12(a=4,b=5,c=\"ufo\")"
   ]
  },
  {
   "cell_type": "code",
   "execution_count": 6,
   "id": "32184aeb",
   "metadata": {},
   "outputs": [],
   "source": [
    "def test13(*m, **s):\n",
    "    return m, s"
   ]
  },
  {
   "cell_type": "code",
   "execution_count": 7,
   "id": "1f4c58e3",
   "metadata": {},
   "outputs": [
    {
     "data": {
      "text/plain": [
       "((3, 4, 5), {'a': 12, 'b': 4})"
      ]
     },
     "execution_count": 7,
     "metadata": {},
     "output_type": "execute_result"
    }
   ],
   "source": [
    "test13(3,4,5,a=12,b=4)"
   ]
  },
  {
   "cell_type": "code",
   "execution_count": 8,
   "id": "fdfa3e51",
   "metadata": {},
   "outputs": [],
   "source": [
    "def test14(*m):\n",
    "    n=1\n",
    "    for i in m:\n",
    "        if type(i)== int:\n",
    "            n=n*i\n",
    "        return n"
   ]
  },
  {
   "cell_type": "code",
   "execution_count": 9,
   "id": "66b6320b",
   "metadata": {},
   "outputs": [
    {
     "data": {
      "text/plain": [
       "4"
      ]
     },
     "execution_count": 9,
     "metadata": {},
     "output_type": "execute_result"
    }
   ],
   "source": [
    "test14(4,532,23,1,34,1)"
   ]
  },
  {
   "cell_type": "code",
   "execution_count": 10,
   "id": "a34d06f3",
   "metadata": {},
   "outputs": [],
   "source": [
    "#lambda function\n",
    "\n",
    "n= lambda a,b : a+b\n"
   ]
  },
  {
   "cell_type": "code",
   "execution_count": 11,
   "id": "2df262f4",
   "metadata": {},
   "outputs": [
    {
     "data": {
      "text/plain": [
       "<function __main__.<lambda>(a, b)>"
      ]
     },
     "execution_count": 11,
     "metadata": {},
     "output_type": "execute_result"
    }
   ],
   "source": [
    "n"
   ]
  },
  {
   "cell_type": "code",
   "execution_count": 12,
   "id": "3332c770",
   "metadata": {},
   "outputs": [],
   "source": [
    "def test15(a,b):\n",
    "    return a+b"
   ]
  },
  {
   "cell_type": "code",
   "execution_count": 13,
   "id": "620788a6",
   "metadata": {},
   "outputs": [
    {
     "data": {
      "text/plain": [
       "9"
      ]
     },
     "execution_count": 13,
     "metadata": {},
     "output_type": "execute_result"
    }
   ],
   "source": [
    "test15(4,5)"
   ]
  },
  {
   "cell_type": "code",
   "execution_count": 14,
   "id": "e18a313e",
   "metadata": {},
   "outputs": [
    {
     "data": {
      "text/plain": [
       "10"
      ]
     },
     "execution_count": 14,
     "metadata": {},
     "output_type": "execute_result"
    }
   ],
   "source": [
    "n(5,5)"
   ]
  },
  {
   "cell_type": "code",
   "execution_count": 16,
   "id": "976ef234",
   "metadata": {},
   "outputs": [],
   "source": [
    "b= lambda *sudh: sudh"
   ]
  },
  {
   "cell_type": "code",
   "execution_count": 17,
   "id": "645c067e",
   "metadata": {},
   "outputs": [
    {
     "data": {
      "text/plain": [
       "(435, 243, 112, 41, 4)"
      ]
     },
     "execution_count": 17,
     "metadata": {},
     "output_type": "execute_result"
    }
   ],
   "source": [
    "b(435,243,112,41,4)"
   ]
  },
  {
   "cell_type": "code",
   "execution_count": 18,
   "id": "7314451a",
   "metadata": {},
   "outputs": [],
   "source": [
    "t =(34,35,324,12,53,12)\n",
    "l=[]\n",
    "for i in t:\n",
    "    l.append(i)"
   ]
  },
  {
   "cell_type": "code",
   "execution_count": 19,
   "id": "83fb0f49",
   "metadata": {},
   "outputs": [
    {
     "data": {
      "text/plain": [
       "[34, 35, 324, 12, 53, 12]"
      ]
     },
     "execution_count": 19,
     "metadata": {},
     "output_type": "execute_result"
    }
   ],
   "source": [
    "l"
   ]
  },
  {
   "cell_type": "code",
   "execution_count": 23,
   "id": "30440326",
   "metadata": {},
   "outputs": [
    {
     "data": {
      "text/plain": [
       "[34, 35, 324, 12, 53, 12]"
      ]
     },
     "execution_count": 23,
     "metadata": {},
     "output_type": "execute_result"
    }
   ],
   "source": [
    "[i for i in t]\n",
    "#for i in t return l"
   ]
  },
  {
   "cell_type": "code",
   "execution_count": 24,
   "id": "f24e9ee2",
   "metadata": {},
   "outputs": [],
   "source": [
    "s =\"sudh\""
   ]
  },
  {
   "cell_type": "code",
   "execution_count": 26,
   "id": "17624008",
   "metadata": {},
   "outputs": [
    {
     "data": {
      "text/plain": [
       "['s', 'u', 'd', 'h']"
      ]
     },
     "execution_count": 26,
     "metadata": {},
     "output_type": "execute_result"
    }
   ],
   "source": [
    "[i for i in s ]"
   ]
  },
  {
   "cell_type": "code",
   "execution_count": 28,
   "id": "58969983",
   "metadata": {},
   "outputs": [
    {
     "data": {
      "text/plain": [
       "[0, 1, 4, 9, 16, 25, 36, 49, 64, 81]"
      ]
     },
     "execution_count": 28,
     "metadata": {},
     "output_type": "execute_result"
    }
   ],
   "source": [
    "[i*i for i in range(10)]"
   ]
  },
  {
   "cell_type": "code",
   "execution_count": 33,
   "id": "885ae018",
   "metadata": {},
   "outputs": [],
   "source": [
    "l = lambda *x : [ i**2 for i in x ]"
   ]
  },
  {
   "cell_type": "code",
   "execution_count": 37,
   "id": "6a3fa584",
   "metadata": {},
   "outputs": [
    {
     "data": {
      "text/plain": [
       "[1, 4, 9, 16]"
      ]
     },
     "execution_count": 37,
     "metadata": {},
     "output_type": "execute_result"
    }
   ],
   "source": [
    "l(1,2,3,4)"
   ]
  },
  {
   "cell_type": "code",
   "execution_count": 72,
   "id": "d29ef89a",
   "metadata": {},
   "outputs": [],
   "source": [
    "def test16(**kwargs):\n",
    "    count =0\n",
    "    for v in kwargs.values():\n",
    "        if type(v)==str or type(v)==list:\n",
    "            count=count+1\n",
    "    return count"
   ]
  },
  {
   "cell_type": "code",
   "execution_count": 73,
   "id": "cae36aaa",
   "metadata": {},
   "outputs": [
    {
     "data": {
      "text/plain": [
       "3"
      ]
     },
     "execution_count": 73,
     "metadata": {},
     "output_type": "execute_result"
    }
   ],
   "source": [
    "test16(b=\"Sudh\", c =\"dwar\", l=[2,3,4,5,\"sudg\"])"
   ]
  },
  {
   "cell_type": "code",
   "execution_count": null,
   "id": "c8b34f02",
   "metadata": {},
   "outputs": [],
   "source": []
  }
 ],
 "metadata": {
  "kernelspec": {
   "display_name": "Python 3 (ipykernel)",
   "language": "python",
   "name": "python3"
  },
  "language_info": {
   "codemirror_mode": {
    "name": "ipython",
    "version": 3
   },
   "file_extension": ".py",
   "mimetype": "text/x-python",
   "name": "python",
   "nbconvert_exporter": "python",
   "pygments_lexer": "ipython3",
   "version": "3.9.7"
  }
 },
 "nbformat": 4,
 "nbformat_minor": 5
}
