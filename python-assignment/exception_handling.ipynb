{
 "cells": [
  {
   "cell_type": "code",
   "execution_count": 3,
   "id": "cf5981b0",
   "metadata": {},
   "outputs": [
    {
     "data": {
      "text/plain": [
       "'try\\nexcept\\nelse\\nraise\\nfinally'"
      ]
     },
     "execution_count": 3,
     "metadata": {},
     "output_type": "execute_result"
    }
   ],
   "source": [
    "\"\"\"try\n",
    "except\n",
    "else\n",
    "raise\n",
    "finally\"\"\""
   ]
  },
  {
   "cell_type": "code",
   "execution_count": 5,
   "id": "1d20dfc7",
   "metadata": {},
   "outputs": [
    {
     "name": "stdout",
     "output_type": "stream",
     "text": [
      "Enter Number 2\n",
      "Enter second number 0\n",
      "Cannot divide by zero\n"
     ]
    }
   ],
   "source": [
    "a=int(input(\"Enter Number \"))\n",
    "b= int(input(\"Enter second number \"))\n",
    "try:\n",
    "    c=a/b\n",
    "    print(c)\n",
    "except:\n",
    "    print(\"Cannot divide by zero\")"
   ]
  },
  {
   "cell_type": "code",
   "execution_count": 6,
   "id": "3b57efca",
   "metadata": {},
   "outputs": [
    {
     "name": "stdout",
     "output_type": "stream",
     "text": [
      "Enter Number 2\n",
      "Enter second number 0\n",
      "Cannot divide by zero\n"
     ]
    }
   ],
   "source": [
    "a=int(input(\"Enter Number \"))\n",
    "b= int(input(\"Enter second number \"))\n",
    "try:\n",
    "    c=a/b\n",
    "    print(c)\n",
    "except ZeroDivisionError:\n",
    "    print(\"Cannot divide by zero\")"
   ]
  },
  {
   "cell_type": "code",
   "execution_count": null,
   "id": "fa312d99",
   "metadata": {},
   "outputs": [],
   "source": [
    "a=int(input(\"Enter Number \"))\n",
    "b= int(input(\"Enter second number \"))"
   ]
  }
 ],
 "metadata": {
  "kernelspec": {
   "display_name": "Python 3 (ipykernel)",
   "language": "python",
   "name": "python3"
  },
  "language_info": {
   "codemirror_mode": {
    "name": "ipython",
    "version": 3
   },
   "file_extension": ".py",
   "mimetype": "text/x-python",
   "name": "python",
   "nbconvert_exporter": "python",
   "pygments_lexer": "ipython3",
   "version": "3.9.7"
  }
 },
 "nbformat": 4,
 "nbformat_minor": 5
}
