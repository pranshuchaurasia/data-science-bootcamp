{
 "cells": [
  {
   "cell_type": "code",
   "execution_count": 1,
   "id": "000b1007",
   "metadata": {},
   "outputs": [],
   "source": [
    "# map, reduce , filter functions "
   ]
  },
  {
   "cell_type": "code",
   "execution_count": 3,
   "id": "3feb4962",
   "metadata": {},
   "outputs": [],
   "source": [
    "l=[3,5,6,3,5,2,6,7]"
   ]
  },
  {
   "cell_type": "code",
   "execution_count": 4,
   "id": "1bc55e65",
   "metadata": {},
   "outputs": [],
   "source": [
    "l1=[]"
   ]
  },
  {
   "cell_type": "code",
   "execution_count": 5,
   "id": "21f24bcb",
   "metadata": {},
   "outputs": [],
   "source": [
    "for i in l:\n",
    "    l1.append(i*i)"
   ]
  },
  {
   "cell_type": "code",
   "execution_count": 6,
   "id": "6754cf46",
   "metadata": {},
   "outputs": [
    {
     "data": {
      "text/plain": [
       "[9, 25, 36, 9, 25, 4, 36, 49]"
      ]
     },
     "execution_count": 6,
     "metadata": {},
     "output_type": "execute_result"
    }
   ],
   "source": [
    "l1"
   ]
  },
  {
   "cell_type": "code",
   "execution_count": 8,
   "id": "1a242389",
   "metadata": {},
   "outputs": [],
   "source": [
    "def sq(n):\n",
    "    return(n*n)"
   ]
  },
  {
   "cell_type": "code",
   "execution_count": 12,
   "id": "98b81aa2",
   "metadata": {},
   "outputs": [
    {
     "data": {
      "text/plain": [
       "[9, 25, 36, 9, 25, 4, 36, 49]"
      ]
     },
     "execution_count": 12,
     "metadata": {},
     "output_type": "execute_result"
    }
   ],
   "source": [
    "list(map(sq,l))"
   ]
  },
  {
   "cell_type": "code",
   "execution_count": 13,
   "id": "ac37591e",
   "metadata": {},
   "outputs": [
    {
     "data": {
      "text/plain": [
       "[9, 25, 36, 9, 25, 4, 36, 49]"
      ]
     },
     "execution_count": 13,
     "metadata": {},
     "output_type": "execute_result"
    }
   ],
   "source": [
    "list(map(lambda x: x*x,l))"
   ]
  },
  {
   "cell_type": "code",
   "execution_count": 14,
   "id": "288ca203",
   "metadata": {},
   "outputs": [
    {
     "data": {
      "text/plain": [
       "['3', '5', '6', '3', '5', '2', '6', '7']"
      ]
     },
     "execution_count": 14,
     "metadata": {},
     "output_type": "execute_result"
    }
   ],
   "source": [
    "def str_c(n):\n",
    "    return str(n)\n",
    "list(map(str_c,l))"
   ]
  },
  {
   "cell_type": "code",
   "execution_count": 15,
   "id": "955c5094",
   "metadata": {},
   "outputs": [
    {
     "data": {
      "text/plain": [
       "['3', '5', '6', '3', '5', '2', '6', '7']"
      ]
     },
     "execution_count": 15,
     "metadata": {},
     "output_type": "execute_result"
    }
   ],
   "source": [
    "list(map(str,l))"
   ]
  },
  {
   "cell_type": "code",
   "execution_count": 16,
   "id": "083ec520",
   "metadata": {},
   "outputs": [],
   "source": [
    "from functools import reduce"
   ]
  },
  {
   "cell_type": "code",
   "execution_count": 17,
   "id": "e9db9990",
   "metadata": {},
   "outputs": [],
   "source": [
    "l=[3,5,6,3,5,2,6,7]"
   ]
  },
  {
   "cell_type": "code",
   "execution_count": 18,
   "id": "c7b7f7a5",
   "metadata": {},
   "outputs": [
    {
     "data": {
      "text/plain": [
       "37"
      ]
     },
     "execution_count": 18,
     "metadata": {},
     "output_type": "execute_result"
    }
   ],
   "source": [
    "sum(l)"
   ]
  },
  {
   "cell_type": "code",
   "execution_count": 19,
   "id": "92c220bf",
   "metadata": {},
   "outputs": [
    {
     "data": {
      "text/plain": [
       "37"
      ]
     },
     "execution_count": 19,
     "metadata": {},
     "output_type": "execute_result"
    }
   ],
   "source": [
    "reduce(lambda a,b:a+b,l)"
   ]
  },
  {
   "cell_type": "code",
   "execution_count": null,
   "id": "599a018c",
   "metadata": {},
   "outputs": [],
   "source": [
    " "
   ]
  }
 ],
 "metadata": {
  "kernelspec": {
   "display_name": "Python 3 (ipykernel)",
   "language": "python",
   "name": "python3"
  },
  "language_info": {
   "codemirror_mode": {
    "name": "ipython",
    "version": 3
   },
   "file_extension": ".py",
   "mimetype": "text/x-python",
   "name": "python",
   "nbconvert_exporter": "python",
   "pygments_lexer": "ipython3",
   "version": "3.9.7"
  }
 },
 "nbformat": 4,
 "nbformat_minor": 5
}
