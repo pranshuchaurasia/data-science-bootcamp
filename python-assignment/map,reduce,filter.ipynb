{
 "cells": [
  {
   "cell_type": "code",
   "execution_count": 1,
   "id": "000b1007",
   "metadata": {},
   "outputs": [],
   "source": [
    "# map, reduce , filter functions "
   ]
  },
  {
   "cell_type": "code",
   "execution_count": 2,
   "id": "3feb4962",
   "metadata": {},
   "outputs": [],
   "source": [
    "l=[3,5,6,3,5,2,6,7]"
   ]
  },
  {
   "cell_type": "code",
   "execution_count": null,
   "id": "1bc55e65",
   "metadata": {},
   "outputs": [],
   "source": []
  }
 ],
 "metadata": {
  "kernelspec": {
   "display_name": "Python 3 (ipykernel)",
   "language": "python",
   "name": "python3"
  },
  "language_info": {
   "codemirror_mode": {
    "name": "ipython",
    "version": 3
   },
   "file_extension": ".py",
   "mimetype": "text/x-python",
   "name": "python",
   "nbconvert_exporter": "python",
   "pygments_lexer": "ipython3",
   "version": "3.9.7"
  }
 },
 "nbformat": 4,
 "nbformat_minor": 5
}
