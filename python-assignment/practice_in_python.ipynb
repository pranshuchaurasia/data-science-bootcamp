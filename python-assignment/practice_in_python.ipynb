{
 "cells": [
  {
   "cell_type": "code",
   "execution_count": 1,
   "id": "560b9260",
   "metadata": {},
   "outputs": [],
   "source": [
    "l=[4,4+4j,\"hello\"]"
   ]
  },
  {
   "cell_type": "code",
   "execution_count": 2,
   "id": "dc056344",
   "metadata": {},
   "outputs": [
    {
     "data": {
      "text/plain": [
       "list"
      ]
     },
     "execution_count": 2,
     "metadata": {},
     "output_type": "execute_result"
    }
   ],
   "source": [
    "type(l)"
   ]
  },
  {
   "cell_type": "code",
   "execution_count": 3,
   "id": "a535c6c7",
   "metadata": {},
   "outputs": [],
   "source": [
    "t=(4,4+4j,\"hello\")"
   ]
  },
  {
   "cell_type": "code",
   "execution_count": 4,
   "id": "050f6b78",
   "metadata": {},
   "outputs": [
    {
     "data": {
      "text/plain": [
       "tuple"
      ]
     },
     "execution_count": 4,
     "metadata": {},
     "output_type": "execute_result"
    }
   ],
   "source": [
    "type(t)"
   ]
  },
  {
   "cell_type": "code",
   "execution_count": 5,
   "id": "aa0d35f4",
   "metadata": {},
   "outputs": [],
   "source": [
    "d={'a':\"hello\",\"b\":\"world\",\"c\": 1234}"
   ]
  },
  {
   "cell_type": "code",
   "execution_count": 6,
   "id": "ccbb0e70",
   "metadata": {},
   "outputs": [
    {
     "data": {
      "text/plain": [
       "dict"
      ]
     },
     "execution_count": 6,
     "metadata": {},
     "output_type": "execute_result"
    }
   ],
   "source": [
    "type(d)"
   ]
  },
  {
   "cell_type": "code",
   "execution_count": 7,
   "id": "240a7d95",
   "metadata": {},
   "outputs": [
    {
     "name": "stdout",
     "output_type": "stream",
     "text": [
      "hello world\n"
     ]
    }
   ],
   "source": [
    "a=10\n",
    "b=20\n",
    "\n",
    "if a ==10 and b == 20 :\n",
    "    print(\"hello world\");"
   ]
  },
  {
   "cell_type": "code",
   "execution_count": 1,
   "id": "9d979653",
   "metadata": {},
   "outputs": [
    {
     "name": "stdout",
     "output_type": "stream",
     "text": [
      "45\n",
      "0\n",
      "1\n",
      "3\n",
      "6\n",
      "10\n",
      "15\n",
      "21\n",
      "28\n",
      "36\n",
      "45\n"
     ]
    }
   ],
   "source": [
    "# Return keyword\n",
    "def fun():\n",
    "\tS = 0\n",
    "\t\n",
    "\tfor i in range(10):\n",
    "\t\tS += i\n",
    "\treturn S\n",
    "\n",
    "print(fun())\n",
    "\n",
    "# Yield Keyword\n",
    "def fun():\n",
    "\tS = 0\n",
    "\t\n",
    "\tfor i in range(10):\n",
    "\t\tS += i\n",
    "\t\tyield S\n",
    "\n",
    "for i in fun():\n",
    "\tprint(i)\n"
   ]
  },
  {
   "cell_type": "code",
   "execution_count": 3,
   "id": "afe6e215",
   "metadata": {},
   "outputs": [
    {
     "name": "stdout",
     "output_type": "stream",
     "text": [
      "1\n",
      "2\n",
      "3\n",
      "4\n",
      "practice while else\n"
     ]
    }
   ],
   "source": [
    "notes = 5\n",
    "i=1\n",
    "while i< notes:\n",
    "    print(i)\n",
    "    i+=1\n",
    "else:\n",
    "    print(\"practice while else\")"
   ]
  },
  {
   "cell_type": "code",
   "execution_count": 4,
   "id": "54d2d897",
   "metadata": {},
   "outputs": [],
   "source": [
    "s=\"sudh\""
   ]
  },
  {
   "cell_type": "code",
   "execution_count": 5,
   "id": "f8c56980",
   "metadata": {},
   "outputs": [
    {
     "data": {
      "text/plain": [
       "'sudh'"
      ]
     },
     "execution_count": 5,
     "metadata": {},
     "output_type": "execute_result"
    }
   ],
   "source": [
    "s"
   ]
  },
  {
   "cell_type": "code",
   "execution_count": 7,
   "id": "c6b1b64f",
   "metadata": {},
   "outputs": [
    {
     "data": {
      "text/plain": [
       "'h'"
      ]
     },
     "execution_count": 7,
     "metadata": {},
     "output_type": "execute_result"
    }
   ],
   "source": [
    "s[3]"
   ]
  },
  {
   "cell_type": "code",
   "execution_count": 8,
   "id": "96e88a79",
   "metadata": {},
   "outputs": [],
   "source": [
    "s= \"my name is Pranshu\""
   ]
  },
  {
   "cell_type": "code",
   "execution_count": 14,
   "id": "bce16cb7",
   "metadata": {},
   "outputs": [
    {
     "data": {
      "text/plain": [
       "'uhsnarP si eman y'"
      ]
     },
     "execution_count": 14,
     "metadata": {},
     "output_type": "execute_result"
    }
   ],
   "source": [
    "s[20:0:-1]"
   ]
  },
  {
   "cell_type": "code",
   "execution_count": 18,
   "id": "089d6ed9",
   "metadata": {},
   "outputs": [
    {
     "data": {
      "text/plain": [
       "'y name is P'"
      ]
     },
     "execution_count": 18,
     "metadata": {},
     "output_type": "execute_result"
    }
   ],
   "source": [
    "s[1:-6]"
   ]
  },
  {
   "cell_type": "code",
   "execution_count": 27,
   "id": "379070d3",
   "metadata": {},
   "outputs": [
    {
     "name": "stdout",
     "output_type": "stream",
     "text": [
      "m\n",
      "y\n",
      " \n"
     ]
    }
   ],
   "source": [
    "# iterate through a string\n",
    "for i in s:\n",
    "    if i== 'n':\n",
    "        break;\n",
    "        print(\"a here\")\n",
    "    print(i)\n",
    "else:\n",
    "    if i=='u':\n",
    "        print(\"last u\")\n",
    "    print('After for loop end print this')"
   ]
  },
  {
   "cell_type": "code",
   "execution_count": 30,
   "id": "16450cfa",
   "metadata": {},
   "outputs": [],
   "source": [
    "s= \"INEURON\"\n",
    "ss=\"\"\n",
    "for i in range (len(s)):\n",
    "    if s[i]==\"N\":\n",
    "        continue\n",
    "    else:\n",
    "        ss+=s[i];"
   ]
  },
  {
   "cell_type": "code",
   "execution_count": 31,
   "id": "81e9281a",
   "metadata": {},
   "outputs": [
    {
     "data": {
      "text/plain": [
       "'IEURO'"
      ]
     },
     "execution_count": 31,
     "metadata": {},
     "output_type": "execute_result"
    }
   ],
   "source": [
    "ss"
   ]
  },
  {
   "cell_type": "code",
   "execution_count": 32,
   "id": "3d819c29",
   "metadata": {},
   "outputs": [
    {
     "data": {
      "text/plain": [
       "5"
      ]
     },
     "execution_count": 32,
     "metadata": {},
     "output_type": "execute_result"
    }
   ],
   "source": [
    "len(ss)"
   ]
  },
  {
   "cell_type": "code",
   "execution_count": 34,
   "id": "83b69bf6",
   "metadata": {},
   "outputs": [
    {
     "data": {
      "text/plain": [
       "7"
      ]
     },
     "execution_count": 34,
     "metadata": {},
     "output_type": "execute_result"
    }
   ],
   "source": [
    "len(s)"
   ]
  },
  {
   "cell_type": "code",
   "execution_count": 43,
   "id": "9a3a423a",
   "metadata": {},
   "outputs": [
    {
     "name": "stdout",
     "output_type": "stream",
     "text": [
      "+ \r\n",
      "+ + \r\n",
      "+ + + \r\n",
      "+ + + + \r\n",
      "+ + + + + \r\n",
      "+ + + + + + \r\n",
      "+ + + + + + + \r\n"
     ]
    }
   ],
   "source": [
    "#/n new line with space and /r new line without space\n",
    "n=7\n",
    "for i in range(0,n):\n",
    "    for j in range (0,i+1):\n",
    "        print(\"+ \",end=\"\")\n",
    "    print('\\r')"
   ]
  },
  {
   "cell_type": "code",
   "execution_count": 46,
   "id": "bff5c0a4",
   "metadata": {},
   "outputs": [
    {
     "name": "stdout",
     "output_type": "stream",
     "text": [
      "* * * * * * \r\n",
      " * * * * * \r\n",
      "  * * * * \r\n",
      "   * * * \r\n",
      "    * * \r\n",
      "     * \r\n",
      "      \r\n"
     ]
    }
   ],
   "source": [
    "n=7\n",
    "for i in range (0,7):\n",
    "    for k in range (0,i):\n",
    "        print(\" \",end=\"\")\n",
    "    for j in range (n-i,1,-1):\n",
    "        print(\"*\",end=\" \")\n",
    "    print('\\r')\n",
    "\n"
   ]
  },
  {
   "cell_type": "code",
   "execution_count": 19,
   "id": "ec4b830c",
   "metadata": {},
   "outputs": [
    {
     "name": "stdout",
     "output_type": "stream",
     "text": [
      "      *\r\n",
      "     ***\r\n",
      "    *****\r\n",
      "   *******\r\n",
      "  *********\r\n",
      " ***********\r\n",
      "*************\r\n"
     ]
    }
   ],
   "source": [
    "row =7\n",
    "m=1\n",
    "for i in range (0,row):\n",
    "    for j in range (i,row-1):\n",
    "        print(\" \",end=\"\")\n",
    "    for k in range (0,m):\n",
    "        print('*',end=\"\")\n",
    "    print('\\r')\n",
    "    m+=2"
   ]
  },
  {
   "cell_type": "code",
   "execution_count": 22,
   "id": "3440dde4",
   "metadata": {},
   "outputs": [
    {
     "name": "stdout",
     "output_type": "stream",
     "text": [
      "     *\r\n",
      "    ***\r\n",
      "   *****\r\n",
      "  *******\r\n",
      " *********\r\n"
     ]
    }
   ],
   "source": [
    "row =5\n",
    "m=1\n",
    "i=0\n",
    "while (i<row):\n",
    "    j=i\n",
    "    #print(j)\n",
    "    while (j<row):\n",
    "        print(\" \",end=\"\")\n",
    "        j+=1;\n",
    "    k=0;\n",
    "    while (k<m):\n",
    "       print('*',end=\"\")\n",
    "       k+=1\n",
    "    print('\\r')\n",
    "    i+=1;\n",
    "    m+=2"
   ]
  },
  {
   "cell_type": "code",
   "execution_count": 23,
   "id": "47b5dcf0",
   "metadata": {},
   "outputs": [
    {
     "name": "stdout",
     "output_type": "stream",
     "text": [
      "0\n",
      "1\n",
      "2\n"
     ]
    }
   ],
   "source": [
    "for i in range (3):\n",
    "    print (i)"
   ]
  },
  {
   "cell_type": "code",
   "execution_count": 24,
   "id": "d73de92c",
   "metadata": {},
   "outputs": [
    {
     "name": "stdout",
     "output_type": "stream",
     "text": [
      "        * \n",
      "       * * \n",
      "      * * * \n",
      "     * * * * \n",
      "    * * * * * \n",
      "   * * * * * * \n",
      "  * * * * * * * \n",
      " * * * * * * * * \n",
      "* * * * * * * * * \n"
     ]
    }
   ],
   "source": [
    "n=9\n",
    "i=0\n",
    "while i<n:\n",
    "    print(' '*(n-i-1)+ '* '*(i+1))\n",
    "    i+=1"
   ]
  },
  {
   "cell_type": "code",
   "execution_count": 25,
   "id": "7acc1577",
   "metadata": {},
   "outputs": [],
   "source": [
    "l=list()"
   ]
  },
  {
   "cell_type": "code",
   "execution_count": 48,
   "id": "dc1cf75b",
   "metadata": {},
   "outputs": [],
   "source": [
    "l=[\"hello\",454534,\"world\",[3,4,5,\"yoyo\"]]"
   ]
  },
  {
   "cell_type": "code",
   "execution_count": 49,
   "id": "c1b2524a",
   "metadata": {},
   "outputs": [
    {
     "name": "stdout",
     "output_type": "stream",
     "text": [
      "<class 'str'>\n",
      "<class 'int'>\n",
      "<class 'str'>\n",
      "<class 'list'>\n"
     ]
    }
   ],
   "source": [
    "for i in l:\n",
    "    print (type(i))"
   ]
  },
  {
   "cell_type": "code",
   "execution_count": 43,
   "id": "c6e20ec5",
   "metadata": {},
   "outputs": [],
   "source": [
    "l1=list()"
   ]
  },
  {
   "cell_type": "code",
   "execution_count": 44,
   "id": "309ade53",
   "metadata": {},
   "outputs": [],
   "source": [
    "l1=l"
   ]
  },
  {
   "cell_type": "code",
   "execution_count": 45,
   "id": "8b9f147c",
   "metadata": {},
   "outputs": [
    {
     "data": {
      "text/plain": [
       "454534"
      ]
     },
     "execution_count": 45,
     "metadata": {},
     "output_type": "execute_result"
    }
   ],
   "source": [
    "l1[1]"
   ]
  },
  {
   "cell_type": "code",
   "execution_count": 55,
   "id": "d07039d8",
   "metadata": {},
   "outputs": [
    {
     "name": "stdout",
     "output_type": "stream",
     "text": [
      "3\n",
      "4\n",
      "5\n"
     ]
    }
   ],
   "source": [
    "for i in l:\n",
    "    if(type(i)==list):\n",
    "        for j in i:\n",
    "            if type(j)==int:\n",
    "               print(j)\n",
    "            #print(type(j))"
   ]
  },
  {
   "cell_type": "code",
   "execution_count": null,
   "id": "b61b8161",
   "metadata": {},
   "outputs": [],
   "source": []
  }
 ],
 "metadata": {
  "kernelspec": {
   "display_name": "Python 3 (ipykernel)",
   "language": "python",
   "name": "python3"
  },
  "language_info": {
   "codemirror_mode": {
    "name": "ipython",
    "version": 3
   },
   "file_extension": ".py",
   "mimetype": "text/x-python",
   "name": "python",
   "nbconvert_exporter": "python",
   "pygments_lexer": "ipython3",
   "version": "3.9.7"
  }
 },
 "nbformat": 4,
 "nbformat_minor": 5
}
