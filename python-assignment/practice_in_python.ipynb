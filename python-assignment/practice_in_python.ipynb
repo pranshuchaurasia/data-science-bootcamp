{
 "cells": [
  {
   "cell_type": "code",
   "execution_count": 1,
   "id": "560b9260",
   "metadata": {},
   "outputs": [],
   "source": [
    "l=[4,4+4j,\"hello\"]"
   ]
  },
  {
   "cell_type": "code",
   "execution_count": 2,
   "id": "dc056344",
   "metadata": {},
   "outputs": [
    {
     "data": {
      "text/plain": [
       "list"
      ]
     },
     "execution_count": 2,
     "metadata": {},
     "output_type": "execute_result"
    }
   ],
   "source": [
    "type(l)"
   ]
  },
  {
   "cell_type": "code",
   "execution_count": 3,
   "id": "a535c6c7",
   "metadata": {},
   "outputs": [],
   "source": [
    "t=(4,4+4j,\"hello\")"
   ]
  },
  {
   "cell_type": "code",
   "execution_count": 4,
   "id": "050f6b78",
   "metadata": {},
   "outputs": [
    {
     "data": {
      "text/plain": [
       "tuple"
      ]
     },
     "execution_count": 4,
     "metadata": {},
     "output_type": "execute_result"
    }
   ],
   "source": [
    "type(t)"
   ]
  },
  {
   "cell_type": "code",
   "execution_count": 5,
   "id": "aa0d35f4",
   "metadata": {},
   "outputs": [],
   "source": [
    "d={'a':\"hello\",\"b\":\"world\",\"c\": 1234}"
   ]
  },
  {
   "cell_type": "code",
   "execution_count": 6,
   "id": "ccbb0e70",
   "metadata": {},
   "outputs": [
    {
     "data": {
      "text/plain": [
       "dict"
      ]
     },
     "execution_count": 6,
     "metadata": {},
     "output_type": "execute_result"
    }
   ],
   "source": [
    "type(d)"
   ]
  },
  {
   "cell_type": "code",
   "execution_count": 7,
   "id": "240a7d95",
   "metadata": {},
   "outputs": [
    {
     "name": "stdout",
     "output_type": "stream",
     "text": [
      "hello world\n"
     ]
    }
   ],
   "source": [
    "a=10\n",
    "b=20\n",
    "\n",
    "if a ==10 and b == 20 :\n",
    "    print(\"hello world\");"
   ]
  },
  {
   "cell_type": "code",
   "execution_count": 1,
   "id": "9d979653",
   "metadata": {},
   "outputs": [
    {
     "name": "stdout",
     "output_type": "stream",
     "text": [
      "45\n",
      "0\n",
      "1\n",
      "3\n",
      "6\n",
      "10\n",
      "15\n",
      "21\n",
      "28\n",
      "36\n",
      "45\n"
     ]
    }
   ],
   "source": [
    "# Return keyword\n",
    "def fun():\n",
    "\tS = 0\n",
    "\t\n",
    "\tfor i in range(10):\n",
    "\t\tS += i\n",
    "\treturn S\n",
    "\n",
    "print(fun())\n",
    "\n",
    "# Yield Keyword\n",
    "def fun():\n",
    "\tS = 0\n",
    "\t\n",
    "\tfor i in range(10):\n",
    "\t\tS += i\n",
    "\t\tyield S\n",
    "\n",
    "for i in fun():\n",
    "\tprint(i)\n"
   ]
  },
  {
   "cell_type": "code",
   "execution_count": 3,
   "id": "afe6e215",
   "metadata": {},
   "outputs": [
    {
     "name": "stdout",
     "output_type": "stream",
     "text": [
      "1\n",
      "2\n",
      "3\n",
      "4\n",
      "practice while else\n"
     ]
    }
   ],
   "source": [
    "notes = 5\n",
    "i=1\n",
    "while i< notes:\n",
    "    print(i)\n",
    "    i+=1\n",
    "else:\n",
    "    print(\"practice while else\")"
   ]
  },
  {
   "cell_type": "code",
   "execution_count": 4,
   "id": "5789927e",
   "metadata": {},
   "outputs": [],
   "source": [
    "s=\"sudh\""
   ]
  },
  {
   "cell_type": "code",
   "execution_count": 5,
   "id": "6a1cc219",
   "metadata": {},
   "outputs": [
    {
     "data": {
      "text/plain": [
       "'sudh'"
      ]
     },
     "execution_count": 5,
     "metadata": {},
     "output_type": "execute_result"
    }
   ],
   "source": [
    "s"
   ]
  },
  {
   "cell_type": "code",
   "execution_count": 7,
   "id": "746daa77",
   "metadata": {},
   "outputs": [
    {
     "data": {
      "text/plain": [
       "'h'"
      ]
     },
     "execution_count": 7,
     "metadata": {},
     "output_type": "execute_result"
    }
   ],
   "source": [
    "s[3]"
   ]
  },
  {
   "cell_type": "code",
   "execution_count": 8,
   "id": "752ed804",
   "metadata": {},
   "outputs": [],
   "source": [
    "s= \"my name is Pranshu\""
   ]
  },
  {
   "cell_type": "code",
   "execution_count": 14,
   "id": "594fcde3",
   "metadata": {},
   "outputs": [
    {
     "data": {
      "text/plain": [
       "'uhsnarP si eman y'"
      ]
     },
     "execution_count": 14,
     "metadata": {},
     "output_type": "execute_result"
    }
   ],
   "source": [
    "s[20:0:-1]"
   ]
  },
  {
   "cell_type": "code",
   "execution_count": 18,
   "id": "7a469d0f",
   "metadata": {},
   "outputs": [
    {
     "data": {
      "text/plain": [
       "'y name is P'"
      ]
     },
     "execution_count": 18,
     "metadata": {},
     "output_type": "execute_result"
    }
   ],
   "source": [
    "s[1:-6]"
   ]
  },
  {
   "cell_type": "code",
   "execution_count": 27,
   "id": "2cc4ee0c",
   "metadata": {},
   "outputs": [
    {
     "name": "stdout",
     "output_type": "stream",
     "text": [
      "m\n",
      "y\n",
      " \n"
     ]
    }
   ],
   "source": [
    "# iterate through a string\n",
    "for i in s:\n",
    "    if i== 'n':\n",
    "        break;\n",
    "        print(\"a here\")\n",
    "    print(i)\n",
    "else:\n",
    "    if i=='u':\n",
    "        print(\"last u\")\n",
    "    print('After for loop end print this')"
   ]
  },
  {
   "cell_type": "code",
   "execution_count": 30,
   "id": "a7996872",
   "metadata": {},
   "outputs": [],
   "source": [
    "s= \"INEURON\"\n",
    "ss=\"\"\n",
    "for i in range (len(s)):\n",
    "    if s[i]==\"N\":\n",
    "        continue\n",
    "    else:\n",
    "        ss+=s[i];"
   ]
  },
  {
   "cell_type": "code",
   "execution_count": 31,
   "id": "d85e5cf6",
   "metadata": {},
   "outputs": [
    {
     "data": {
      "text/plain": [
       "'IEURO'"
      ]
     },
     "execution_count": 31,
     "metadata": {},
     "output_type": "execute_result"
    }
   ],
   "source": [
    "ss"
   ]
  },
  {
   "cell_type": "code",
   "execution_count": 32,
   "id": "a7aa2e67",
   "metadata": {},
   "outputs": [
    {
     "data": {
      "text/plain": [
       "5"
      ]
     },
     "execution_count": 32,
     "metadata": {},
     "output_type": "execute_result"
    }
   ],
   "source": [
    "len(ss)"
   ]
  },
  {
   "cell_type": "code",
   "execution_count": 34,
   "id": "c36857c6",
   "metadata": {},
   "outputs": [
    {
     "data": {
      "text/plain": [
       "7"
      ]
     },
     "execution_count": 34,
     "metadata": {},
     "output_type": "execute_result"
    }
   ],
   "source": [
    "len(s)"
   ]
  },
  {
   "cell_type": "code",
   "execution_count": 43,
   "id": "10bf8aae",
   "metadata": {},
   "outputs": [
    {
     "name": "stdout",
     "output_type": "stream",
     "text": [
      "+ \r\n",
      "+ + \r\n",
      "+ + + \r\n",
      "+ + + + \r\n",
      "+ + + + + \r\n",
      "+ + + + + + \r\n",
      "+ + + + + + + \r\n"
     ]
    }
   ],
   "source": [
    "#/n new line with space and /r new line without space\n",
    "n=7\n",
    "for i in range(0,n):\n",
    "    for j in range (0,i+1):\n",
    "        print(\"+ \",end=\"\")\n",
    "    print('\\r')"
   ]
  },
  {
   "cell_type": "code",
   "execution_count": 46,
   "id": "ac5f8499",
   "metadata": {},
   "outputs": [
    {
     "name": "stdout",
     "output_type": "stream",
     "text": [
      "* * * * * * \r\n",
      " * * * * * \r\n",
      "  * * * * \r\n",
      "   * * * \r\n",
      "    * * \r\n",
      "     * \r\n",
      "      \r\n"
     ]
    }
   ],
   "source": [
    "n=7\n",
    "for i in range (0,7):\n",
    "    for k in range (0,i):\n",
    "        print(\" \",end=\"\")\n",
    "    for j in range (n-i,1,-1):\n",
    "        print(\"*\",end=\" \")\n",
    "    print('\\r')\n",
    "\n"
   ]
  },
  {
   "cell_type": "code",
   "execution_count": 19,
   "id": "3136e61d",
   "metadata": {},
   "outputs": [
    {
     "name": "stdout",
     "output_type": "stream",
     "text": [
      "      *\r\n",
      "     ***\r\n",
      "    *****\r\n",
      "   *******\r\n",
      "  *********\r\n",
      " ***********\r\n",
      "*************\r\n"
     ]
    }
   ],
   "source": [
    "row =7\n",
    "m=1\n",
    "for i in range (0,row):\n",
    "    for j in range (i,row-1):\n",
    "        print(\" \",end=\"\")\n",
    "    for k in range (0,m):\n",
    "        print('*',end=\"\")\n",
    "    print('\\r')\n",
    "    m+=2"
   ]
  },
  {
   "cell_type": "code",
   "execution_count": 22,
   "id": "1a4066b9",
   "metadata": {},
   "outputs": [
    {
     "name": "stdout",
     "output_type": "stream",
     "text": [
      "     *\r\n",
      "    ***\r\n",
      "   *****\r\n",
      "  *******\r\n",
      " *********\r\n"
     ]
    }
   ],
   "source": [
    "row =5\n",
    "m=1\n",
    "i=0\n",
    "while (i<row):\n",
    "    j=i\n",
    "    #print(j)\n",
    "    while (j<row):\n",
    "        print(\" \",end=\"\")\n",
    "        j+=1;\n",
    "    k=0;\n",
    "    while (k<m):\n",
    "       print('*',end=\"\")\n",
    "       k+=1\n",
    "    print('\\r')\n",
    "    i+=1;\n",
    "    m+=2"
   ]
  },
  {
   "cell_type": "code",
   "execution_count": 23,
   "id": "7d3e5e5f",
   "metadata": {},
   "outputs": [
    {
     "name": "stdout",
     "output_type": "stream",
     "text": [
      "0\n",
      "1\n",
      "2\n"
     ]
    }
   ],
   "source": [
    "for i in range (3):\n",
    "    print (i)"
   ]
  },
  {
   "cell_type": "code",
   "execution_count": 24,
   "id": "acf9aa4a",
   "metadata": {},
   "outputs": [
    {
     "name": "stdout",
     "output_type": "stream",
     "text": [
      "        * \n",
      "       * * \n",
      "      * * * \n",
      "     * * * * \n",
      "    * * * * * \n",
      "   * * * * * * \n",
      "  * * * * * * * \n",
      " * * * * * * * * \n",
      "* * * * * * * * * \n"
     ]
    }
   ],
   "source": [
    "n=9\n",
    "i=0\n",
    "while i<n:\n",
    "    print(' '*(n-i-1)+ '* '*(i+1))\n",
    "    i+=1"
   ]
  },
  {
   "cell_type": "code",
   "execution_count": 25,
   "id": "0b200701",
   "metadata": {},
   "outputs": [],
   "source": [
    "l=list()"
   ]
  },
  {
   "cell_type": "code",
   "execution_count": 48,
   "id": "b8526e93",
   "metadata": {},
   "outputs": [],
   "source": [
    "l=[\"hello\",454534,\"world\",[3,4,5,\"yoyo\"]]"
   ]
  },
  {
   "cell_type": "code",
   "execution_count": 49,
   "id": "1687a8c8",
   "metadata": {},
   "outputs": [
    {
     "name": "stdout",
     "output_type": "stream",
     "text": [
      "<class 'str'>\n",
      "<class 'int'>\n",
      "<class 'str'>\n",
      "<class 'list'>\n"
     ]
    }
   ],
   "source": [
    "for i in l:\n",
    "    print (type(i))"
   ]
  },
  {
   "cell_type": "code",
   "execution_count": 43,
   "id": "3aadfdaa",
   "metadata": {},
   "outputs": [],
   "source": [
    "l1=list()"
   ]
  },
  {
   "cell_type": "code",
   "execution_count": 44,
   "id": "819db830",
   "metadata": {},
   "outputs": [],
   "source": [
    "l1=l"
   ]
  },
  {
   "cell_type": "code",
   "execution_count": 45,
   "id": "f5fadc0a",
   "metadata": {},
   "outputs": [
    {
     "data": {
      "text/plain": [
       "454534"
      ]
     },
     "execution_count": 45,
     "metadata": {},
     "output_type": "execute_result"
    }
   ],
   "source": [
    "l1[1]"
   ]
  },
  {
   "cell_type": "code",
   "execution_count": 55,
   "id": "96ac6df8",
   "metadata": {},
   "outputs": [
    {
     "name": "stdout",
     "output_type": "stream",
     "text": [
      "3\n",
      "4\n",
      "5\n"
     ]
    }
   ],
   "source": [
    "for i in l:\n",
    "    if(type(i)==list):\n",
    "        for j in i:\n",
    "            if type(j)==int:\n",
    "               print(j)\n",
    "            #print(type(j))"
   ]
  },
  {
   "cell_type": "code",
   "execution_count": 56,
   "id": "365bbe71",
   "metadata": {},
   "outputs": [
    {
     "data": {
      "text/plain": [
       "[0, 1, 2, 3, 4, 5, 6, 7, 8, 9]"
      ]
     },
     "execution_count": 56,
     "metadata": {},
     "output_type": "execute_result"
    }
   ],
   "source": [
    "list(range(10))"
   ]
  },
  {
   "cell_type": "code",
   "execution_count": 58,
   "id": "0493e485",
   "metadata": {},
   "outputs": [
    {
     "name": "stdout",
     "output_type": "stream",
     "text": [
      "I have99bur\n"
     ]
    }
   ],
   "source": [
    "print( 'I have'+'99'+'bur')"
   ]
  },
  {
   "cell_type": "code",
   "execution_count": 4,
   "id": "3ee45641",
   "metadata": {},
   "outputs": [],
   "source": [
    "sw=\"\"\"An unidentified flying object is any perceived aerial phenomenon that cannot be immediately identified or explained. On investigation, most UFOs are identified as known objects or atmospheric phenomena, while a small number remain unexplained.\"\"\""
   ]
  },
  {
   "cell_type": "code",
   "execution_count": 5,
   "id": "16012ed4",
   "metadata": {},
   "outputs": [
    {
     "data": {
      "text/plain": [
       "['An',\n",
       " 'unidentified',\n",
       " 'flying',\n",
       " 'object',\n",
       " 'is',\n",
       " 'any',\n",
       " 'perceived',\n",
       " 'aerial',\n",
       " 'phenomenon',\n",
       " 'that',\n",
       " 'cannot',\n",
       " 'be',\n",
       " 'immediately',\n",
       " 'identified',\n",
       " 'or',\n",
       " 'explained.',\n",
       " 'On',\n",
       " 'investigation,',\n",
       " 'most',\n",
       " 'UFOs',\n",
       " 'are',\n",
       " 'identified',\n",
       " 'as',\n",
       " 'known',\n",
       " 'objects',\n",
       " 'or',\n",
       " 'atmospheric',\n",
       " 'phenomena,',\n",
       " 'while',\n",
       " 'a',\n",
       " 'small',\n",
       " 'number',\n",
       " 'remain',\n",
       " 'unexplained.']"
      ]
     },
     "execution_count": 5,
     "metadata": {},
     "output_type": "execute_result"
    }
   ],
   "source": [
    "sw.split()"
   ]
  },
  {
   "cell_type": "code",
   "execution_count": 6,
   "id": "2b66f339",
   "metadata": {},
   "outputs": [
    {
     "data": {
      "text/plain": [
       "['An unidentified flying object is any perceived aerial phenomenon that cannot be immediately identified or explained. On investigation, most UFOs are identified as known objects or atmospheric phenomena, ',\n",
       " ' a small number remain unexplained.']"
      ]
     },
     "execution_count": 6,
     "metadata": {},
     "output_type": "execute_result"
    }
   ],
   "source": [
    "sw.split('while')"
   ]
  },
  {
   "cell_type": "code",
   "execution_count": 7,
   "id": "7f9d06dd",
   "metadata": {},
   "outputs": [
    {
     "data": {
      "text/plain": [
       "'AN UNIDENTIFIED FLYING OBJECT IS ANY PERCEIVED AERIAL PHENOMENON THAT CANNOT BE IMMEDIATELY IDENTIFIED OR EXPLAINED. ON INVESTIGATION, MOST UFOS ARE IDENTIFIED AS KNOWN OBJECTS OR ATMOSPHERIC PHENOMENA, WHILE A SMALL NUMBER REMAIN UNEXPLAINED.'"
      ]
     },
     "execution_count": 7,
     "metadata": {},
     "output_type": "execute_result"
    }
   ],
   "source": [
    "#convert entire data into uppercase\n",
    "sw.upper()"
   ]
  },
  {
   "cell_type": "code",
   "execution_count": 8,
   "id": "310cc04a",
   "metadata": {},
   "outputs": [
    {
     "data": {
      "text/plain": [
       "'an unidentified flying object is any perceived aerial phenomenon that cannot be immediately identified or explained. on investigation, most ufos are identified as known objects or atmospheric phenomena, while a small number remain unexplained.'"
      ]
     },
     "execution_count": 8,
     "metadata": {},
     "output_type": "execute_result"
    }
   ],
   "source": [
    "sw.lower()"
   ]
  },
  {
   "cell_type": "code",
   "execution_count": 9,
   "id": "24aa2981",
   "metadata": {},
   "outputs": [
    {
     "data": {
      "text/plain": [
       "'An unidentified flying object is any perceived aerial phenomenon that cannot be immediately identified or explained. On investigation, most UFOs are identified as known objects or atmospheric phenomena, while a small number remain unexplained.'"
      ]
     },
     "execution_count": 9,
     "metadata": {},
     "output_type": "execute_result"
    }
   ],
   "source": [
    "sw"
   ]
  },
  {
   "cell_type": "code",
   "execution_count": 10,
   "id": "6e2db863",
   "metadata": {},
   "outputs": [],
   "source": [
    "sw=sw.lower()"
   ]
  },
  {
   "cell_type": "code",
   "execution_count": 11,
   "id": "7df4e9aa",
   "metadata": {},
   "outputs": [
    {
     "data": {
      "text/plain": [
       "'an unidentified flying object is any perceived aerial phenomenon that cannot be immediately identified or explained. on investigation, most ufos are identified as known objects or atmospheric phenomena, while a small number remain unexplained.'"
      ]
     },
     "execution_count": 11,
     "metadata": {},
     "output_type": "execute_result"
    }
   ],
   "source": [
    "sw"
   ]
  },
  {
   "cell_type": "code",
   "execution_count": 20,
   "id": "916edfa1",
   "metadata": {},
   "outputs": [],
   "source": [
    "s=\"Pranshu chaurasia\""
   ]
  },
  {
   "cell_type": "code",
   "execution_count": 21,
   "id": "88969f7e",
   "metadata": {},
   "outputs": [
    {
     "data": {
      "text/plain": [
       "'Pranshu Chaurasia'"
      ]
     },
     "execution_count": 21,
     "metadata": {},
     "output_type": "execute_result"
    }
   ],
   "source": [
    "s.title()"
   ]
  },
  {
   "cell_type": "code",
   "execution_count": 22,
   "id": "a88285eb",
   "metadata": {},
   "outputs": [
    {
     "data": {
      "text/plain": [
       "'Pranshu chaurasia'"
      ]
     },
     "execution_count": 22,
     "metadata": {},
     "output_type": "execute_result"
    }
   ],
   "source": [
    "s.capitalize()"
   ]
  },
  {
   "cell_type": "code",
   "execution_count": 23,
   "id": "363d1e8d",
   "metadata": {},
   "outputs": [
    {
     "data": {
      "text/plain": [
       "'pRANSHU CHAURASIA'"
      ]
     },
     "execution_count": 23,
     "metadata": {},
     "output_type": "execute_result"
    }
   ],
   "source": [
    "s.swapcase()"
   ]
  },
  {
   "cell_type": "code",
   "execution_count": 25,
   "id": "b00d7629",
   "metadata": {},
   "outputs": [
    {
     "data": {
      "text/plain": [
       "'Pranshu chaurasia'"
      ]
     },
     "execution_count": 25,
     "metadata": {},
     "output_type": "execute_result"
    }
   ],
   "source": [
    "s"
   ]
  },
  {
   "cell_type": "code",
   "execution_count": 26,
   "id": "f8dde9b6",
   "metadata": {},
   "outputs": [
    {
     "data": {
      "text/plain": [
       "'aisaruahc uhsnarP'"
      ]
     },
     "execution_count": 26,
     "metadata": {},
     "output_type": "execute_result"
    }
   ],
   "source": [
    "''.join(reversed(s))"
   ]
  },
  {
   "cell_type": "code",
   "execution_count": 27,
   "id": "5a579420",
   "metadata": {},
   "outputs": [
    {
     "data": {
      "text/plain": [
       "'aisaruahc uhsnarP'"
      ]
     },
     "execution_count": 27,
     "metadata": {},
     "output_type": "execute_result"
    }
   ],
   "source": [
    "s[::-1]"
   ]
  },
  {
   "cell_type": "code",
   "execution_count": 30,
   "id": "e7bfb0fc",
   "metadata": {},
   "outputs": [],
   "source": [
    "s=\"    sdcd cdef   \" "
   ]
  },
  {
   "cell_type": "code",
   "execution_count": 29,
   "id": "27084e8e",
   "metadata": {},
   "outputs": [
    {
     "data": {
      "text/plain": [
       "'sdcd cdef'"
      ]
     },
     "execution_count": 29,
     "metadata": {},
     "output_type": "execute_result"
    }
   ],
   "source": [
    "s.strip()"
   ]
  },
  {
   "cell_type": "code",
   "execution_count": 31,
   "id": "98fce115",
   "metadata": {},
   "outputs": [
    {
     "data": {
      "text/plain": [
       "'sdcd cdef   '"
      ]
     },
     "execution_count": 31,
     "metadata": {},
     "output_type": "execute_result"
    }
   ],
   "source": [
    "s=\"    sdcd cdef   \" \n",
    "s.lstrip()"
   ]
  },
  {
   "cell_type": "code",
   "execution_count": 33,
   "id": "25bf6359",
   "metadata": {},
   "outputs": [
    {
     "data": {
      "text/plain": [
       "'    sdcd cdef'"
      ]
     },
     "execution_count": 33,
     "metadata": {},
     "output_type": "execute_result"
    }
   ],
   "source": [
    "s.rstrip()"
   ]
  },
  {
   "cell_type": "code",
   "execution_count": 34,
   "id": "7a1a5f87",
   "metadata": {},
   "outputs": [
    {
     "data": {
      "text/plain": [
       "'Sauadahaaanasahau'"
      ]
     },
     "execution_count": 34,
     "metadata": {},
     "output_type": "execute_result"
    }
   ],
   "source": [
    "\"a\".join(\"Sudhanshu\")"
   ]
  },
  {
   "cell_type": "code",
   "execution_count": 36,
   "id": "33b203cd",
   "metadata": {},
   "outputs": [
    {
     "data": {
      "text/plain": [
       "'#######hello########'"
      ]
     },
     "execution_count": 36,
     "metadata": {},
     "output_type": "execute_result"
    }
   ],
   "source": [
    "s=\"hello\"\n",
    "s.center(20,'#')"
   ]
  },
  {
   "cell_type": "code",
   "execution_count": 37,
   "id": "2479876e",
   "metadata": {},
   "outputs": [
    {
     "data": {
      "text/plain": [
       "False"
      ]
     },
     "execution_count": 37,
     "metadata": {},
     "output_type": "execute_result"
    }
   ],
   "source": [
    "s.isupper()"
   ]
  },
  {
   "cell_type": "code",
   "execution_count": 38,
   "id": "775e2fb1",
   "metadata": {},
   "outputs": [
    {
     "data": {
      "text/plain": [
       "True"
      ]
     },
     "execution_count": 38,
     "metadata": {},
     "output_type": "execute_result"
    }
   ],
   "source": [
    "s.islower()"
   ]
  },
  {
   "cell_type": "code",
   "execution_count": 39,
   "id": "9ef1d185",
   "metadata": {},
   "outputs": [
    {
     "data": {
      "text/plain": [
       "True"
      ]
     },
     "execution_count": 39,
     "metadata": {},
     "output_type": "execute_result"
    }
   ],
   "source": [
    "s4=\" \"\n",
    "s4.isspace()"
   ]
  },
  {
   "cell_type": "code",
   "execution_count": 40,
   "id": "4054c344",
   "metadata": {},
   "outputs": [
    {
     "data": {
      "text/plain": [
       "False"
      ]
     },
     "execution_count": 40,
     "metadata": {},
     "output_type": "execute_result"
    }
   ],
   "source": [
    "s5=\"jn34\"\n",
    "s5.isdigit()"
   ]
  },
  {
   "cell_type": "code",
   "execution_count": 41,
   "id": "135796a6",
   "metadata": {},
   "outputs": [
    {
     "data": {
      "text/plain": [
       "True"
      ]
     },
     "execution_count": 41,
     "metadata": {},
     "output_type": "execute_result"
    }
   ],
   "source": [
    "s5.isalnum()"
   ]
  },
  {
   "cell_type": "code",
   "execution_count": null,
   "id": "d46f68a9",
   "metadata": {},
   "outputs": [],
   "source": []
  }
 ],
 "metadata": {
  "kernelspec": {
   "display_name": "Python 3 (ipykernel)",
   "language": "python",
   "name": "python3"
  },
  "language_info": {
   "codemirror_mode": {
    "name": "ipython",
    "version": 3
   },
   "file_extension": ".py",
   "mimetype": "text/x-python",
   "name": "python",
   "nbconvert_exporter": "python",
   "pygments_lexer": "ipython3",
   "version": "3.9.7"
  }
 },
 "nbformat": 4,
 "nbformat_minor": 5
}
