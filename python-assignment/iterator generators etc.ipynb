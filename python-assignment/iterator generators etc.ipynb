{
 "cells": [
  {
   "cell_type": "code",
   "execution_count": 2,
   "id": "b39a85fe",
   "metadata": {},
   "outputs": [],
   "source": [
    "l=[1,3,4,5,6,5,\"6\"]"
   ]
  },
  {
   "cell_type": "code",
   "execution_count": 3,
   "id": "e4c0cd6e",
   "metadata": {},
   "outputs": [],
   "source": [
    "b=iter(l)"
   ]
  },
  {
   "cell_type": "code",
   "execution_count": 4,
   "id": "57f9c402",
   "metadata": {},
   "outputs": [
    {
     "data": {
      "text/plain": [
       "1"
      ]
     },
     "execution_count": 4,
     "metadata": {},
     "output_type": "execute_result"
    }
   ],
   "source": [
    "next(b)"
   ]
  },
  {
   "cell_type": "code",
   "execution_count": 5,
   "id": "8ccd9dc6",
   "metadata": {},
   "outputs": [
    {
     "data": {
      "text/plain": [
       "3"
      ]
     },
     "execution_count": 5,
     "metadata": {},
     "output_type": "execute_result"
    }
   ],
   "source": [
    "next(b)"
   ]
  },
  {
   "cell_type": "code",
   "execution_count": 7,
   "id": "2131517c",
   "metadata": {},
   "outputs": [],
   "source": [
    "#If objects are iterable python converts it into iterator"
   ]
  },
  {
   "cell_type": "code",
   "execution_count": 15,
   "id": "df30c73d",
   "metadata": {},
   "outputs": [],
   "source": [
    "s=\"Sudf\""
   ]
  },
  {
   "cell_type": "code",
   "execution_count": 16,
   "id": "9fe2d61d",
   "metadata": {},
   "outputs": [],
   "source": [
    "s=iter(s)"
   ]
  },
  {
   "cell_type": "code",
   "execution_count": 17,
   "id": "c2479afc",
   "metadata": {},
   "outputs": [
    {
     "data": {
      "text/plain": [
       "'S'"
      ]
     },
     "execution_count": 17,
     "metadata": {},
     "output_type": "execute_result"
    }
   ],
   "source": [
    "next(s)\n"
   ]
  },
  {
   "cell_type": "code",
   "execution_count": 18,
   "id": "258630dc",
   "metadata": {},
   "outputs": [
    {
     "data": {
      "text/plain": [
       "'f'"
      ]
     },
     "execution_count": 18,
     "metadata": {},
     "output_type": "execute_result"
    }
   ],
   "source": [
    "next(s)\n",
    "next(s)\n",
    "next(s)"
   ]
  },
  {
   "cell_type": "code",
   "execution_count": 21,
   "id": "7fdf3fb5",
   "metadata": {},
   "outputs": [
    {
     "name": "stdout",
     "output_type": "stream",
     "text": [
      "p\n",
      "r\n",
      "a\n",
      "n\n"
     ]
    }
   ],
   "source": [
    "t = \"pran\"\n",
    "\n",
    "for i in t:\n",
    "    print(i)"
   ]
  },
  {
   "cell_type": "code",
   "execution_count": 22,
   "id": "4bb363f7",
   "metadata": {},
   "outputs": [
    {
     "data": {
      "text/plain": [
       "[1, 2, 3, 4, 5, 6, 7, 8, 9]"
      ]
     },
     "execution_count": 22,
     "metadata": {},
     "output_type": "execute_result"
    }
   ],
   "source": [
    "list(range(1,10))"
   ]
  },
  {
   "cell_type": "code",
   "execution_count": 23,
   "id": "537760a6",
   "metadata": {},
   "outputs": [],
   "source": [
    "def square_func(n):\n",
    "    x=[i*i for i in range(n)]\n",
    "    return x"
   ]
  },
  {
   "cell_type": "code",
   "execution_count": 25,
   "id": "d37b4cc4",
   "metadata": {},
   "outputs": [
    {
     "data": {
      "text/plain": [
       "[0, 1, 4, 9, 16, 25, 36, 49, 64, 81]"
      ]
     },
     "execution_count": 25,
     "metadata": {},
     "output_type": "execute_result"
    }
   ],
   "source": [
    "square_func(10)"
   ]
  },
  {
   "cell_type": "code",
   "execution_count": 29,
   "id": "6b267b3b",
   "metadata": {},
   "outputs": [],
   "source": [
    "def square_func1(n):\n",
    "    x=[i*i for i in range(n)]\n",
    "    yield x"
   ]
  },
  {
   "cell_type": "code",
   "execution_count": 30,
   "id": "5063ec64",
   "metadata": {},
   "outputs": [
    {
     "data": {
      "text/plain": [
       "<generator object square_func1 at 0x000001A2FD3E7B30>"
      ]
     },
     "execution_count": 30,
     "metadata": {},
     "output_type": "execute_result"
    }
   ],
   "source": [
    "square_func1(10)"
   ]
  },
  {
   "cell_type": "code",
   "execution_count": 32,
   "id": "935d06ba",
   "metadata": {},
   "outputs": [
    {
     "name": "stdout",
     "output_type": "stream",
     "text": [
      "[0, 1, 4, 9]\n"
     ]
    }
   ],
   "source": [
    "for i in square_func1(4):\n",
    "    print(i)"
   ]
  },
  {
   "cell_type": "code",
   "execution_count": 33,
   "id": "a556764c",
   "metadata": {},
   "outputs": [
    {
     "data": {
      "text/plain": [
       "range(0, 5)"
      ]
     },
     "execution_count": 33,
     "metadata": {},
     "output_type": "execute_result"
    }
   ],
   "source": [
    "range(5)"
   ]
  },
  {
   "cell_type": "code",
   "execution_count": null,
   "id": "44c24dd3",
   "metadata": {},
   "outputs": [],
   "source": []
  }
 ],
 "metadata": {
  "kernelspec": {
   "display_name": "Python 3 (ipykernel)",
   "language": "python",
   "name": "python3"
  },
  "language_info": {
   "codemirror_mode": {
    "name": "ipython",
    "version": 3
   },
   "file_extension": ".py",
   "mimetype": "text/x-python",
   "name": "python",
   "nbconvert_exporter": "python",
   "pygments_lexer": "ipython3",
   "version": "3.9.7"
  }
 },
 "nbformat": 4,
 "nbformat_minor": 5
}
