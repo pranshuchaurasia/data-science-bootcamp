{
 "cells": [
  {
   "cell_type": "code",
   "execution_count": 1,
   "id": "35165155",
   "metadata": {},
   "outputs": [],
   "source": [
    "l=[1,2,3,\"pv\",True,432]"
   ]
  },
  {
   "cell_type": "code",
   "execution_count": 4,
   "id": "831489cc",
   "metadata": {},
   "outputs": [
    {
     "name": "stdout",
     "output_type": "stream",
     "text": [
      "1\n",
      "2\n",
      "3\n",
      "pv\n",
      "True\n",
      "432\n",
      "For else statement\n"
     ]
    }
   ],
   "source": [
    "for i in l:\n",
    "    print(i)\n",
    "else:\n",
    "    print(\"For else statement\")"
   ]
  },
  {
   "cell_type": "code",
   "execution_count": 8,
   "id": "1a0e3cb5",
   "metadata": {},
   "outputs": [
    {
     "name": "stdout",
     "output_type": "stream",
     "text": [
      "1\n",
      "2\n"
     ]
    }
   ],
   "source": [
    "for i in l:\n",
    "    if i ==3:\n",
    "        break\n",
    "    print(i)\n",
    "else:\n",
    "    print(\"This will only run if for loop completes ifself. If break is introduced it will not run|\")"
   ]
  },
  {
   "cell_type": "code",
   "execution_count": 9,
   "id": "c42c278b",
   "metadata": {},
   "outputs": [
    {
     "name": "stdout",
     "output_type": "stream",
     "text": [
      "1\n",
      "2\n",
      "pv\n",
      "True\n",
      "432\n"
     ]
    }
   ],
   "source": [
    "t=(1,2,3,\"pv\",True,432)\n",
    "for i in t:\n",
    "    if i ==3:\n",
    "        continue\n",
    "    print(i)"
   ]
  },
  {
   "cell_type": "code",
   "execution_count": null,
   "id": "6c077d05",
   "metadata": {},
   "outputs": [],
   "source": []
  }
 ],
 "metadata": {
  "kernelspec": {
   "display_name": "Python 3 (ipykernel)",
   "language": "python",
   "name": "python3"
  },
  "language_info": {
   "codemirror_mode": {
    "name": "ipython",
    "version": 3
   },
   "file_extension": ".py",
   "mimetype": "text/x-python",
   "name": "python",
   "nbconvert_exporter": "python",
   "pygments_lexer": "ipython3",
   "version": "3.9.7"
  }
 },
 "nbformat": 4,
 "nbformat_minor": 5
}
