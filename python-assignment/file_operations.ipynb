{
 "cells": [
  {
   "cell_type": "code",
   "execution_count": 1,
   "id": "0d1bf5ba",
   "metadata": {},
   "outputs": [
    {
     "name": "stdout",
     "output_type": "stream",
     "text": [
      " Volume in drive C is OS\n",
      " Volume Serial Number is 8248-47BB\n",
      "\n",
      " Directory of C:\\Users\\Pranshu Chaurasia\\Desktop\\data-science-bootcamp\\data-science-bootcamp\\python-assignment\n",
      "\n",
      "25-07-2022  01.03 AM    <DIR>          .\n",
      "25-07-2022  01.03 AM    <DIR>          ..\n",
      "01-07-2022  08.58 PM                36 .gitignore\n",
      "25-07-2022  01.03 AM    <DIR>          .ipynb_checkpoints\n",
      "28-06-2022  11.21 PM            16,963 7th march live class notebook for loop while and range function  (1).ipynb\n",
      "03-07-2022  06.16 PM             4,216 conditionals.ipynb\n",
      "22-07-2022  10.49 AM             2,861 exception_handling.ipynb\n",
      "25-07-2022  01.03 AM               588 file_operations.ipynb\n",
      "24-06-2022  01.56 AM             3,359 gfg-python.ipynb\n",
      "25-07-2022  01.03 AM             7,476 iterator generators etc.ipynb\n",
      "02-07-2022  03.18 AM            35,402 list,touples,dict,set.ipynb\n",
      "03-07-2022  06.26 PM             2,081 Loops.ipynb\n",
      "25-07-2022  01.03 AM                18 name.txt\n",
      "01-07-2022  02.18 AM            23,218 practice_in_python.ipynb\n",
      "29-06-2022  10.22 PM            86,595 Python string basic  (2).ipynb\n",
      "19-07-2022  10.57 PM            15,968 while_loop and functions basics.ipynb\n",
      "              13 File(s)        198,781 bytes\n",
      "               3 Dir(s)  325,237,944,320 bytes free\n"
     ]
    }
   ],
   "source": [
    "ls"
   ]
  },
  {
   "cell_type": "code",
   "execution_count": 2,
   "id": "4401732b",
   "metadata": {},
   "outputs": [
    {
     "data": {
      "text/plain": [
       "['In',\n",
       " 'Out',\n",
       " '_',\n",
       " '__',\n",
       " '___',\n",
       " '__builtin__',\n",
       " '__builtins__',\n",
       " '__doc__',\n",
       " '__loader__',\n",
       " '__name__',\n",
       " '__package__',\n",
       " '__spec__',\n",
       " '_dh',\n",
       " '_exit_code',\n",
       " '_i',\n",
       " '_i1',\n",
       " '_i2',\n",
       " '_ih',\n",
       " '_ii',\n",
       " '_iii',\n",
       " '_oh',\n",
       " 'exit',\n",
       " 'get_ipython',\n",
       " 'quit']"
      ]
     },
     "execution_count": 2,
     "metadata": {},
     "output_type": "execute_result"
    }
   ],
   "source": [
    "dir()"
   ]
  },
  {
   "cell_type": "code",
   "execution_count": null,
   "id": "53bbe26e",
   "metadata": {},
   "outputs": [],
   "source": []
  }
 ],
 "metadata": {
  "kernelspec": {
   "display_name": "Python 3 (ipykernel)",
   "language": "python",
   "name": "python3"
  },
  "language_info": {
   "codemirror_mode": {
    "name": "ipython",
    "version": 3
   },
   "file_extension": ".py",
   "mimetype": "text/x-python",
   "name": "python",
   "nbconvert_exporter": "python",
   "pygments_lexer": "ipython3",
   "version": "3.9.7"
  }
 },
 "nbformat": 4,
 "nbformat_minor": 5
}
