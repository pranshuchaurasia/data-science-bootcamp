{
 "cells": [
  {
   "cell_type": "code",
   "execution_count": 1,
   "id": "8af8def2",
   "metadata": {},
   "outputs": [
    {
     "name": "stdout",
     "output_type": "stream",
     "text": [
      " Volume in drive C is OS\n",
      " Volume Serial Number is 8248-47BB\n",
      "\n",
      " Directory of C:\\Users\\Pranshu Chaurasia\\Desktop\\data-science-bootcamp\\data-science-bootcamp\\python-assignment\n",
      "\n",
      "25-07-2022  01.03 AM    <DIR>          .\n",
      "25-07-2022  01.03 AM    <DIR>          ..\n",
      "01-07-2022  08.58 PM                36 .gitignore\n",
      "25-07-2022  01.03 AM    <DIR>          .ipynb_checkpoints\n",
      "28-06-2022  11.21 PM            16,963 7th march live class notebook for loop while and range function  (1).ipynb\n",
      "03-07-2022  06.16 PM             4,216 conditionals.ipynb\n",
      "22-07-2022  10.49 AM             2,861 exception_handling.ipynb\n",
      "25-07-2022  01.03 AM               588 file_operations.ipynb\n",
      "24-06-2022  01.56 AM             3,359 gfg-python.ipynb\n",
      "25-07-2022  01.03 AM             7,476 iterator generators etc.ipynb\n",
      "02-07-2022  03.18 AM            35,402 list,touples,dict,set.ipynb\n",
      "03-07-2022  06.26 PM             2,081 Loops.ipynb\n",
      "25-07-2022  01.03 AM                18 name.txt\n",
      "01-07-2022  02.18 AM            23,218 practice_in_python.ipynb\n",
      "29-06-2022  10.22 PM            86,595 Python string basic  (2).ipynb\n",
      "19-07-2022  10.57 PM            15,968 while_loop and functions basics.ipynb\n",
      "              13 File(s)        198,781 bytes\n",
      "               3 Dir(s)  325,237,944,320 bytes free\n"
     ]
    }
   ],
   "source": [
    "ls"
   ]
  },
  {
   "cell_type": "code",
   "execution_count": 2,
   "id": "ba7692d0",
   "metadata": {},
   "outputs": [
    {
     "data": {
      "text/plain": [
       "['In',\n",
       " 'Out',\n",
       " '_',\n",
       " '__',\n",
       " '___',\n",
       " '__builtin__',\n",
       " '__builtins__',\n",
       " '__doc__',\n",
       " '__loader__',\n",
       " '__name__',\n",
       " '__package__',\n",
       " '__spec__',\n",
       " '_dh',\n",
       " '_exit_code',\n",
       " '_i',\n",
       " '_i1',\n",
       " '_i2',\n",
       " '_ih',\n",
       " '_ii',\n",
       " '_iii',\n",
       " '_oh',\n",
       " 'exit',\n",
       " 'get_ipython',\n",
       " 'quit']"
      ]
     },
     "execution_count": 2,
     "metadata": {},
     "output_type": "execute_result"
    }
   ],
   "source": [
    "dir()"
   ]
  },
  {
   "cell_type": "code",
   "execution_count": 11,
   "id": "31ed36af",
   "metadata": {},
   "outputs": [],
   "source": [
    "f= open('name.txt','w+')"
   ]
  },
  {
   "cell_type": "code",
   "execution_count": 13,
   "id": "ba987f09",
   "metadata": {},
   "outputs": [
    {
     "data": {
      "text/plain": [
       "42"
      ]
     },
     "execution_count": 13,
     "metadata": {},
     "output_type": "execute_result"
    }
   ],
   "source": [
    "f.write(\"This is my first write operation in python\")"
   ]
  },
  {
   "cell_type": "code",
   "execution_count": 14,
   "id": "17b88820",
   "metadata": {},
   "outputs": [],
   "source": [
    "f.close()"
   ]
  },
  {
   "cell_type": "code",
   "execution_count": 15,
   "id": "b50e6732",
   "metadata": {},
   "outputs": [],
   "source": [
    "f1=open(\"test1.txt\",\"w\")"
   ]
  },
  {
   "cell_type": "code",
   "execution_count": 16,
   "id": "3a047b6e",
   "metadata": {},
   "outputs": [
    {
     "data": {
      "text/plain": [
       "30"
      ]
     },
     "execution_count": 16,
     "metadata": {},
     "output_type": "execute_result"
    }
   ],
   "source": [
    "f1.write(\"doing write practice in python\")"
   ]
  },
  {
   "cell_type": "code",
   "execution_count": 17,
   "id": "7c2adb2b",
   "metadata": {},
   "outputs": [],
   "source": [
    "f1.close()"
   ]
  },
  {
   "cell_type": "code",
   "execution_count": 18,
   "id": "fb05b70f",
   "metadata": {},
   "outputs": [],
   "source": [
    "l=[12,4,2,2,4,4,2,4,2,12]"
   ]
  },
  {
   "cell_type": "code",
   "execution_count": 19,
   "id": "0e8d1220",
   "metadata": {},
   "outputs": [],
   "source": [
    "f2=open(\"test2.txt\",\"w\")"
   ]
  },
  {
   "cell_type": "code",
   "execution_count": 20,
   "id": "e50effed",
   "metadata": {},
   "outputs": [
    {
     "data": {
      "text/plain": [
       "32"
      ]
     },
     "execution_count": 20,
     "metadata": {},
     "output_type": "execute_result"
    }
   ],
   "source": [
    "f2.write(str(l))"
   ]
  },
  {
   "cell_type": "code",
   "execution_count": 21,
   "id": "5f1295b7",
   "metadata": {},
   "outputs": [],
   "source": [
    "f2.close()"
   ]
  },
  {
   "cell_type": "code",
   "execution_count": 22,
   "id": "87bb54e6",
   "metadata": {},
   "outputs": [],
   "source": [
    "f3=open(\"test2.pran\",\"w\")"
   ]
  },
  {
   "cell_type": "code",
   "execution_count": 23,
   "id": "ff958d4e",
   "metadata": {},
   "outputs": [
    {
     "data": {
      "text/plain": [
       "32"
      ]
     },
     "execution_count": 23,
     "metadata": {},
     "output_type": "execute_result"
    }
   ],
   "source": [
    "f3.write(str(l))"
   ]
  },
  {
   "cell_type": "code",
   "execution_count": 24,
   "id": "4bb52d59",
   "metadata": {},
   "outputs": [],
   "source": [
    "f3.close()"
   ]
  },
  {
   "cell_type": "code",
   "execution_count": 25,
   "id": "e14d66da",
   "metadata": {},
   "outputs": [
    {
     "name": "stdout",
     "output_type": "stream",
     "text": [
      "Writing test5.txt\n"
     ]
    }
   ],
   "source": [
    "%%writefile test5.txt\n",
    "this is a new method to write text file in python"
   ]
  },
  {
   "cell_type": "code",
   "execution_count": 27,
   "id": "63a54e4c",
   "metadata": {},
   "outputs": [
    {
     "name": "stdout",
     "output_type": "stream",
     "text": [
      "Overwriting test5.txt\n"
     ]
    }
   ],
   "source": [
    "%%writefile test5.txt\n",
    "this is a new method to write text file in python\n",
    "this is a new method to write text file in python\n",
    "this is a new method to write text file in python\n",
    "this is a new method to write text file in python"
   ]
  },
  {
   "cell_type": "code",
   "execution_count": 28,
   "id": "ad685a9e",
   "metadata": {},
   "outputs": [],
   "source": [
    "f=open(\"test5.txt\")"
   ]
  },
  {
   "cell_type": "code",
   "execution_count": 29,
   "id": "34bc8a86",
   "metadata": {},
   "outputs": [
    {
     "data": {
      "text/plain": [
       "'this is a new method to write text file in python\\nthis is a new method to write text file in python\\nthis is a new method to write text file in python\\nthis is a new method to write text file in python\\n'"
      ]
     },
     "execution_count": 29,
     "metadata": {},
     "output_type": "execute_result"
    }
   ],
   "source": [
    "f.read()"
   ]
  },
  {
   "cell_type": "code",
   "execution_count": 33,
   "id": "a37f6c05",
   "metadata": {},
   "outputs": [
    {
     "data": {
      "text/plain": [
       "''"
      ]
     },
     "execution_count": 33,
     "metadata": {},
     "output_type": "execute_result"
    }
   ],
   "source": [
    "f.read()"
   ]
  },
  {
   "cell_type": "code",
   "execution_count": 34,
   "id": "5d243e42",
   "metadata": {},
   "outputs": [
    {
     "data": {
      "text/plain": [
       "0"
      ]
     },
     "execution_count": 34,
     "metadata": {},
     "output_type": "execute_result"
    }
   ],
   "source": [
    "f.seek(0)"
   ]
  },
  {
   "cell_type": "code",
   "execution_count": 35,
   "id": "44adf54f",
   "metadata": {},
   "outputs": [
    {
     "data": {
      "text/plain": [
       "'this is a new method to write text file in python\\nthis is a new method to write text file in python\\nthis is a new method to write text file in python\\nthis is a new method to write text file in python\\n'"
      ]
     },
     "execution_count": 35,
     "metadata": {},
     "output_type": "execute_result"
    }
   ],
   "source": [
    "f.read()"
   ]
  },
  {
   "cell_type": "code",
   "execution_count": 36,
   "id": "8d7e2995",
   "metadata": {},
   "outputs": [
    {
     "data": {
      "text/plain": [
       "4"
      ]
     },
     "execution_count": 36,
     "metadata": {},
     "output_type": "execute_result"
    }
   ],
   "source": [
    "f.seek(4)"
   ]
  },
  {
   "cell_type": "code",
   "execution_count": 37,
   "id": "30e7f774",
   "metadata": {},
   "outputs": [
    {
     "data": {
      "text/plain": [
       "' is a new method to write text file in python\\nthis is a new method to write text file in python\\nthis is a new method to write text file in python\\nthis is a new method to write text file in python\\n'"
      ]
     },
     "execution_count": 37,
     "metadata": {},
     "output_type": "execute_result"
    }
   ],
   "source": [
    "f.read()"
   ]
  },
  {
   "cell_type": "code",
   "execution_count": null,
   "id": "a83cec3c",
   "metadata": {},
   "outputs": [],
   "source": []
  }
 ],
 "metadata": {
  "kernelspec": {
   "display_name": "Python 3 (ipykernel)",
   "language": "python",
   "name": "python3"
  },
  "language_info": {
   "codemirror_mode": {
    "name": "ipython",
    "version": 3
   },
   "file_extension": ".py",
   "mimetype": "text/x-python",
   "name": "python",
   "nbconvert_exporter": "python",
   "pygments_lexer": "ipython3",
   "version": "3.9.7"
  }
 },
 "nbformat": 4,
 "nbformat_minor": 5
}
