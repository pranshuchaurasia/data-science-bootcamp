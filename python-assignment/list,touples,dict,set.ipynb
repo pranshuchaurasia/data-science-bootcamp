{
 "cells": [
  {
   "cell_type": "code",
   "execution_count": 64,
   "id": "7046968b",
   "metadata": {},
   "outputs": [],
   "source": [
    "l=[1,2,2,True,45.67,\"sudh\"]"
   ]
  },
  {
   "cell_type": "code",
   "execution_count": 65,
   "id": "65df38eb",
   "metadata": {},
   "outputs": [
    {
     "data": {
      "text/plain": [
       "1"
      ]
     },
     "execution_count": 65,
     "metadata": {},
     "output_type": "execute_result"
    }
   ],
   "source": [
    "l[0]"
   ]
  },
  {
   "cell_type": "code",
   "execution_count": 66,
   "id": "a0c57dc6",
   "metadata": {},
   "outputs": [
    {
     "data": {
      "text/plain": [
       "'sudh'"
      ]
     },
     "execution_count": 66,
     "metadata": {},
     "output_type": "execute_result"
    }
   ],
   "source": [
    "l[-1]"
   ]
  },
  {
   "cell_type": "code",
   "execution_count": 67,
   "id": "591a5ccd",
   "metadata": {},
   "outputs": [
    {
     "data": {
      "text/plain": [
       "[1, 2, 2, True, 45.67]"
      ]
     },
     "execution_count": 67,
     "metadata": {},
     "output_type": "execute_result"
    }
   ],
   "source": [
    "l[0:5]"
   ]
  },
  {
   "cell_type": "code",
   "execution_count": 68,
   "id": "664eef26",
   "metadata": {},
   "outputs": [
    {
     "data": {
      "text/plain": [
       "[1, 2, 2, True, 45.67, 'sudh', (34+4j)]"
      ]
     },
     "execution_count": 68,
     "metadata": {},
     "output_type": "execute_result"
    }
   ],
   "source": [
    "l+[34+4j]"
   ]
  },
  {
   "cell_type": "code",
   "execution_count": 69,
   "id": "92afe399",
   "metadata": {},
   "outputs": [
    {
     "data": {
      "text/plain": [
       "True"
      ]
     },
     "execution_count": 69,
     "metadata": {},
     "output_type": "execute_result"
    }
   ],
   "source": [
    "2 in l"
   ]
  },
  {
   "cell_type": "code",
   "execution_count": 70,
   "id": "73cc9eca",
   "metadata": {},
   "outputs": [
    {
     "data": {
      "text/plain": [
       "False"
      ]
     },
     "execution_count": 70,
     "metadata": {},
     "output_type": "execute_result"
    }
   ],
   "source": [
    "#Search in a list use in function\n",
    "3 in l"
   ]
  },
  {
   "cell_type": "code",
   "execution_count": 71,
   "id": "fa746acf",
   "metadata": {},
   "outputs": [],
   "source": [
    "#  max(l), SAME WITH min(l) cannot be used with differnt datatype"
   ]
  },
  {
   "cell_type": "code",
   "execution_count": 72,
   "id": "3d79ced6",
   "metadata": {},
   "outputs": [
    {
     "data": {
      "text/plain": [
       "1"
      ]
     },
     "execution_count": 72,
     "metadata": {},
     "output_type": "execute_result"
    }
   ],
   "source": [
    "#Pop in l(remove a data from exisiting list)\n",
    "l.pop(0)"
   ]
  },
  {
   "cell_type": "code",
   "execution_count": 73,
   "id": "482f91ec",
   "metadata": {},
   "outputs": [
    {
     "data": {
      "text/plain": [
       "[2, 2, True, 45.67, 'sudh']"
      ]
     },
     "execution_count": 73,
     "metadata": {},
     "output_type": "execute_result"
    }
   ],
   "source": [
    "l"
   ]
  },
  {
   "cell_type": "code",
   "execution_count": 74,
   "id": "7e31a6c9",
   "metadata": {},
   "outputs": [],
   "source": [
    "l.append([1,2])"
   ]
  },
  {
   "cell_type": "code",
   "execution_count": 75,
   "id": "314a307f",
   "metadata": {},
   "outputs": [
    {
     "data": {
      "text/plain": [
       "[2, 2, True, 45.67, 'sudh', [1, 2]]"
      ]
     },
     "execution_count": 75,
     "metadata": {},
     "output_type": "execute_result"
    }
   ],
   "source": [
    "l"
   ]
  },
  {
   "cell_type": "code",
   "execution_count": 76,
   "id": "e85550bd",
   "metadata": {},
   "outputs": [
    {
     "data": {
      "text/plain": [
       "[1, 2]"
      ]
     },
     "execution_count": 76,
     "metadata": {},
     "output_type": "execute_result"
    }
   ],
   "source": [
    "l.pop()"
   ]
  },
  {
   "cell_type": "code",
   "execution_count": 77,
   "id": "b2b13314",
   "metadata": {},
   "outputs": [
    {
     "data": {
      "text/plain": [
       "[2, 2, True, 45.67, 'sudh']"
      ]
     },
     "execution_count": 77,
     "metadata": {},
     "output_type": "execute_result"
    }
   ],
   "source": [
    "l"
   ]
  },
  {
   "cell_type": "code",
   "execution_count": 78,
   "id": "63d4c41e",
   "metadata": {},
   "outputs": [],
   "source": [
    "l.reverse()\n",
    "#does reverse it permanently"
   ]
  },
  {
   "cell_type": "code",
   "execution_count": 79,
   "id": "ad473bef",
   "metadata": {},
   "outputs": [
    {
     "data": {
      "text/plain": [
       "[2, 2, True, 45.67, 'sudh']"
      ]
     },
     "execution_count": 79,
     "metadata": {},
     "output_type": "execute_result"
    }
   ],
   "source": [
    "l[::-1]"
   ]
  },
  {
   "cell_type": "code",
   "execution_count": 80,
   "id": "de0048b6",
   "metadata": {},
   "outputs": [
    {
     "data": {
      "text/plain": [
       "['sudh', 45.67, True, 2, 2]"
      ]
     },
     "execution_count": 80,
     "metadata": {},
     "output_type": "execute_result"
    }
   ],
   "source": [
    "l"
   ]
  },
  {
   "cell_type": "code",
   "execution_count": 81,
   "id": "cd51481e",
   "metadata": {},
   "outputs": [],
   "source": [
    "l1=[34,45,3254324,32547,324]"
   ]
  },
  {
   "cell_type": "code",
   "execution_count": 82,
   "id": "61245460",
   "metadata": {},
   "outputs": [],
   "source": [
    "l1.sort()"
   ]
  },
  {
   "cell_type": "code",
   "execution_count": 83,
   "id": "2c7d477a",
   "metadata": {},
   "outputs": [
    {
     "data": {
      "text/plain": [
       "[34, 45, 324, 32547, 3254324]"
      ]
     },
     "execution_count": 83,
     "metadata": {},
     "output_type": "execute_result"
    }
   ],
   "source": [
    "l1"
   ]
  },
  {
   "cell_type": "code",
   "execution_count": 84,
   "id": "4f3a92b5",
   "metadata": {},
   "outputs": [],
   "source": [
    "l1.sort(reverse=True)"
   ]
  },
  {
   "cell_type": "code",
   "execution_count": 85,
   "id": "1d28e626",
   "metadata": {},
   "outputs": [
    {
     "data": {
      "text/plain": [
       "[3254324, 32547, 324, 45, 34]"
      ]
     },
     "execution_count": 85,
     "metadata": {},
     "output_type": "execute_result"
    }
   ],
   "source": [
    "l1"
   ]
  },
  {
   "cell_type": "code",
   "execution_count": 86,
   "id": "1e2cf288",
   "metadata": {},
   "outputs": [],
   "source": [
    "l3=[l,l1]"
   ]
  },
  {
   "cell_type": "code",
   "execution_count": 87,
   "id": "ebdf3340",
   "metadata": {},
   "outputs": [
    {
     "data": {
      "text/plain": [
       "[['sudh', 45.67, True, 2, 2], [3254324, 32547, 324, 45, 34]]"
      ]
     },
     "execution_count": 87,
     "metadata": {},
     "output_type": "execute_result"
    }
   ],
   "source": [
    "l3"
   ]
  },
  {
   "cell_type": "code",
   "execution_count": 88,
   "id": "e95349e9",
   "metadata": {},
   "outputs": [
    {
     "data": {
      "text/plain": [
       "45"
      ]
     },
     "execution_count": 88,
     "metadata": {},
     "output_type": "execute_result"
    }
   ],
   "source": [
    "#index starts from zero\n",
    "l3[1][3]"
   ]
  },
  {
   "cell_type": "code",
   "execution_count": 89,
   "id": "f1e21589",
   "metadata": {},
   "outputs": [
    {
     "data": {
      "text/plain": [
       "[3254324, 32547, 324, 45, 34]"
      ]
     },
     "execution_count": 89,
     "metadata": {},
     "output_type": "execute_result"
    }
   ],
   "source": [
    "l3.append(45)\n",
    "l3.pop()\n",
    "l3.pop()"
   ]
  },
  {
   "cell_type": "code",
   "execution_count": 90,
   "id": "60f55eac",
   "metadata": {},
   "outputs": [
    {
     "data": {
      "text/plain": [
       "0"
      ]
     },
     "execution_count": 90,
     "metadata": {},
     "output_type": "execute_result"
    }
   ],
   "source": [
    "l3.count(45)"
   ]
  },
  {
   "cell_type": "code",
   "execution_count": 91,
   "id": "ff20cfce",
   "metadata": {},
   "outputs": [
    {
     "data": {
      "text/plain": [
       "[['sudh', 45.67, True, 2, 2]]"
      ]
     },
     "execution_count": 91,
     "metadata": {},
     "output_type": "execute_result"
    }
   ],
   "source": [
    "l3"
   ]
  },
  {
   "cell_type": "code",
   "execution_count": 92,
   "id": "19b17a9f",
   "metadata": {},
   "outputs": [],
   "source": [
    "#append vs extend function\n",
    "l.append(45)\n",
    "l3.extend([23,435])"
   ]
  },
  {
   "cell_type": "code",
   "execution_count": 93,
   "id": "c0526f5e",
   "metadata": {},
   "outputs": [
    {
     "data": {
      "text/plain": [
       "['sudh', 45.67, True, 2, 2, 45]"
      ]
     },
     "execution_count": 93,
     "metadata": {},
     "output_type": "execute_result"
    }
   ],
   "source": [
    "l"
   ]
  },
  {
   "cell_type": "code",
   "execution_count": 94,
   "id": "be6b0111",
   "metadata": {},
   "outputs": [
    {
     "data": {
      "text/plain": [
       "[['sudh', 45.67, True, 2, 2, 45], 23, 435]"
      ]
     },
     "execution_count": 94,
     "metadata": {},
     "output_type": "execute_result"
    }
   ],
   "source": [
    "l3"
   ]
  },
  {
   "cell_type": "code",
   "execution_count": 97,
   "id": "1eef663a",
   "metadata": {},
   "outputs": [
    {
     "data": {
      "text/plain": [
       "2"
      ]
     },
     "execution_count": 97,
     "metadata": {},
     "output_type": "execute_result"
    }
   ],
   "source": [
    "l3.index(435)"
   ]
  },
  {
   "cell_type": "code",
   "execution_count": 98,
   "id": "8eea5894",
   "metadata": {},
   "outputs": [
    {
     "data": {
      "text/plain": [
       "['sudh', 45.67, True, 2, 2, 45]"
      ]
     },
     "execution_count": 98,
     "metadata": {},
     "output_type": "execute_result"
    }
   ],
   "source": [
    "l"
   ]
  },
  {
   "cell_type": "code",
   "execution_count": 99,
   "id": "ac9dc27d",
   "metadata": {},
   "outputs": [],
   "source": [
    "l.insert(1,[1,2,3,4])"
   ]
  },
  {
   "cell_type": "code",
   "execution_count": 100,
   "id": "471f901c",
   "metadata": {},
   "outputs": [
    {
     "data": {
      "text/plain": [
       "['sudh', [1, 2, 3, 4], 45.67, True, 2, 2, 45]"
      ]
     },
     "execution_count": 100,
     "metadata": {},
     "output_type": "execute_result"
    }
   ],
   "source": [
    "l"
   ]
  },
  {
   "cell_type": "code",
   "execution_count": 101,
   "id": "bb51f6ca",
   "metadata": {},
   "outputs": [],
   "source": [
    "l.insert(5,False)"
   ]
  },
  {
   "cell_type": "code",
   "execution_count": 102,
   "id": "82aa2b76",
   "metadata": {},
   "outputs": [
    {
     "data": {
      "text/plain": [
       "['sudh', [1, 2, 3, 4], 45.67, True, 2, False, 2, 45]"
      ]
     },
     "execution_count": 102,
     "metadata": {},
     "output_type": "execute_result"
    }
   ],
   "source": [
    "l"
   ]
  },
  {
   "cell_type": "code",
   "execution_count": 105,
   "id": "c04e3584",
   "metadata": {},
   "outputs": [
    {
     "data": {
      "text/plain": [
       "45.67"
      ]
     },
     "execution_count": 105,
     "metadata": {},
     "output_type": "execute_result"
    }
   ],
   "source": [
    "#Remove at index 1\n",
    "l.pop(1)"
   ]
  },
  {
   "cell_type": "code",
   "execution_count": 106,
   "id": "39562f5d",
   "metadata": {},
   "outputs": [
    {
     "data": {
      "text/plain": [
       "['sudh', True, 2, False, 2, 45]"
      ]
     },
     "execution_count": 106,
     "metadata": {},
     "output_type": "execute_result"
    }
   ],
   "source": [
    "l"
   ]
  },
  {
   "cell_type": "code",
   "execution_count": 107,
   "id": "c2ffeafe",
   "metadata": {},
   "outputs": [
    {
     "data": {
      "text/plain": [
       "45"
      ]
     },
     "execution_count": 107,
     "metadata": {},
     "output_type": "execute_result"
    }
   ],
   "source": [
    "l.pop()"
   ]
  },
  {
   "cell_type": "code",
   "execution_count": 108,
   "id": "b72ffd66",
   "metadata": {},
   "outputs": [
    {
     "data": {
      "text/plain": [
       "['sudh', True, 2, False, 2]"
      ]
     },
     "execution_count": 108,
     "metadata": {},
     "output_type": "execute_result"
    }
   ],
   "source": [
    "l"
   ]
  },
  {
   "cell_type": "code",
   "execution_count": 111,
   "id": "a98d6e0f",
   "metadata": {},
   "outputs": [],
   "source": [
    "#Find the first occurance of 2 and remove it\n",
    "l.remove(2)\n"
   ]
  },
  {
   "cell_type": "code",
   "execution_count": 112,
   "id": "e4de61ab",
   "metadata": {},
   "outputs": [
    {
     "data": {
      "text/plain": [
       "['sudh', True, False]"
      ]
     },
     "execution_count": 112,
     "metadata": {},
     "output_type": "execute_result"
    }
   ],
   "source": [
    "l"
   ]
  },
  {
   "cell_type": "code",
   "execution_count": 115,
   "id": "dbef3dec",
   "metadata": {},
   "outputs": [],
   "source": [
    "l[1]='trgt'"
   ]
  },
  {
   "cell_type": "code",
   "execution_count": 116,
   "id": "66e221a4",
   "metadata": {},
   "outputs": [
    {
     "data": {
      "text/plain": [
       "['sudh', 'trgt', False]"
      ]
     },
     "execution_count": 116,
     "metadata": {},
     "output_type": "execute_result"
    }
   ],
   "source": [
    "l"
   ]
  },
  {
   "cell_type": "code",
   "execution_count": 117,
   "id": "8d97b1a4",
   "metadata": {},
   "outputs": [],
   "source": [
    "#string are immutable, no reassignment operations are allowed\n",
    "#Lists are muutable objects"
   ]
  },
  {
   "cell_type": "code",
   "execution_count": 118,
   "id": "64b4db70",
   "metadata": {},
   "outputs": [],
   "source": [
    "#Tuples\n",
    "t=(4,23,True,\"hello\")"
   ]
  },
  {
   "cell_type": "code",
   "execution_count": 119,
   "id": "8f83ea78",
   "metadata": {},
   "outputs": [
    {
     "data": {
      "text/plain": [
       "tuple"
      ]
     },
     "execution_count": 119,
     "metadata": {},
     "output_type": "execute_result"
    }
   ],
   "source": [
    "type(t)"
   ]
  },
  {
   "cell_type": "code",
   "execution_count": 121,
   "id": "05f99d72",
   "metadata": {},
   "outputs": [
    {
     "data": {
      "text/plain": [
       "'hello'"
      ]
     },
     "execution_count": 121,
     "metadata": {},
     "output_type": "execute_result"
    }
   ],
   "source": [
    "t[3]"
   ]
  },
  {
   "cell_type": "code",
   "execution_count": 124,
   "id": "8913e02f",
   "metadata": {},
   "outputs": [
    {
     "data": {
      "text/plain": [
       "(4, 23, True)"
      ]
     },
     "execution_count": 124,
     "metadata": {},
     "output_type": "execute_result"
    }
   ],
   "source": [
    "t[0:3]"
   ]
  },
  {
   "cell_type": "code",
   "execution_count": 125,
   "id": "66ce800b",
   "metadata": {},
   "outputs": [
    {
     "data": {
      "text/plain": [
       "(4, True)"
      ]
     },
     "execution_count": 125,
     "metadata": {},
     "output_type": "execute_result"
    }
   ],
   "source": [
    "t[0:6:2]"
   ]
  },
  {
   "cell_type": "code",
   "execution_count": 126,
   "id": "7133c28c",
   "metadata": {},
   "outputs": [],
   "source": [
    "t1=(4,23,423)"
   ]
  },
  {
   "cell_type": "code",
   "execution_count": 127,
   "id": "12f936d8",
   "metadata": {},
   "outputs": [
    {
     "data": {
      "text/plain": [
       "(4, 23, True, 'hello', 4, 23, 423)"
      ]
     },
     "execution_count": 127,
     "metadata": {},
     "output_type": "execute_result"
    }
   ],
   "source": [
    "t+t1"
   ]
  },
  {
   "cell_type": "code",
   "execution_count": 129,
   "id": "d9c36e47",
   "metadata": {},
   "outputs": [
    {
     "data": {
      "text/plain": [
       "2"
      ]
     },
     "execution_count": 129,
     "metadata": {},
     "output_type": "execute_result"
    }
   ],
   "source": [
    "(t+t1).count(23)"
   ]
  },
  {
   "cell_type": "code",
   "execution_count": 130,
   "id": "5d957264",
   "metadata": {},
   "outputs": [],
   "source": [
    "#convert tuple to list\n",
    "t2=list(t)"
   ]
  },
  {
   "cell_type": "code",
   "execution_count": 131,
   "id": "7f647583",
   "metadata": {},
   "outputs": [
    {
     "data": {
      "text/plain": [
       "list"
      ]
     },
     "execution_count": 131,
     "metadata": {},
     "output_type": "execute_result"
    }
   ],
   "source": [
    "type(t2)"
   ]
  },
  {
   "cell_type": "code",
   "execution_count": 132,
   "id": "856bf7d8",
   "metadata": {},
   "outputs": [
    {
     "data": {
      "text/plain": [
       "(4, 23, True, 'hello')"
      ]
     },
     "execution_count": 132,
     "metadata": {},
     "output_type": "execute_result"
    }
   ],
   "source": [
    "tuple(t2)"
   ]
  },
  {
   "cell_type": "code",
   "execution_count": 133,
   "id": "ae0ce38b",
   "metadata": {},
   "outputs": [
    {
     "data": {
      "text/plain": [
       "list"
      ]
     },
     "execution_count": 133,
     "metadata": {},
     "output_type": "execute_result"
    }
   ],
   "source": [
    "type(t2)"
   ]
  },
  {
   "cell_type": "code",
   "execution_count": 134,
   "id": "ece760d2",
   "metadata": {},
   "outputs": [],
   "source": [
    "#Dictonary\n",
    "d={}"
   ]
  },
  {
   "cell_type": "code",
   "execution_count": 135,
   "id": "baf291cf",
   "metadata": {},
   "outputs": [
    {
     "data": {
      "text/plain": [
       "dict"
      ]
     },
     "execution_count": 135,
     "metadata": {},
     "output_type": "execute_result"
    }
   ],
   "source": [
    "type(d)"
   ]
  },
  {
   "cell_type": "code",
   "execution_count": 136,
   "id": "e41d10e6",
   "metadata": {},
   "outputs": [],
   "source": [
    "d1={1,2,3}"
   ]
  },
  {
   "cell_type": "code",
   "execution_count": 137,
   "id": "f38cce0c",
   "metadata": {},
   "outputs": [
    {
     "data": {
      "text/plain": [
       "set"
      ]
     },
     "execution_count": 137,
     "metadata": {},
     "output_type": "execute_result"
    }
   ],
   "source": [
    "type(d1)"
   ]
  },
  {
   "cell_type": "code",
   "execution_count": 138,
   "id": "839f21ae",
   "metadata": {},
   "outputs": [],
   "source": [
    "d2={'key1': \"value\", 234 :\"xyz\", \"company\":\"learning\",\"no\":2323}"
   ]
  },
  {
   "cell_type": "code",
   "execution_count": 140,
   "id": "61e95656",
   "metadata": {},
   "outputs": [
    {
     "data": {
      "text/plain": [
       "dict"
      ]
     },
     "execution_count": 140,
     "metadata": {},
     "output_type": "execute_result"
    }
   ],
   "source": [
    "type(d2)"
   ]
  },
  {
   "cell_type": "code",
   "execution_count": 141,
   "id": "e940fac5",
   "metadata": {},
   "outputs": [
    {
     "data": {
      "text/plain": [
       "'xyz'"
      ]
     },
     "execution_count": 141,
     "metadata": {},
     "output_type": "execute_result"
    }
   ],
   "source": [
    "d2[234]"
   ]
  },
  {
   "cell_type": "code",
   "execution_count": 144,
   "id": "ca285785",
   "metadata": {},
   "outputs": [
    {
     "data": {
      "text/plain": [
       "'learning'"
      ]
     },
     "execution_count": 144,
     "metadata": {},
     "output_type": "execute_result"
    }
   ],
   "source": [
    "d2[\"company\"]"
   ]
  },
  {
   "cell_type": "code",
   "execution_count": 146,
   "id": "997d6d91",
   "metadata": {},
   "outputs": [],
   "source": [
    "d3={\"name\":\"pc\",\"techstack\":[\"python\",\"docker\",\"AWX\"]}"
   ]
  },
  {
   "cell_type": "code",
   "execution_count": 148,
   "id": "876438ff",
   "metadata": {},
   "outputs": [
    {
     "data": {
      "text/plain": [
       "True"
      ]
     },
     "execution_count": 148,
     "metadata": {},
     "output_type": "execute_result"
    }
   ],
   "source": [
    "\"python\" in d3[\"techstack\"]"
   ]
  },
  {
   "cell_type": "code",
   "execution_count": 149,
   "id": "a022ebed",
   "metadata": {},
   "outputs": [],
   "source": [
    "d4={\"time\":\"new\",\"time\":\"new2\"}"
   ]
  },
  {
   "cell_type": "code",
   "execution_count": 150,
   "id": "1bf3871c",
   "metadata": {},
   "outputs": [
    {
     "data": {
      "text/plain": [
       "'new2'"
      ]
     },
     "execution_count": 150,
     "metadata": {},
     "output_type": "execute_result"
    }
   ],
   "source": [
    "d4[\"time\"]"
   ]
  },
  {
   "cell_type": "code",
   "execution_count": 151,
   "id": "86aa565b",
   "metadata": {},
   "outputs": [],
   "source": [
    "d4[\"test_key\"]=\"hello_world\""
   ]
  },
  {
   "cell_type": "code",
   "execution_count": 152,
   "id": "4287a523",
   "metadata": {},
   "outputs": [
    {
     "data": {
      "text/plain": [
       "{'time': 'new2', 'test_key': 'hello_world'}"
      ]
     },
     "execution_count": 152,
     "metadata": {},
     "output_type": "execute_result"
    }
   ],
   "source": [
    "d4"
   ]
  },
  {
   "cell_type": "code",
   "execution_count": 153,
   "id": "6131badf",
   "metadata": {},
   "outputs": [],
   "source": [
    "d4[\"newkey\"]=d2"
   ]
  },
  {
   "cell_type": "code",
   "execution_count": 154,
   "id": "b2e32190",
   "metadata": {},
   "outputs": [
    {
     "data": {
      "text/plain": [
       "{'time': 'new2',\n",
       " 'test_key': 'hello_world',\n",
       " 'newkey': {'key1': 'value', 234: 'xyz', 'company': 'learning', 'no': 2323}}"
      ]
     },
     "execution_count": 154,
     "metadata": {},
     "output_type": "execute_result"
    }
   ],
   "source": [
    "d4"
   ]
  },
  {
   "cell_type": "code",
   "execution_count": 155,
   "id": "fabf0f99",
   "metadata": {},
   "outputs": [
    {
     "data": {
      "text/plain": [
       "2323"
      ]
     },
     "execution_count": 155,
     "metadata": {},
     "output_type": "execute_result"
    }
   ],
   "source": [
    "d4['newkey']['no']"
   ]
  },
  {
   "cell_type": "code",
   "execution_count": 157,
   "id": "957a906b",
   "metadata": {},
   "outputs": [],
   "source": [
    "d5={_:\"rfrf\"}"
   ]
  },
  {
   "cell_type": "code",
   "execution_count": 158,
   "id": "77ed5ae5",
   "metadata": {},
   "outputs": [
    {
     "data": {
      "text/plain": [
       "'rfrf'"
      ]
     },
     "execution_count": 158,
     "metadata": {},
     "output_type": "execute_result"
    }
   ],
   "source": [
    "d5[_]"
   ]
  },
  {
   "cell_type": "code",
   "execution_count": 159,
   "id": "3fc284db",
   "metadata": {},
   "outputs": [],
   "source": [
    "d6={(1,2,3):\"test\"}"
   ]
  },
  {
   "cell_type": "code",
   "execution_count": 161,
   "id": "414a245a",
   "metadata": {},
   "outputs": [
    {
     "ename": "TypeError",
     "evalue": "unhashable type: 'list'",
     "output_type": "error",
     "traceback": [
      "\u001b[1;31m---------------------------------------------------------------------------\u001b[0m",
      "\u001b[1;31mTypeError\u001b[0m                                 Traceback (most recent call last)",
      "\u001b[1;32mC:\\Users\\PRANSH~1\\AppData\\Local\\Temp/ipykernel_1316/111042155.py\u001b[0m in \u001b[0;36m<module>\u001b[1;34m\u001b[0m\n\u001b[0;32m      1\u001b[0m \u001b[1;31m#Cannot use list as a key in dictonary\u001b[0m\u001b[1;33m\u001b[0m\u001b[1;33m\u001b[0m\u001b[0m\n\u001b[1;32m----> 2\u001b[1;33m \u001b[0md7\u001b[0m\u001b[1;33m=\u001b[0m\u001b[1;33m{\u001b[0m\u001b[1;33m[\u001b[0m\u001b[1;36m1\u001b[0m\u001b[1;33m,\u001b[0m\u001b[1;36m2\u001b[0m\u001b[1;33m,\u001b[0m\u001b[1;36m3\u001b[0m\u001b[1;33m]\u001b[0m\u001b[1;33m:\u001b[0m\u001b[1;34m\"test\"\u001b[0m\u001b[1;33m}\u001b[0m\u001b[1;33m\u001b[0m\u001b[1;33m\u001b[0m\u001b[0m\n\u001b[0m",
      "\u001b[1;31mTypeError\u001b[0m: unhashable type: 'list'"
     ]
    }
   ],
   "source": [
    "#Cannot use list as a key in dictonary\n",
    "d7={[1,2,3]:\"test\"}"
   ]
  },
  {
   "cell_type": "code",
   "execution_count": 163,
   "id": "2e09252c",
   "metadata": {},
   "outputs": [
    {
     "ename": "TypeError",
     "evalue": "unhashable type: 'dict'",
     "output_type": "error",
     "traceback": [
      "\u001b[1;31m---------------------------------------------------------------------------\u001b[0m",
      "\u001b[1;31mTypeError\u001b[0m                                 Traceback (most recent call last)",
      "\u001b[1;32mC:\\Users\\PRANSH~1\\AppData\\Local\\Temp/ipykernel_1316/3924826276.py\u001b[0m in \u001b[0;36m<module>\u001b[1;34m\u001b[0m\n\u001b[0;32m      1\u001b[0m \u001b[1;31m#Same situation with list\u001b[0m\u001b[1;33m\u001b[0m\u001b[1;33m\u001b[0m\u001b[0m\n\u001b[1;32m----> 2\u001b[1;33m \u001b[0md8\u001b[0m\u001b[1;33m=\u001b[0m\u001b[1;33m{\u001b[0m\u001b[1;33m{\u001b[0m\u001b[1;36m3\u001b[0m\u001b[1;33m:\u001b[0m\u001b[1;36m4\u001b[0m\u001b[1;33m}\u001b[0m\u001b[1;33m:\u001b[0m\u001b[1;34m\"test\"\u001b[0m\u001b[1;33m}\u001b[0m\u001b[1;33m\u001b[0m\u001b[1;33m\u001b[0m\u001b[0m\n\u001b[0m",
      "\u001b[1;31mTypeError\u001b[0m: unhashable type: 'dict'"
     ]
    }
   ],
   "source": [
    "#Same situation with list\n",
    "d8={{3:4}:\"test\"}"
   ]
  },
  {
   "cell_type": "code",
   "execution_count": 164,
   "id": "5d3e728a",
   "metadata": {},
   "outputs": [
    {
     "ename": "TypeError",
     "evalue": "unsupported operand type(s) for +: 'dict' and 'dict'",
     "output_type": "error",
     "traceback": [
      "\u001b[1;31m---------------------------------------------------------------------------\u001b[0m",
      "\u001b[1;31mTypeError\u001b[0m                                 Traceback (most recent call last)",
      "\u001b[1;32mC:\\Users\\PRANSH~1\\AppData\\Local\\Temp/ipykernel_1316/2884743602.py\u001b[0m in \u001b[0;36m<module>\u001b[1;34m\u001b[0m\n\u001b[1;32m----> 1\u001b[1;33m \u001b[0md2\u001b[0m\u001b[1;33m+\u001b[0m\u001b[0md3\u001b[0m\u001b[1;33m\u001b[0m\u001b[1;33m\u001b[0m\u001b[0m\n\u001b[0m",
      "\u001b[1;31mTypeError\u001b[0m: unsupported operand type(s) for +: 'dict' and 'dict'"
     ]
    }
   ],
   "source": [
    "#concatnation is not allowed in dictonary\n",
    "d2+d3"
   ]
  },
  {
   "cell_type": "code",
   "execution_count": 165,
   "id": "9496257b",
   "metadata": {},
   "outputs": [
    {
     "data": {
      "text/plain": [
       "dict_keys(['key1', 234, 'company', 'no'])"
      ]
     },
     "execution_count": 165,
     "metadata": {},
     "output_type": "execute_result"
    }
   ],
   "source": [
    "d2.keys()"
   ]
  },
  {
   "cell_type": "code",
   "execution_count": 166,
   "id": "b45442ef",
   "metadata": {},
   "outputs": [
    {
     "data": {
      "text/plain": [
       "dict_values(['value', 'xyz', 'learning', 2323])"
      ]
     },
     "execution_count": 166,
     "metadata": {},
     "output_type": "execute_result"
    }
   ],
   "source": [
    "d2.values()"
   ]
  },
  {
   "cell_type": "code",
   "execution_count": 167,
   "id": "4e8489a5",
   "metadata": {},
   "outputs": [
    {
     "data": {
      "text/plain": [
       "dict_items([('key1', 'value'), (234, 'xyz'), ('company', 'learning'), ('no', 2323)])"
      ]
     },
     "execution_count": 167,
     "metadata": {},
     "output_type": "execute_result"
    }
   ],
   "source": [
    "d2.items()"
   ]
  },
  {
   "cell_type": "code",
   "execution_count": 168,
   "id": "2879fdcc",
   "metadata": {},
   "outputs": [],
   "source": [
    "s={3,4,5,6}"
   ]
  },
  {
   "cell_type": "code",
   "execution_count": 171,
   "id": "51663d82",
   "metadata": {},
   "outputs": [
    {
     "data": {
      "text/plain": [
       "set"
      ]
     },
     "execution_count": 171,
     "metadata": {},
     "output_type": "execute_result"
    }
   ],
   "source": [
    "type(s)"
   ]
  },
  {
   "cell_type": "code",
   "execution_count": 172,
   "id": "200bf83d",
   "metadata": {},
   "outputs": [],
   "source": [
    "s1={4,5,74,3,57,8,9,3,2,57,9,45}"
   ]
  },
  {
   "cell_type": "code",
   "execution_count": 176,
   "id": "6dd4b177",
   "metadata": {},
   "outputs": [
    {
     "data": {
      "text/plain": [
       "{2, 3, 4, 5, 8, 9, 45, 57, 74}"
      ]
     },
     "execution_count": 176,
     "metadata": {},
     "output_type": "execute_result"
    }
   ],
   "source": [
    "#set always return unique element removes duplicate data\n",
    "#set does not give sorted results\n",
    "s1"
   ]
  },
  {
   "cell_type": "code",
   "execution_count": 180,
   "id": "3f2028a6",
   "metadata": {},
   "outputs": [],
   "source": [
    "s3={\"sudh\",45,76,2,56,32,99,\"y\",'b',0}"
   ]
  },
  {
   "cell_type": "code",
   "execution_count": 181,
   "id": "4458c92b",
   "metadata": {},
   "outputs": [
    {
     "data": {
      "text/plain": [
       "{0, 2, 32, 45, 56, 76, 99, 'b', 'sudh', 'y'}"
      ]
     },
     "execution_count": 181,
     "metadata": {},
     "output_type": "execute_result"
    }
   ],
   "source": [
    "s3"
   ]
  },
  {
   "cell_type": "code",
   "execution_count": 185,
   "id": "38d65de9",
   "metadata": {},
   "outputs": [
    {
     "ename": "TypeError",
     "evalue": "'set' object is not subscriptable",
     "output_type": "error",
     "traceback": [
      "\u001b[1;31m---------------------------------------------------------------------------\u001b[0m",
      "\u001b[1;31mTypeError\u001b[0m                                 Traceback (most recent call last)",
      "\u001b[1;32mC:\\Users\\PRANSH~1\\AppData\\Local\\Temp/ipykernel_1316/681006841.py\u001b[0m in \u001b[0;36m<module>\u001b[1;34m\u001b[0m\n\u001b[0;32m      1\u001b[0m \u001b[1;31m# We cannot access any objects in sets\u001b[0m\u001b[1;33m\u001b[0m\u001b[1;33m\u001b[0m\u001b[0m\n\u001b[1;32m----> 2\u001b[1;33m \u001b[0ms3\u001b[0m\u001b[1;33m[\u001b[0m\u001b[1;36m0\u001b[0m\u001b[1;33m]\u001b[0m\u001b[1;33m\u001b[0m\u001b[1;33m\u001b[0m\u001b[0m\n\u001b[0m",
      "\u001b[1;31mTypeError\u001b[0m: 'set' object is not subscriptable"
     ]
    }
   ],
   "source": [
    "# We cannot access any objects in sets\n",
    "s3[0]"
   ]
  },
  {
   "cell_type": "code",
   "execution_count": 186,
   "id": "45f87efb",
   "metadata": {},
   "outputs": [
    {
     "data": {
      "text/plain": [
       "[32, 0, 2, 99, 'y', 76, 45, 'b', 56, 'sudh']"
      ]
     },
     "execution_count": 186,
     "metadata": {},
     "output_type": "execute_result"
    }
   ],
   "source": [
    "list(s3)"
   ]
  },
  {
   "cell_type": "code",
   "execution_count": 187,
   "id": "71100680",
   "metadata": {},
   "outputs": [
    {
     "data": {
      "text/plain": [
       "(32, 0, 2, 99, 'y', 76, 45, 'b', 56, 'sudh')"
      ]
     },
     "execution_count": 187,
     "metadata": {},
     "output_type": "execute_result"
    }
   ],
   "source": [
    "tuple(s3)"
   ]
  },
  {
   "cell_type": "code",
   "execution_count": 188,
   "id": "f2b1a58c",
   "metadata": {},
   "outputs": [
    {
     "data": {
      "text/plain": [
       "[9, 5, 7]"
      ]
     },
     "execution_count": 188,
     "metadata": {},
     "output_type": "execute_result"
    }
   ],
   "source": [
    "#if duplicate entities exists in list then we can convert into set and it can remove it and then convert it back to set\n",
    "l=[5,5,5,5,5,7,7,7,7,9,9,9,9]\n",
    "l=list(set(l))\n",
    "l"
   ]
  },
  {
   "cell_type": "code",
   "execution_count": 190,
   "id": "c36cc890",
   "metadata": {},
   "outputs": [
    {
     "data": {
      "text/plain": [
       "{2, 3, 4, 5, 8, 9, 45, 57, 74}"
      ]
     },
     "execution_count": 190,
     "metadata": {},
     "output_type": "execute_result"
    }
   ],
   "source": [
    "s1"
   ]
  },
  {
   "cell_type": "code",
   "execution_count": 191,
   "id": "a81e1bfc",
   "metadata": {},
   "outputs": [],
   "source": [
    "s1.add(34)"
   ]
  },
  {
   "cell_type": "code",
   "execution_count": 192,
   "id": "0a5717f0",
   "metadata": {},
   "outputs": [
    {
     "data": {
      "text/plain": [
       "{2, 3, 4, 5, 8, 9, 34, 45, 57, 74}"
      ]
     },
     "execution_count": 192,
     "metadata": {},
     "output_type": "execute_result"
    }
   ],
   "source": [
    "s1"
   ]
  },
  {
   "cell_type": "code",
   "execution_count": 193,
   "id": "a7961411",
   "metadata": {},
   "outputs": [
    {
     "ename": "TypeError",
     "evalue": "unhashable type: 'list'",
     "output_type": "error",
     "traceback": [
      "\u001b[1;31m---------------------------------------------------------------------------\u001b[0m",
      "\u001b[1;31mTypeError\u001b[0m                                 Traceback (most recent call last)",
      "\u001b[1;32mC:\\Users\\PRANSH~1\\AppData\\Local\\Temp/ipykernel_1316/3377452356.py\u001b[0m in \u001b[0;36m<module>\u001b[1;34m\u001b[0m\n\u001b[0;32m      1\u001b[0m \u001b[1;31m#we cannot add list in a set, we will have to do it individually\u001b[0m\u001b[1;33m\u001b[0m\u001b[1;33m\u001b[0m\u001b[0m\n\u001b[1;32m----> 2\u001b[1;33m \u001b[0ms1\u001b[0m\u001b[1;33m.\u001b[0m\u001b[0madd\u001b[0m\u001b[1;33m(\u001b[0m\u001b[1;33m[\u001b[0m\u001b[1;36m3\u001b[0m\u001b[1;33m,\u001b[0m\u001b[1;36m3\u001b[0m\u001b[1;33m,\u001b[0m\u001b[1;36m3\u001b[0m\u001b[1;33m]\u001b[0m\u001b[1;33m)\u001b[0m\u001b[1;33m\u001b[0m\u001b[1;33m\u001b[0m\u001b[0m\n\u001b[0m",
      "\u001b[1;31mTypeError\u001b[0m: unhashable type: 'list'"
     ]
    }
   ],
   "source": [
    "#we cannot add list in a set, we will have to do it individually\n",
    "s1.add([3,3,3])"
   ]
  },
  {
   "cell_type": "code",
   "execution_count": 194,
   "id": "4cd063b7",
   "metadata": {},
   "outputs": [],
   "source": [
    "s={(1,2,3),4,5,7}"
   ]
  },
  {
   "cell_type": "code",
   "execution_count": 195,
   "id": "e0fb4d40",
   "metadata": {},
   "outputs": [
    {
     "data": {
      "text/plain": [
       "{(1, 2, 3), 4, 5, 7}"
      ]
     },
     "execution_count": 195,
     "metadata": {},
     "output_type": "execute_result"
    }
   ],
   "source": [
    "s"
   ]
  },
  {
   "cell_type": "code",
   "execution_count": 196,
   "id": "5a497085",
   "metadata": {},
   "outputs": [
    {
     "data": {
      "text/plain": [
       "set"
      ]
     },
     "execution_count": 196,
     "metadata": {},
     "output_type": "execute_result"
    }
   ],
   "source": [
    "type(s)"
   ]
  },
  {
   "cell_type": "code",
   "execution_count": 197,
   "id": "a08c2509",
   "metadata": {},
   "outputs": [],
   "source": [
    "#Immutable entities are allowed in set"
   ]
  },
  {
   "cell_type": "code",
   "execution_count": 198,
   "id": "0a4f8fbc",
   "metadata": {},
   "outputs": [],
   "source": [
    "s.remove(4)"
   ]
  },
  {
   "cell_type": "code",
   "execution_count": 199,
   "id": "c4d26e08",
   "metadata": {},
   "outputs": [
    {
     "data": {
      "text/plain": [
       "{(1, 2, 3), 5, 7}"
      ]
     },
     "execution_count": 199,
     "metadata": {},
     "output_type": "execute_result"
    }
   ],
   "source": [
    "s"
   ]
  },
  {
   "cell_type": "code",
   "execution_count": 200,
   "id": "4444dd20",
   "metadata": {},
   "outputs": [],
   "source": [
    "s.discard(3)"
   ]
  },
  {
   "cell_type": "code",
   "execution_count": null,
   "id": "62989058",
   "metadata": {},
   "outputs": [],
   "source": []
  }
 ],
 "metadata": {
  "kernelspec": {
   "display_name": "Python 3 (ipykernel)",
   "language": "python",
   "name": "python3"
  },
  "language_info": {
   "codemirror_mode": {
    "name": "ipython",
    "version": 3
   },
   "file_extension": ".py",
   "mimetype": "text/x-python",
   "name": "python",
   "nbconvert_exporter": "python",
   "pygments_lexer": "ipython3",
   "version": "3.9.7"
  }
 },
 "nbformat": 4,
 "nbformat_minor": 5
}
