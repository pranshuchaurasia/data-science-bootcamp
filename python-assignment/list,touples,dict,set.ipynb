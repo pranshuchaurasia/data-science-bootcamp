{
 "cells": [
  {
   "cell_type": "code",
   "execution_count": 64,
   "id": "31ae3bef",
   "metadata": {},
   "outputs": [],
   "source": [
    "l=[1,2,2,True,45.67,\"sudh\"]"
   ]
  },
  {
   "cell_type": "code",
   "execution_count": 65,
   "id": "54ba0516",
   "metadata": {},
   "outputs": [
    {
     "data": {
      "text/plain": [
       "1"
      ]
     },
     "execution_count": 65,
     "metadata": {},
     "output_type": "execute_result"
    }
   ],
   "source": [
    "l[0]"
   ]
  },
  {
   "cell_type": "code",
   "execution_count": 66,
   "id": "c0edc413",
   "metadata": {},
   "outputs": [
    {
     "data": {
      "text/plain": [
       "'sudh'"
      ]
     },
     "execution_count": 66,
     "metadata": {},
     "output_type": "execute_result"
    }
   ],
   "source": [
    "l[-1]"
   ]
  },
  {
   "cell_type": "code",
   "execution_count": 67,
   "id": "1f5f4feb",
   "metadata": {},
   "outputs": [
    {
     "data": {
      "text/plain": [
       "[1, 2, 2, True, 45.67]"
      ]
     },
     "execution_count": 67,
     "metadata": {},
     "output_type": "execute_result"
    }
   ],
   "source": [
    "l[0:5]"
   ]
  },
  {
   "cell_type": "code",
   "execution_count": 68,
   "id": "1fe35aaa",
   "metadata": {},
   "outputs": [
    {
     "data": {
      "text/plain": [
       "[1, 2, 2, True, 45.67, 'sudh', (34+4j)]"
      ]
     },
     "execution_count": 68,
     "metadata": {},
     "output_type": "execute_result"
    }
   ],
   "source": [
    "l+[34+4j]"
   ]
  },
  {
   "cell_type": "code",
   "execution_count": 69,
   "id": "42f49c5f",
   "metadata": {},
   "outputs": [
    {
     "data": {
      "text/plain": [
       "True"
      ]
     },
     "execution_count": 69,
     "metadata": {},
     "output_type": "execute_result"
    }
   ],
   "source": [
    "2 in l"
   ]
  },
  {
   "cell_type": "code",
   "execution_count": 70,
   "id": "dd979fb5",
   "metadata": {},
   "outputs": [
    {
     "data": {
      "text/plain": [
       "False"
      ]
     },
     "execution_count": 70,
     "metadata": {},
     "output_type": "execute_result"
    }
   ],
   "source": [
    "#Search in a list use in function\n",
    "3 in l"
   ]
  },
  {
   "cell_type": "code",
   "execution_count": 71,
   "id": "b5bb91ff",
   "metadata": {},
   "outputs": [],
   "source": [
    "#  max(l), SAME WITH min(l) cannot be used with differnt datatype"
   ]
  },
  {
   "cell_type": "code",
   "execution_count": 72,
   "id": "904bfbb3",
   "metadata": {},
   "outputs": [
    {
     "data": {
      "text/plain": [
       "1"
      ]
     },
     "execution_count": 72,
     "metadata": {},
     "output_type": "execute_result"
    }
   ],
   "source": [
    "#Pop in l(remove a data from exisiting list)\n",
    "l.pop(0)"
   ]
  },
  {
   "cell_type": "code",
   "execution_count": 73,
   "id": "a0eb0dd0",
   "metadata": {},
   "outputs": [
    {
     "data": {
      "text/plain": [
       "[2, 2, True, 45.67, 'sudh']"
      ]
     },
     "execution_count": 73,
     "metadata": {},
     "output_type": "execute_result"
    }
   ],
   "source": [
    "l"
   ]
  },
  {
   "cell_type": "code",
   "execution_count": 74,
   "id": "d28d6970",
   "metadata": {},
   "outputs": [],
   "source": [
    "l.append([1,2])"
   ]
  },
  {
   "cell_type": "code",
   "execution_count": 75,
   "id": "6bc6adb0",
   "metadata": {},
   "outputs": [
    {
     "data": {
      "text/plain": [
       "[2, 2, True, 45.67, 'sudh', [1, 2]]"
      ]
     },
     "execution_count": 75,
     "metadata": {},
     "output_type": "execute_result"
    }
   ],
   "source": [
    "l"
   ]
  },
  {
   "cell_type": "code",
   "execution_count": 76,
   "id": "09b6fff4",
   "metadata": {},
   "outputs": [
    {
     "data": {
      "text/plain": [
       "[1, 2]"
      ]
     },
     "execution_count": 76,
     "metadata": {},
     "output_type": "execute_result"
    }
   ],
   "source": [
    "l.pop()"
   ]
  },
  {
   "cell_type": "code",
   "execution_count": 77,
   "id": "24ccebbc",
   "metadata": {},
   "outputs": [
    {
     "data": {
      "text/plain": [
       "[2, 2, True, 45.67, 'sudh']"
      ]
     },
     "execution_count": 77,
     "metadata": {},
     "output_type": "execute_result"
    }
   ],
   "source": [
    "l"
   ]
  },
  {
   "cell_type": "code",
   "execution_count": 78,
   "id": "e6f05b1d",
   "metadata": {},
   "outputs": [],
   "source": [
    "l.reverse()\n",
    "#does reverse it permanently"
   ]
  },
  {
   "cell_type": "code",
   "execution_count": 79,
   "id": "c1a4ea5f",
   "metadata": {},
   "outputs": [
    {
     "data": {
      "text/plain": [
       "[2, 2, True, 45.67, 'sudh']"
      ]
     },
     "execution_count": 79,
     "metadata": {},
     "output_type": "execute_result"
    }
   ],
   "source": [
    "l[::-1]"
   ]
  },
  {
   "cell_type": "code",
   "execution_count": 80,
   "id": "ff9b1642",
   "metadata": {},
   "outputs": [
    {
     "data": {
      "text/plain": [
       "['sudh', 45.67, True, 2, 2]"
      ]
     },
     "execution_count": 80,
     "metadata": {},
     "output_type": "execute_result"
    }
   ],
   "source": [
    "l"
   ]
  },
  {
   "cell_type": "code",
   "execution_count": 81,
   "id": "d3784580",
   "metadata": {},
   "outputs": [],
   "source": [
    "l1=[34,45,3254324,32547,324]"
   ]
  },
  {
   "cell_type": "code",
   "execution_count": 82,
   "id": "2ef7f4fd",
   "metadata": {},
   "outputs": [],
   "source": [
    "l1.sort()"
   ]
  },
  {
   "cell_type": "code",
   "execution_count": 83,
   "id": "a1e51a45",
   "metadata": {},
   "outputs": [
    {
     "data": {
      "text/plain": [
       "[34, 45, 324, 32547, 3254324]"
      ]
     },
     "execution_count": 83,
     "metadata": {},
     "output_type": "execute_result"
    }
   ],
   "source": [
    "l1"
   ]
  },
  {
   "cell_type": "code",
   "execution_count": 84,
   "id": "4080a7a2",
   "metadata": {},
   "outputs": [],
   "source": [
    "l1.sort(reverse=True)"
   ]
  },
  {
   "cell_type": "code",
   "execution_count": 85,
   "id": "48f292d1",
   "metadata": {},
   "outputs": [
    {
     "data": {
      "text/plain": [
       "[3254324, 32547, 324, 45, 34]"
      ]
     },
     "execution_count": 85,
     "metadata": {},
     "output_type": "execute_result"
    }
   ],
   "source": [
    "l1"
   ]
  },
  {
   "cell_type": "code",
   "execution_count": 86,
   "id": "5e10e759",
   "metadata": {},
   "outputs": [],
   "source": [
    "l3=[l,l1]"
   ]
  },
  {
   "cell_type": "code",
   "execution_count": 87,
   "id": "3f0ee4e5",
   "metadata": {},
   "outputs": [
    {
     "data": {
      "text/plain": [
       "[['sudh', 45.67, True, 2, 2], [3254324, 32547, 324, 45, 34]]"
      ]
     },
     "execution_count": 87,
     "metadata": {},
     "output_type": "execute_result"
    }
   ],
   "source": [
    "l3"
   ]
  },
  {
   "cell_type": "code",
   "execution_count": 88,
   "id": "1793ecf8",
   "metadata": {},
   "outputs": [
    {
     "data": {
      "text/plain": [
       "45"
      ]
     },
     "execution_count": 88,
     "metadata": {},
     "output_type": "execute_result"
    }
   ],
   "source": [
    "#index starts from zero\n",
    "l3[1][3]"
   ]
  },
  {
   "cell_type": "code",
   "execution_count": 89,
   "id": "3e8cc248",
   "metadata": {},
   "outputs": [
    {
     "data": {
      "text/plain": [
       "[3254324, 32547, 324, 45, 34]"
      ]
     },
     "execution_count": 89,
     "metadata": {},
     "output_type": "execute_result"
    }
   ],
   "source": [
    "l3.append(45)\n",
    "l3.pop()\n",
    "l3.pop()"
   ]
  },
  {
   "cell_type": "code",
   "execution_count": 90,
   "id": "0b78b4c5",
   "metadata": {},
   "outputs": [
    {
     "data": {
      "text/plain": [
       "0"
      ]
     },
     "execution_count": 90,
     "metadata": {},
     "output_type": "execute_result"
    }
   ],
   "source": [
    "l3.count(45)"
   ]
  },
  {
   "cell_type": "code",
   "execution_count": 91,
   "id": "5de5ebe4",
   "metadata": {},
   "outputs": [
    {
     "data": {
      "text/plain": [
       "[['sudh', 45.67, True, 2, 2]]"
      ]
     },
     "execution_count": 91,
     "metadata": {},
     "output_type": "execute_result"
    }
   ],
   "source": [
    "l3"
   ]
  },
  {
   "cell_type": "code",
   "execution_count": 92,
   "id": "bb29eee8",
   "metadata": {},
   "outputs": [],
   "source": [
    "#append vs extend function\n",
    "l.append(45)\n",
    "l3.extend([23,435])"
   ]
  },
  {
   "cell_type": "code",
   "execution_count": 93,
   "id": "e1e8116c",
   "metadata": {},
   "outputs": [
    {
     "data": {
      "text/plain": [
       "['sudh', 45.67, True, 2, 2, 45]"
      ]
     },
     "execution_count": 93,
     "metadata": {},
     "output_type": "execute_result"
    }
   ],
   "source": [
    "l"
   ]
  },
  {
   "cell_type": "code",
   "execution_count": 94,
   "id": "b5c3d85e",
   "metadata": {},
   "outputs": [
    {
     "data": {
      "text/plain": [
       "[['sudh', 45.67, True, 2, 2, 45], 23, 435]"
      ]
     },
     "execution_count": 94,
     "metadata": {},
     "output_type": "execute_result"
    }
   ],
   "source": [
    "l3"
   ]
  },
  {
   "cell_type": "code",
   "execution_count": 97,
   "id": "50b700cb",
   "metadata": {},
   "outputs": [
    {
     "data": {
      "text/plain": [
       "2"
      ]
     },
     "execution_count": 97,
     "metadata": {},
     "output_type": "execute_result"
    }
   ],
   "source": [
    "l3.index(435)"
   ]
  },
  {
   "cell_type": "code",
   "execution_count": 98,
   "id": "d3961001",
   "metadata": {},
   "outputs": [
    {
     "data": {
      "text/plain": [
       "['sudh', 45.67, True, 2, 2, 45]"
      ]
     },
     "execution_count": 98,
     "metadata": {},
     "output_type": "execute_result"
    }
   ],
   "source": [
    "l"
   ]
  },
  {
   "cell_type": "code",
   "execution_count": 99,
   "id": "f110ff75",
   "metadata": {},
   "outputs": [],
   "source": [
    "l.insert(1,[1,2,3,4])"
   ]
  },
  {
   "cell_type": "code",
   "execution_count": 100,
   "id": "515b0ab8",
   "metadata": {},
   "outputs": [
    {
     "data": {
      "text/plain": [
       "['sudh', [1, 2, 3, 4], 45.67, True, 2, 2, 45]"
      ]
     },
     "execution_count": 100,
     "metadata": {},
     "output_type": "execute_result"
    }
   ],
   "source": [
    "l"
   ]
  },
  {
   "cell_type": "code",
   "execution_count": 101,
   "id": "3bd48d18",
   "metadata": {},
   "outputs": [],
   "source": [
    "l.insert(5,False)"
   ]
  },
  {
   "cell_type": "code",
   "execution_count": 102,
   "id": "cbc03d45",
   "metadata": {},
   "outputs": [
    {
     "data": {
      "text/plain": [
       "['sudh', [1, 2, 3, 4], 45.67, True, 2, False, 2, 45]"
      ]
     },
     "execution_count": 102,
     "metadata": {},
     "output_type": "execute_result"
    }
   ],
   "source": [
    "l"
   ]
  },
  {
   "cell_type": "code",
   "execution_count": 105,
   "id": "7f70ffdf",
   "metadata": {},
   "outputs": [
    {
     "data": {
      "text/plain": [
       "45.67"
      ]
     },
     "execution_count": 105,
     "metadata": {},
     "output_type": "execute_result"
    }
   ],
   "source": [
    "#Remove at index 1\n",
    "l.pop(1)"
   ]
  },
  {
   "cell_type": "code",
   "execution_count": 106,
   "id": "19e3bb0a",
   "metadata": {},
   "outputs": [
    {
     "data": {
      "text/plain": [
       "['sudh', True, 2, False, 2, 45]"
      ]
     },
     "execution_count": 106,
     "metadata": {},
     "output_type": "execute_result"
    }
   ],
   "source": [
    "l"
   ]
  },
  {
   "cell_type": "code",
   "execution_count": 107,
   "id": "bb2b7fd8",
   "metadata": {},
   "outputs": [
    {
     "data": {
      "text/plain": [
       "45"
      ]
     },
     "execution_count": 107,
     "metadata": {},
     "output_type": "execute_result"
    }
   ],
   "source": [
    "l.pop()"
   ]
  },
  {
   "cell_type": "code",
   "execution_count": 108,
   "id": "e4efed30",
   "metadata": {},
   "outputs": [
    {
     "data": {
      "text/plain": [
       "['sudh', True, 2, False, 2]"
      ]
     },
     "execution_count": 108,
     "metadata": {},
     "output_type": "execute_result"
    }
   ],
   "source": [
    "l"
   ]
  },
  {
   "cell_type": "code",
   "execution_count": 111,
   "id": "d750903b",
   "metadata": {},
   "outputs": [],
   "source": [
    "#Find the first occurance of 2 and remove it\n",
    "l.remove(2)\n"
   ]
  },
  {
   "cell_type": "code",
   "execution_count": 112,
   "id": "233efd0a",
   "metadata": {},
   "outputs": [
    {
     "data": {
      "text/plain": [
       "['sudh', True, False]"
      ]
     },
     "execution_count": 112,
     "metadata": {},
     "output_type": "execute_result"
    }
   ],
   "source": [
    "l"
   ]
  },
  {
   "cell_type": "code",
   "execution_count": 115,
   "id": "038a6443",
   "metadata": {},
   "outputs": [],
   "source": [
    "l[1]='trgt'"
   ]
  },
  {
   "cell_type": "code",
   "execution_count": 116,
   "id": "b035b3cd",
   "metadata": {},
   "outputs": [
    {
     "data": {
      "text/plain": [
       "['sudh', 'trgt', False]"
      ]
     },
     "execution_count": 116,
     "metadata": {},
     "output_type": "execute_result"
    }
   ],
   "source": [
    "l"
   ]
  },
  {
   "cell_type": "code",
   "execution_count": 117,
   "id": "26242b05",
   "metadata": {},
   "outputs": [],
   "source": [
    "#string are immutable, no reassignment operations are allowed\n",
    "#Lists are muutable objects"
   ]
  },
  {
   "cell_type": "code",
   "execution_count": 118,
   "id": "a83c0d20",
   "metadata": {},
   "outputs": [],
   "source": [
    "#Tuples\n",
    "t=(4,23,True,\"hello\")"
   ]
  },
  {
   "cell_type": "code",
   "execution_count": 119,
   "id": "41de69db",
   "metadata": {},
   "outputs": [
    {
     "data": {
      "text/plain": [
       "tuple"
      ]
     },
     "execution_count": 119,
     "metadata": {},
     "output_type": "execute_result"
    }
   ],
   "source": [
    "type(t)"
   ]
  },
  {
   "cell_type": "code",
   "execution_count": 121,
   "id": "154aa5c5",
   "metadata": {},
   "outputs": [
    {
     "data": {
      "text/plain": [
       "'hello'"
      ]
     },
     "execution_count": 121,
     "metadata": {},
     "output_type": "execute_result"
    }
   ],
   "source": [
    "t[3]"
   ]
  },
  {
   "cell_type": "code",
   "execution_count": 124,
   "id": "0b091376",
   "metadata": {},
   "outputs": [
    {
     "data": {
      "text/plain": [
       "(4, 23, True)"
      ]
     },
     "execution_count": 124,
     "metadata": {},
     "output_type": "execute_result"
    }
   ],
   "source": [
    "t[0:3]"
   ]
  },
  {
   "cell_type": "code",
   "execution_count": 125,
   "id": "681705b7",
   "metadata": {},
   "outputs": [
    {
     "data": {
      "text/plain": [
       "(4, True)"
      ]
     },
     "execution_count": 125,
     "metadata": {},
     "output_type": "execute_result"
    }
   ],
   "source": [
    "t[0:6:2]"
   ]
  },
  {
   "cell_type": "code",
   "execution_count": 126,
   "id": "45d80633",
   "metadata": {},
   "outputs": [],
   "source": [
    "t1=(4,23,423)"
   ]
  },
  {
   "cell_type": "code",
   "execution_count": 127,
   "id": "ee32126e",
   "metadata": {},
   "outputs": [
    {
     "data": {
      "text/plain": [
       "(4, 23, True, 'hello', 4, 23, 423)"
      ]
     },
     "execution_count": 127,
     "metadata": {},
     "output_type": "execute_result"
    }
   ],
   "source": [
    "t+t1"
   ]
  },
  {
   "cell_type": "code",
   "execution_count": 129,
   "id": "642685c9",
   "metadata": {},
   "outputs": [
    {
     "data": {
      "text/plain": [
       "2"
      ]
     },
     "execution_count": 129,
     "metadata": {},
     "output_type": "execute_result"
    }
   ],
   "source": [
    "(t+t1).count(23)"
   ]
  },
  {
   "cell_type": "code",
   "execution_count": 130,
   "id": "75670014",
   "metadata": {},
   "outputs": [],
   "source": [
    "#convert tuple to list\n",
    "t2=list(t)"
   ]
  },
  {
   "cell_type": "code",
   "execution_count": 131,
   "id": "222e31b8",
   "metadata": {},
   "outputs": [
    {
     "data": {
      "text/plain": [
       "list"
      ]
     },
     "execution_count": 131,
     "metadata": {},
     "output_type": "execute_result"
    }
   ],
   "source": [
    "type(t2)"
   ]
  },
  {
   "cell_type": "code",
   "execution_count": 132,
   "id": "08e4cb41",
   "metadata": {},
   "outputs": [
    {
     "data": {
      "text/plain": [
       "(4, 23, True, 'hello')"
      ]
     },
     "execution_count": 132,
     "metadata": {},
     "output_type": "execute_result"
    }
   ],
   "source": [
    "tuple(t2)"
   ]
  },
  {
   "cell_type": "code",
   "execution_count": 133,
   "id": "552eb34c",
   "metadata": {},
   "outputs": [
    {
     "data": {
      "text/plain": [
       "list"
      ]
     },
     "execution_count": 133,
     "metadata": {},
     "output_type": "execute_result"
    }
   ],
   "source": [
    "type(t2)"
   ]
  },
  {
   "cell_type": "code",
   "execution_count": 134,
   "id": "9ec3db4b",
   "metadata": {},
   "outputs": [],
   "source": [
    "#Dictonary\n",
    "d={}"
   ]
  },
  {
   "cell_type": "code",
   "execution_count": 135,
   "id": "13f822f4",
   "metadata": {},
   "outputs": [
    {
     "data": {
      "text/plain": [
       "dict"
      ]
     },
     "execution_count": 135,
     "metadata": {},
     "output_type": "execute_result"
    }
   ],
   "source": [
    "type(d)"
   ]
  },
  {
   "cell_type": "code",
   "execution_count": 136,
   "id": "a06ac260",
   "metadata": {},
   "outputs": [],
   "source": [
    "d1={1,2,3}"
   ]
  },
  {
   "cell_type": "code",
   "execution_count": 137,
   "id": "91f9de41",
   "metadata": {},
   "outputs": [
    {
     "data": {
      "text/plain": [
       "set"
      ]
     },
     "execution_count": 137,
     "metadata": {},
     "output_type": "execute_result"
    }
   ],
   "source": [
    "type(d1)"
   ]
  },
  {
   "cell_type": "code",
   "execution_count": 138,
   "id": "1b7d576e",
   "metadata": {},
   "outputs": [],
   "source": [
    "d2={'key1': \"value\", 234 :\"xyz\", \"company\":\"learning\",\"no\":2323}"
   ]
  },
  {
   "cell_type": "code",
   "execution_count": 140,
   "id": "e25ebf82",
   "metadata": {},
   "outputs": [
    {
     "data": {
      "text/plain": [
       "dict"
      ]
     },
     "execution_count": 140,
     "metadata": {},
     "output_type": "execute_result"
    }
   ],
   "source": [
    "type(d2)"
   ]
  },
  {
   "cell_type": "code",
   "execution_count": 141,
   "id": "c76876c5",
   "metadata": {},
   "outputs": [
    {
     "data": {
      "text/plain": [
       "'xyz'"
      ]
     },
     "execution_count": 141,
     "metadata": {},
     "output_type": "execute_result"
    }
   ],
   "source": [
    "d2[234]"
   ]
  },
  {
   "cell_type": "code",
   "execution_count": 144,
   "id": "d55bea8d",
   "metadata": {},
   "outputs": [
    {
     "data": {
      "text/plain": [
       "'learning'"
      ]
     },
     "execution_count": 144,
     "metadata": {},
     "output_type": "execute_result"
    }
   ],
   "source": [
    "d2[\"company\"]"
   ]
  },
  {
   "cell_type": "code",
   "execution_count": 146,
   "id": "a7d60e7f",
   "metadata": {},
   "outputs": [],
   "source": [
    "d3={\"name\":\"pc\",\"techstack\":[\"python\",\"docker\",\"AWX\"]}"
   ]
  },
  {
   "cell_type": "code",
   "execution_count": 148,
   "id": "63b20511",
   "metadata": {},
   "outputs": [
    {
     "data": {
      "text/plain": [
       "True"
      ]
     },
     "execution_count": 148,
     "metadata": {},
     "output_type": "execute_result"
    }
   ],
   "source": [
    "\"python\" in d3[\"techstack\"]"
   ]
  },
  {
   "cell_type": "code",
   "execution_count": 149,
   "id": "13edc92e",
   "metadata": {},
   "outputs": [],
   "source": [
    "d4={\"time\":\"new\",\"time\":\"new2\"}"
   ]
  },
  {
   "cell_type": "code",
   "execution_count": 150,
   "id": "dbc69e3a",
   "metadata": {},
   "outputs": [
    {
     "data": {
      "text/plain": [
       "'new2'"
      ]
     },
     "execution_count": 150,
     "metadata": {},
     "output_type": "execute_result"
    }
   ],
   "source": [
    "d4[\"time\"]"
   ]
  },
  {
   "cell_type": "code",
   "execution_count": 151,
   "id": "eaf92570",
   "metadata": {},
   "outputs": [],
   "source": [
    "d4[\"test_key\"]=\"hello_world\""
   ]
  },
  {
   "cell_type": "code",
   "execution_count": 152,
   "id": "e1516a8a",
   "metadata": {},
   "outputs": [
    {
     "data": {
      "text/plain": [
       "{'time': 'new2', 'test_key': 'hello_world'}"
      ]
     },
     "execution_count": 152,
     "metadata": {},
     "output_type": "execute_result"
    }
   ],
   "source": [
    "d4"
   ]
  },
  {
   "cell_type": "code",
   "execution_count": 153,
   "id": "9e9a0f87",
   "metadata": {},
   "outputs": [],
   "source": [
    "d4[\"newkey\"]=d2"
   ]
  },
  {
   "cell_type": "code",
   "execution_count": 154,
   "id": "7192e52b",
   "metadata": {},
   "outputs": [
    {
     "data": {
      "text/plain": [
       "{'time': 'new2',\n",
       " 'test_key': 'hello_world',\n",
       " 'newkey': {'key1': 'value', 234: 'xyz', 'company': 'learning', 'no': 2323}}"
      ]
     },
     "execution_count": 154,
     "metadata": {},
     "output_type": "execute_result"
    }
   ],
   "source": [
    "d4"
   ]
  },
  {
   "cell_type": "code",
   "execution_count": 155,
   "id": "c36d58cd",
   "metadata": {},
   "outputs": [
    {
     "data": {
      "text/plain": [
       "2323"
      ]
     },
     "execution_count": 155,
     "metadata": {},
     "output_type": "execute_result"
    }
   ],
   "source": [
    "d4['newkey']['no']"
   ]
  },
  {
   "cell_type": "code",
   "execution_count": 157,
   "id": "fcca9481",
   "metadata": {},
   "outputs": [],
   "source": [
    "d5={_:\"rfrf\"}"
   ]
  },
  {
   "cell_type": "code",
   "execution_count": 158,
   "id": "10c62789",
   "metadata": {},
   "outputs": [
    {
     "data": {
      "text/plain": [
       "'rfrf'"
      ]
     },
     "execution_count": 158,
     "metadata": {},
     "output_type": "execute_result"
    }
   ],
   "source": [
    "d5[_]"
   ]
  },
  {
   "cell_type": "code",
   "execution_count": 159,
   "id": "288ebf0a",
   "metadata": {},
   "outputs": [],
   "source": [
    "d6={(1,2,3):\"test\"}"
   ]
  },
  {
   "cell_type": "code",
   "execution_count": 161,
   "id": "182db68d",
   "metadata": {},
   "outputs": [
    {
     "ename": "TypeError",
     "evalue": "unhashable type: 'list'",
     "output_type": "error",
     "traceback": [
      "\u001b[1;31m---------------------------------------------------------------------------\u001b[0m",
      "\u001b[1;31mTypeError\u001b[0m                                 Traceback (most recent call last)",
      "\u001b[1;32mC:\\Users\\PRANSH~1\\AppData\\Local\\Temp/ipykernel_1316/111042155.py\u001b[0m in \u001b[0;36m<module>\u001b[1;34m\u001b[0m\n\u001b[0;32m      1\u001b[0m \u001b[1;31m#Cannot use list as a key in dictonary\u001b[0m\u001b[1;33m\u001b[0m\u001b[1;33m\u001b[0m\u001b[0m\n\u001b[1;32m----> 2\u001b[1;33m \u001b[0md7\u001b[0m\u001b[1;33m=\u001b[0m\u001b[1;33m{\u001b[0m\u001b[1;33m[\u001b[0m\u001b[1;36m1\u001b[0m\u001b[1;33m,\u001b[0m\u001b[1;36m2\u001b[0m\u001b[1;33m,\u001b[0m\u001b[1;36m3\u001b[0m\u001b[1;33m]\u001b[0m\u001b[1;33m:\u001b[0m\u001b[1;34m\"test\"\u001b[0m\u001b[1;33m}\u001b[0m\u001b[1;33m\u001b[0m\u001b[1;33m\u001b[0m\u001b[0m\n\u001b[0m",
      "\u001b[1;31mTypeError\u001b[0m: unhashable type: 'list'"
     ]
    }
   ],
   "source": [
    "#Cannot use list as a key in dictonary\n",
    "d7={[1,2,3]:\"test\"}"
   ]
  },
  {
   "cell_type": "code",
   "execution_count": 163,
   "id": "6a414ce7",
   "metadata": {},
   "outputs": [
    {
     "ename": "TypeError",
     "evalue": "unhashable type: 'dict'",
     "output_type": "error",
     "traceback": [
      "\u001b[1;31m---------------------------------------------------------------------------\u001b[0m",
      "\u001b[1;31mTypeError\u001b[0m                                 Traceback (most recent call last)",
      "\u001b[1;32mC:\\Users\\PRANSH~1\\AppData\\Local\\Temp/ipykernel_1316/3924826276.py\u001b[0m in \u001b[0;36m<module>\u001b[1;34m\u001b[0m\n\u001b[0;32m      1\u001b[0m \u001b[1;31m#Same situation with list\u001b[0m\u001b[1;33m\u001b[0m\u001b[1;33m\u001b[0m\u001b[0m\n\u001b[1;32m----> 2\u001b[1;33m \u001b[0md8\u001b[0m\u001b[1;33m=\u001b[0m\u001b[1;33m{\u001b[0m\u001b[1;33m{\u001b[0m\u001b[1;36m3\u001b[0m\u001b[1;33m:\u001b[0m\u001b[1;36m4\u001b[0m\u001b[1;33m}\u001b[0m\u001b[1;33m:\u001b[0m\u001b[1;34m\"test\"\u001b[0m\u001b[1;33m}\u001b[0m\u001b[1;33m\u001b[0m\u001b[1;33m\u001b[0m\u001b[0m\n\u001b[0m",
      "\u001b[1;31mTypeError\u001b[0m: unhashable type: 'dict'"
     ]
    }
   ],
   "source": [
    "#Same situation with list\n",
    "d8={{3:4}:\"test\"}"
   ]
  },
  {
   "cell_type": "code",
   "execution_count": 164,
   "id": "914eb3ec",
   "metadata": {},
   "outputs": [
    {
     "ename": "TypeError",
     "evalue": "unsupported operand type(s) for +: 'dict' and 'dict'",
     "output_type": "error",
     "traceback": [
      "\u001b[1;31m---------------------------------------------------------------------------\u001b[0m",
      "\u001b[1;31mTypeError\u001b[0m                                 Traceback (most recent call last)",
      "\u001b[1;32mC:\\Users\\PRANSH~1\\AppData\\Local\\Temp/ipykernel_1316/2884743602.py\u001b[0m in \u001b[0;36m<module>\u001b[1;34m\u001b[0m\n\u001b[1;32m----> 1\u001b[1;33m \u001b[0md2\u001b[0m\u001b[1;33m+\u001b[0m\u001b[0md3\u001b[0m\u001b[1;33m\u001b[0m\u001b[1;33m\u001b[0m\u001b[0m\n\u001b[0m",
      "\u001b[1;31mTypeError\u001b[0m: unsupported operand type(s) for +: 'dict' and 'dict'"
     ]
    }
   ],
   "source": [
    "#concatnation is not allowed in dictonary\n",
    "d2+d3"
   ]
  },
  {
   "cell_type": "code",
   "execution_count": 165,
   "id": "c23fc908",
   "metadata": {},
   "outputs": [
    {
     "data": {
      "text/plain": [
       "dict_keys(['key1', 234, 'company', 'no'])"
      ]
     },
     "execution_count": 165,
     "metadata": {},
     "output_type": "execute_result"
    }
   ],
   "source": [
    "d2.keys()"
   ]
  },
  {
   "cell_type": "code",
   "execution_count": 166,
   "id": "4e0d199a",
   "metadata": {},
   "outputs": [
    {
     "data": {
      "text/plain": [
       "dict_values(['value', 'xyz', 'learning', 2323])"
      ]
     },
     "execution_count": 166,
     "metadata": {},
     "output_type": "execute_result"
    }
   ],
   "source": [
    "d2.values()"
   ]
  },
  {
   "cell_type": "code",
   "execution_count": 167,
   "id": "ef854506",
   "metadata": {},
   "outputs": [
    {
     "data": {
      "text/plain": [
       "dict_items([('key1', 'value'), (234, 'xyz'), ('company', 'learning'), ('no', 2323)])"
      ]
     },
     "execution_count": 167,
     "metadata": {},
     "output_type": "execute_result"
    }
   ],
   "source": [
    "d2.items()"
   ]
  },
  {
   "cell_type": "code",
   "execution_count": 168,
   "id": "a21b78ef",
   "metadata": {},
   "outputs": [],
   "source": [
    "s={3,4,5,6}"
   ]
  },
  {
   "cell_type": "code",
   "execution_count": 171,
   "id": "57496e19",
   "metadata": {},
   "outputs": [
    {
     "data": {
      "text/plain": [
       "set"
      ]
     },
     "execution_count": 171,
     "metadata": {},
     "output_type": "execute_result"
    }
   ],
   "source": [
    "type(s)"
   ]
  },
  {
   "cell_type": "code",
   "execution_count": 172,
   "id": "b1709284",
   "metadata": {},
   "outputs": [],
   "source": [
    "s1={4,5,74,3,57,8,9,3,2,57,9,45}"
   ]
  },
  {
   "cell_type": "code",
   "execution_count": 176,
   "id": "6ad27e2a",
   "metadata": {},
   "outputs": [
    {
     "data": {
      "text/plain": [
       "{2, 3, 4, 5, 8, 9, 45, 57, 74}"
      ]
     },
     "execution_count": 176,
     "metadata": {},
     "output_type": "execute_result"
    }
   ],
   "source": [
    "#set always return unique element removes duplicate data\n",
    "#set does not give sorted results\n",
    "s1"
   ]
  },
  {
   "cell_type": "code",
   "execution_count": 180,
   "id": "92a66978",
   "metadata": {},
   "outputs": [],
   "source": [
    "s3={\"sudh\",45,76,2,56,32,99,\"y\",'b',0}"
   ]
  },
  {
   "cell_type": "code",
   "execution_count": 181,
   "id": "8a99efe3",
   "metadata": {},
   "outputs": [
    {
     "data": {
      "text/plain": [
       "{0, 2, 32, 45, 56, 76, 99, 'b', 'sudh', 'y'}"
      ]
     },
     "execution_count": 181,
     "metadata": {},
     "output_type": "execute_result"
    }
   ],
   "source": [
    "s3"
   ]
  },
  {
   "cell_type": "code",
   "execution_count": 185,
   "id": "4c84d28e",
   "metadata": {},
   "outputs": [
    {
     "ename": "TypeError",
     "evalue": "'set' object is not subscriptable",
     "output_type": "error",
     "traceback": [
      "\u001b[1;31m---------------------------------------------------------------------------\u001b[0m",
      "\u001b[1;31mTypeError\u001b[0m                                 Traceback (most recent call last)",
      "\u001b[1;32mC:\\Users\\PRANSH~1\\AppData\\Local\\Temp/ipykernel_1316/681006841.py\u001b[0m in \u001b[0;36m<module>\u001b[1;34m\u001b[0m\n\u001b[0;32m      1\u001b[0m \u001b[1;31m# We cannot access any objects in sets\u001b[0m\u001b[1;33m\u001b[0m\u001b[1;33m\u001b[0m\u001b[0m\n\u001b[1;32m----> 2\u001b[1;33m \u001b[0ms3\u001b[0m\u001b[1;33m[\u001b[0m\u001b[1;36m0\u001b[0m\u001b[1;33m]\u001b[0m\u001b[1;33m\u001b[0m\u001b[1;33m\u001b[0m\u001b[0m\n\u001b[0m",
      "\u001b[1;31mTypeError\u001b[0m: 'set' object is not subscriptable"
     ]
    }
   ],
   "source": [
    "# We cannot access any objects in sets\n",
    "s3[0]"
   ]
  },
  {
   "cell_type": "code",
   "execution_count": 186,
   "id": "ce9d657f",
   "metadata": {},
   "outputs": [
    {
     "data": {
      "text/plain": [
       "[32, 0, 2, 99, 'y', 76, 45, 'b', 56, 'sudh']"
      ]
     },
     "execution_count": 186,
     "metadata": {},
     "output_type": "execute_result"
    }
   ],
   "source": [
    "list(s3)"
   ]
  },
  {
   "cell_type": "code",
   "execution_count": 187,
   "id": "5dd2c44d",
   "metadata": {},
   "outputs": [
    {
     "data": {
      "text/plain": [
       "(32, 0, 2, 99, 'y', 76, 45, 'b', 56, 'sudh')"
      ]
     },
     "execution_count": 187,
     "metadata": {},
     "output_type": "execute_result"
    }
   ],
   "source": [
    "tuple(s3)"
   ]
  },
  {
   "cell_type": "code",
   "execution_count": 188,
   "id": "2c21b535",
   "metadata": {},
   "outputs": [
    {
     "data": {
      "text/plain": [
       "[9, 5, 7]"
      ]
     },
     "execution_count": 188,
     "metadata": {},
     "output_type": "execute_result"
    }
   ],
   "source": [
    "#if duplicate entities exists in list then we can convert into set and it can remove it and then convert it back to set\n",
    "l=[5,5,5,5,5,7,7,7,7,9,9,9,9]\n",
    "l=list(set(l))\n",
    "l"
   ]
  },
  {
   "cell_type": "code",
   "execution_count": 190,
   "id": "40611971",
   "metadata": {},
   "outputs": [
    {
     "data": {
      "text/plain": [
       "{2, 3, 4, 5, 8, 9, 45, 57, 74}"
      ]
     },
     "execution_count": 190,
     "metadata": {},
     "output_type": "execute_result"
    }
   ],
   "source": [
    "s1"
   ]
  },
  {
   "cell_type": "code",
   "execution_count": 191,
   "id": "b0b5e7f1",
   "metadata": {},
   "outputs": [],
   "source": [
    "s1.add(34)"
   ]
  },
  {
   "cell_type": "code",
   "execution_count": 192,
   "id": "ea7776ce",
   "metadata": {},
   "outputs": [
    {
     "data": {
      "text/plain": [
       "{2, 3, 4, 5, 8, 9, 34, 45, 57, 74}"
      ]
     },
     "execution_count": 192,
     "metadata": {},
     "output_type": "execute_result"
    }
   ],
   "source": [
    "s1"
   ]
  },
  {
   "cell_type": "code",
   "execution_count": 193,
   "id": "93fddcf5",
   "metadata": {},
   "outputs": [
    {
     "ename": "TypeError",
     "evalue": "unhashable type: 'list'",
     "output_type": "error",
     "traceback": [
      "\u001b[1;31m---------------------------------------------------------------------------\u001b[0m",
      "\u001b[1;31mTypeError\u001b[0m                                 Traceback (most recent call last)",
      "\u001b[1;32mC:\\Users\\PRANSH~1\\AppData\\Local\\Temp/ipykernel_1316/3377452356.py\u001b[0m in \u001b[0;36m<module>\u001b[1;34m\u001b[0m\n\u001b[0;32m      1\u001b[0m \u001b[1;31m#we cannot add list in a set, we will have to do it individually\u001b[0m\u001b[1;33m\u001b[0m\u001b[1;33m\u001b[0m\u001b[0m\n\u001b[1;32m----> 2\u001b[1;33m \u001b[0ms1\u001b[0m\u001b[1;33m.\u001b[0m\u001b[0madd\u001b[0m\u001b[1;33m(\u001b[0m\u001b[1;33m[\u001b[0m\u001b[1;36m3\u001b[0m\u001b[1;33m,\u001b[0m\u001b[1;36m3\u001b[0m\u001b[1;33m,\u001b[0m\u001b[1;36m3\u001b[0m\u001b[1;33m]\u001b[0m\u001b[1;33m)\u001b[0m\u001b[1;33m\u001b[0m\u001b[1;33m\u001b[0m\u001b[0m\n\u001b[0m",
      "\u001b[1;31mTypeError\u001b[0m: unhashable type: 'list'"
     ]
    }
   ],
   "source": [
    "#we cannot add list in a set, we will have to do it individually\n",
    "s1.add([3,3,3])"
   ]
  },
  {
   "cell_type": "code",
   "execution_count": 194,
   "id": "a6e97d25",
   "metadata": {},
   "outputs": [],
   "source": [
    "s={(1,2,3),4,5,7}"
   ]
  },
  {
   "cell_type": "code",
   "execution_count": 195,
   "id": "2b2d9ef1",
   "metadata": {},
   "outputs": [
    {
     "data": {
      "text/plain": [
       "{(1, 2, 3), 4, 5, 7}"
      ]
     },
     "execution_count": 195,
     "metadata": {},
     "output_type": "execute_result"
    }
   ],
   "source": [
    "s"
   ]
  },
  {
   "cell_type": "code",
   "execution_count": 196,
   "id": "d4daee47",
   "metadata": {},
   "outputs": [
    {
     "data": {
      "text/plain": [
       "set"
      ]
     },
     "execution_count": 196,
     "metadata": {},
     "output_type": "execute_result"
    }
   ],
   "source": [
    "type(s)"
   ]
  },
  {
   "cell_type": "code",
   "execution_count": 197,
   "id": "bda1e208",
   "metadata": {},
   "outputs": [],
   "source": [
    "#Immutable entities are allowed in set"
   ]
  },
  {
   "cell_type": "code",
   "execution_count": 198,
   "id": "1e42299a",
   "metadata": {},
   "outputs": [],
   "source": [
    "s.remove(4)"
   ]
  },
  {
   "cell_type": "code",
   "execution_count": 199,
   "id": "c6068fac",
   "metadata": {},
   "outputs": [
    {
     "data": {
      "text/plain": [
       "{(1, 2, 3), 5, 7}"
      ]
     },
     "execution_count": 199,
     "metadata": {},
     "output_type": "execute_result"
    }
   ],
   "source": [
    "s"
   ]
  },
  {
   "cell_type": "code",
   "execution_count": 200,
   "id": "d70ac36a",
   "metadata": {},
   "outputs": [],
   "source": [
    "s.discard(3)"
   ]
  },
  {
   "cell_type": "code",
   "execution_count": null,
   "id": "38e4f964",
   "metadata": {},
   "outputs": [],
   "source": []
  }
 ],
 "metadata": {
  "kernelspec": {
   "display_name": "Python 3 (ipykernel)",
   "language": "python",
   "name": "python3"
  },
  "language_info": {
   "codemirror_mode": {
    "name": "ipython",
    "version": 3
   },
   "file_extension": ".py",
   "mimetype": "text/x-python",
   "name": "python",
   "nbconvert_exporter": "python",
   "pygments_lexer": "ipython3",
   "version": "3.9.7"
  }
 },
 "nbformat": 4,
 "nbformat_minor": 5
}
