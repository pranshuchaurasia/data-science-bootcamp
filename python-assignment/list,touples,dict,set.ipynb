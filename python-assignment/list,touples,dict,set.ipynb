{
 "cells": [
  {
   "cell_type": "code",
   "execution_count": 1,
   "id": "f2b58d0c",
   "metadata": {},
   "outputs": [],
   "source": [
    "l=[1,2,2,True,45.67,\"sudh\"]"
   ]
  },
  {
   "cell_type": "code",
   "execution_count": 2,
   "id": "0bdb5ea5",
   "metadata": {},
   "outputs": [
    {
     "data": {
      "text/plain": [
       "1"
      ]
     },
     "execution_count": 2,
     "metadata": {},
     "output_type": "execute_result"
    }
   ],
   "source": [
    "l[0]"
   ]
  },
  {
   "cell_type": "code",
   "execution_count": 3,
   "id": "e7e9ba1d",
   "metadata": {},
   "outputs": [
    {
     "data": {
      "text/plain": [
       "'sudh'"
      ]
     },
     "execution_count": 3,
     "metadata": {},
     "output_type": "execute_result"
    }
   ],
   "source": [
    "l[-1]"
   ]
  },
  {
   "cell_type": "code",
   "execution_count": 5,
   "id": "92e19caf",
   "metadata": {},
   "outputs": [
    {
     "data": {
      "text/plain": [
       "[1, 2, 2, True, 45.67]"
      ]
     },
     "execution_count": 5,
     "metadata": {},
     "output_type": "execute_result"
    }
   ],
   "source": [
    "l[0:5]"
   ]
  },
  {
   "cell_type": "code",
   "execution_count": 6,
   "id": "85e8344b",
   "metadata": {},
   "outputs": [
    {
     "data": {
      "text/plain": [
       "[1, 2, 2, True, 45.67, 'sudh', (34+4j)]"
      ]
     },
     "execution_count": 6,
     "metadata": {},
     "output_type": "execute_result"
    }
   ],
   "source": [
    "l+[34+4j]"
   ]
  },
  {
   "cell_type": "code",
   "execution_count": 7,
   "id": "b4946d72",
   "metadata": {},
   "outputs": [
    {
     "data": {
      "text/plain": [
       "True"
      ]
     },
     "execution_count": 7,
     "metadata": {},
     "output_type": "execute_result"
    }
   ],
   "source": [
    "2 in l"
   ]
  },
  {
   "cell_type": "code",
   "execution_count": 8,
   "id": "67a3a0c7",
   "metadata": {},
   "outputs": [
    {
     "data": {
      "text/plain": [
       "False"
      ]
     },
     "execution_count": 8,
     "metadata": {},
     "output_type": "execute_result"
    }
   ],
   "source": [
    "#Search in a list use in function\n",
    "3 in l"
   ]
  },
  {
   "cell_type": "code",
   "execution_count": 11,
   "id": "2ce98f0e",
   "metadata": {},
   "outputs": [],
   "source": [
    "#  max(l), SAME WITH min(l) cannot be used with differnt datatype"
   ]
  },
  {
   "cell_type": "code",
   "execution_count": 12,
   "id": "fe3e9f46",
   "metadata": {},
   "outputs": [
    {
     "data": {
      "text/plain": [
       "1"
      ]
     },
     "execution_count": 12,
     "metadata": {},
     "output_type": "execute_result"
    }
   ],
   "source": [
    "#Pop in l(remove a data from exisiting list)\n",
    "l.pop(0)"
   ]
  },
  {
   "cell_type": "code",
   "execution_count": 13,
   "id": "3879126c",
   "metadata": {},
   "outputs": [
    {
     "data": {
      "text/plain": [
       "[2, 2, True, 45.67, 'sudh']"
      ]
     },
     "execution_count": 13,
     "metadata": {},
     "output_type": "execute_result"
    }
   ],
   "source": [
    "l"
   ]
  },
  {
   "cell_type": "code",
   "execution_count": 14,
   "id": "e4ca8d58",
   "metadata": {},
   "outputs": [],
   "source": [
    "l.append([1,2])"
   ]
  },
  {
   "cell_type": "code",
   "execution_count": 15,
   "id": "66c77be4",
   "metadata": {},
   "outputs": [
    {
     "data": {
      "text/plain": [
       "[2, 2, True, 45.67, 'sudh', [1, 2]]"
      ]
     },
     "execution_count": 15,
     "metadata": {},
     "output_type": "execute_result"
    }
   ],
   "source": [
    "l"
   ]
  },
  {
   "cell_type": "code",
   "execution_count": 18,
   "id": "0d20c7ce",
   "metadata": {},
   "outputs": [
    {
     "data": {
      "text/plain": [
       "[1, 2]"
      ]
     },
     "execution_count": 18,
     "metadata": {},
     "output_type": "execute_result"
    }
   ],
   "source": [
    "l.pop()"
   ]
  },
  {
   "cell_type": "code",
   "execution_count": 19,
   "id": "a9c642fd",
   "metadata": {},
   "outputs": [
    {
     "data": {
      "text/plain": [
       "[2, 2, True, 45.67, 'sudh']"
      ]
     },
     "execution_count": 19,
     "metadata": {},
     "output_type": "execute_result"
    }
   ],
   "source": [
    "l"
   ]
  },
  {
   "cell_type": "code",
   "execution_count": 23,
   "id": "2784c3e8",
   "metadata": {},
   "outputs": [],
   "source": [
    "l.reverse()\n",
    "#does reverse it permanently"
   ]
  },
  {
   "cell_type": "code",
   "execution_count": 24,
   "id": "4592988e",
   "metadata": {},
   "outputs": [
    {
     "data": {
      "text/plain": [
       "['sudh', 45.67, True, 2, 2]"
      ]
     },
     "execution_count": 24,
     "metadata": {},
     "output_type": "execute_result"
    }
   ],
   "source": [
    "l[::-1]"
   ]
  },
  {
   "cell_type": "code",
   "execution_count": 25,
   "id": "055ac671",
   "metadata": {},
   "outputs": [
    {
     "data": {
      "text/plain": [
       "[2, 2, True, 45.67, 'sudh']"
      ]
     },
     "execution_count": 25,
     "metadata": {},
     "output_type": "execute_result"
    }
   ],
   "source": [
    "l"
   ]
  },
  {
   "cell_type": "code",
   "execution_count": 26,
   "id": "573c5ae4",
   "metadata": {},
   "outputs": [],
   "source": [
    "l1=[34,45,3254324,32547,324]"
   ]
  },
  {
   "cell_type": "code",
   "execution_count": 27,
   "id": "de92a473",
   "metadata": {},
   "outputs": [],
   "source": [
    "l1.sort()"
   ]
  },
  {
   "cell_type": "code",
   "execution_count": 28,
   "id": "58a8991b",
   "metadata": {},
   "outputs": [
    {
     "data": {
      "text/plain": [
       "[34, 45, 324, 32547, 3254324]"
      ]
     },
     "execution_count": 28,
     "metadata": {},
     "output_type": "execute_result"
    }
   ],
   "source": [
    "l1"
   ]
  },
  {
   "cell_type": "code",
   "execution_count": 30,
   "id": "fed4bdb6",
   "metadata": {},
   "outputs": [],
   "source": [
    "l1.sort(reverse=True)"
   ]
  },
  {
   "cell_type": "code",
   "execution_count": 31,
   "id": "b90d380c",
   "metadata": {},
   "outputs": [
    {
     "data": {
      "text/plain": [
       "[3254324, 32547, 324, 45, 34]"
      ]
     },
     "execution_count": 31,
     "metadata": {},
     "output_type": "execute_result"
    }
   ],
   "source": [
    "l1"
   ]
  },
  {
   "cell_type": "code",
   "execution_count": 32,
   "id": "32b8fce8",
   "metadata": {},
   "outputs": [],
   "source": [
    "l3=[l,l1]"
   ]
  },
  {
   "cell_type": "code",
   "execution_count": 46,
   "id": "b5ac9780",
   "metadata": {},
   "outputs": [
    {
     "data": {
      "text/plain": [
       "[[2, 2, True, 45.67, 'sudh'], [3254324, 32547, 324, 45, 34]]"
      ]
     },
     "execution_count": 46,
     "metadata": {},
     "output_type": "execute_result"
    }
   ],
   "source": [
    "l3"
   ]
  },
  {
   "cell_type": "code",
   "execution_count": 47,
   "id": "5d10f884",
   "metadata": {},
   "outputs": [
    {
     "data": {
      "text/plain": [
       "45"
      ]
     },
     "execution_count": 47,
     "metadata": {},
     "output_type": "execute_result"
    }
   ],
   "source": [
    "#index starts from zero\n",
    "l3[1][3]"
   ]
  },
  {
   "cell_type": "code",
   "execution_count": 56,
   "id": "7d272cbc",
   "metadata": {},
   "outputs": [
    {
     "data": {
      "text/plain": [
       "45"
      ]
     },
     "execution_count": 56,
     "metadata": {},
     "output_type": "execute_result"
    }
   ],
   "source": [
    "l3.append(45)\n",
    "l3.pop()\n",
    "l3.pop()"
   ]
  },
  {
   "cell_type": "code",
   "execution_count": 57,
   "id": "6e0dd2ba",
   "metadata": {},
   "outputs": [
    {
     "data": {
      "text/plain": [
       "3"
      ]
     },
     "execution_count": 57,
     "metadata": {},
     "output_type": "execute_result"
    }
   ],
   "source": [
    "l3.count(45)"
   ]
  },
  {
   "cell_type": "code",
   "execution_count": 58,
   "id": "635e2bda",
   "metadata": {},
   "outputs": [
    {
     "data": {
      "text/plain": [
       "[[2, 2, True, 45.67, 'sudh', 45], [3254324, 32547, 324, 45, 34], 45, 45, 45]"
      ]
     },
     "execution_count": 58,
     "metadata": {},
     "output_type": "execute_result"
    }
   ],
   "source": [
    "l3"
   ]
  },
  {
   "cell_type": "code",
   "execution_count": 59,
   "id": "01b16e80",
   "metadata": {},
   "outputs": [],
   "source": [
    "#append vs extend function\n",
    "l.append(45)\n",
    "l3.extend([23,435])"
   ]
  },
  {
   "cell_type": "code",
   "execution_count": 61,
   "id": "5a0dd7cb",
   "metadata": {},
   "outputs": [
    {
     "data": {
      "text/plain": [
       "[2, 2, True, 45.67, 'sudh', 45, 45]"
      ]
     },
     "execution_count": 61,
     "metadata": {},
     "output_type": "execute_result"
    }
   ],
   "source": [
    "l"
   ]
  },
  {
   "cell_type": "code",
   "execution_count": 62,
   "id": "a0d9dc08",
   "metadata": {},
   "outputs": [
    {
     "data": {
      "text/plain": [
       "[[2, 2, True, 45.67, 'sudh', 45, 45],\n",
       " [3254324, 32547, 324, 45, 34],\n",
       " 45,\n",
       " 45,\n",
       " 45,\n",
       " 23,\n",
       " 435]"
      ]
     },
     "execution_count": 62,
     "metadata": {},
     "output_type": "execute_result"
    }
   ],
   "source": [
    "l3"
   ]
  },
  {
   "cell_type": "code",
   "execution_count": null,
   "id": "862640c8",
   "metadata": {},
   "outputs": [],
   "source": []
  }
 ],
 "metadata": {
  "kernelspec": {
   "display_name": "Python 3 (ipykernel)",
   "language": "python",
   "name": "python3"
  },
  "language_info": {
   "codemirror_mode": {
    "name": "ipython",
    "version": 3
   },
   "file_extension": ".py",
   "mimetype": "text/x-python",
   "name": "python",
   "nbconvert_exporter": "python",
   "pygments_lexer": "ipython3",
   "version": "3.9.7"
  }
 },
 "nbformat": 4,
 "nbformat_minor": 5
}
