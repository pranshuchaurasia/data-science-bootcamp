{
 "cells": [
  {
   "cell_type": "code",
   "execution_count": 1,
   "id": "c6bc7d37",
   "metadata": {},
   "outputs": [],
   "source": [
    "price =500"
   ]
  },
  {
   "cell_type": "code",
   "execution_count": 2,
   "id": "37e162fd",
   "metadata": {},
   "outputs": [
    {
     "data": {
      "text/plain": [
       "False"
      ]
     },
     "execution_count": 2,
     "metadata": {},
     "output_type": "execute_result"
    }
   ],
   "source": [
    "price>500"
   ]
  },
  {
   "cell_type": "code",
   "execution_count": 3,
   "id": "53877a7f",
   "metadata": {},
   "outputs": [
    {
     "data": {
      "text/plain": [
       "True"
      ]
     },
     "execution_count": 3,
     "metadata": {},
     "output_type": "execute_result"
    }
   ],
   "source": [
    "price == 500"
   ]
  },
  {
   "cell_type": "code",
   "execution_count": 4,
   "id": "621d7d3c",
   "metadata": {},
   "outputs": [],
   "source": [
    "l= [4,5,6,3,6,8,1,65]"
   ]
  },
  {
   "cell_type": "code",
   "execution_count": 5,
   "id": "9d73747f",
   "metadata": {},
   "outputs": [
    {
     "data": {
      "text/plain": [
       "False"
      ]
     },
     "execution_count": 5,
     "metadata": {},
     "output_type": "execute_result"
    }
   ],
   "source": [
    "2 in l"
   ]
  },
  {
   "cell_type": "code",
   "execution_count": 6,
   "id": "8fbc7577",
   "metadata": {},
   "outputs": [
    {
     "name": "stdout",
     "output_type": "stream",
     "text": [
      "perfrom task\n"
     ]
    }
   ],
   "source": [
    "if 3 in l:\n",
    "    print(\"perfrom task\")\n",
    "else: \n",
    "    print(\"do not perform task\")"
   ]
  },
  {
   "cell_type": "code",
   "execution_count": 8,
   "id": "d858716a",
   "metadata": {},
   "outputs": [
    {
     "name": "stdout",
     "output_type": "stream",
     "text": [
      "do addition\n"
     ]
    }
   ],
   "source": [
    "if 1 in l:\n",
    "    print(\"do addition\")\n",
    "elif 3 in l:\n",
    "    print(\"Party\")\n",
    "else:\n",
    "    print(\"so subtraction\")"
   ]
  },
  {
   "cell_type": "code",
   "execution_count": 9,
   "id": "8145d137",
   "metadata": {},
   "outputs": [],
   "source": [
    "a=400"
   ]
  },
  {
   "cell_type": "code",
   "execution_count": 10,
   "id": "2a2d89a8",
   "metadata": {},
   "outputs": [
    {
     "name": "stdout",
     "output_type": "stream",
     "text": [
      "4589485948\n"
     ]
    }
   ],
   "source": [
    "b=input()"
   ]
  },
  {
   "cell_type": "code",
   "execution_count": 12,
   "id": "add39d55",
   "metadata": {},
   "outputs": [
    {
     "data": {
      "text/plain": [
       "str"
      ]
     },
     "execution_count": 12,
     "metadata": {},
     "output_type": "execute_result"
    }
   ],
   "source": [
    "type(b)"
   ]
  },
  {
   "cell_type": "code",
   "execution_count": 18,
   "id": "0a7cc008",
   "metadata": {},
   "outputs": [
    {
     "name": "stdout",
     "output_type": "stream",
     "text": [
      "45\n"
     ]
    },
    {
     "data": {
      "text/plain": [
       "int"
      ]
     },
     "execution_count": 18,
     "metadata": {},
     "output_type": "execute_result"
    }
   ],
   "source": [
    "c=(int)(input())\n",
    "type(c)"
   ]
  },
  {
   "cell_type": "code",
   "execution_count": 3,
   "id": "87636425",
   "metadata": {},
   "outputs": [
    {
     "name": "stdout",
     "output_type": "stream",
     "text": [
      "learn python\n"
     ]
    }
   ],
   "source": [
    "a =10\n",
    "#if a <=10:\n",
    "if a < 10 or a ==10:\n",
    "    print(\"learn python\")"
   ]
  },
  {
   "cell_type": "code",
   "execution_count": null,
   "id": "d44e6ad7",
   "metadata": {},
   "outputs": [],
   "source": [
    "d={'key1':\"value\",'key2':\"value2\"}"
   ]
  }
 ],
 "metadata": {
  "kernelspec": {
   "display_name": "Python 3 (ipykernel)",
   "language": "python",
   "name": "python3"
  },
  "language_info": {
   "codemirror_mode": {
    "name": "ipython",
    "version": 3
   },
   "file_extension": ".py",
   "mimetype": "text/x-python",
   "name": "python",
   "nbconvert_exporter": "python",
   "pygments_lexer": "ipython3",
   "version": "3.9.7"
  }
 },
 "nbformat": 4,
 "nbformat_minor": 5
}
