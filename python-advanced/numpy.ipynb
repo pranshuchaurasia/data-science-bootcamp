{
 "cells": [
  {
   "cell_type": "code",
   "execution_count": 1,
   "id": "9cc9f4d9",
   "metadata": {},
   "outputs": [],
   "source": [
    "import numpy as np"
   ]
  },
  {
   "cell_type": "code",
   "execution_count": 2,
   "id": "98a4c7d1",
   "metadata": {},
   "outputs": [],
   "source": [
    "l=[1,2,3,4,5,6,7,8]"
   ]
  },
  {
   "cell_type": "code",
   "execution_count": 3,
   "id": "09c37782",
   "metadata": {},
   "outputs": [
    {
     "data": {
      "text/plain": [
       "array([1, 2, 3, 4, 5, 6, 7, 8])"
      ]
     },
     "execution_count": 3,
     "metadata": {},
     "output_type": "execute_result"
    }
   ],
   "source": [
    "np.array(l)"
   ]
  },
  {
   "cell_type": "code",
   "execution_count": 4,
   "id": "376342c5",
   "metadata": {},
   "outputs": [],
   "source": [
    "l1=[1,2,3,4,5,6,7,8,3.44,\"pran\"]"
   ]
  },
  {
   "cell_type": "code",
   "execution_count": 5,
   "id": "04502e6c",
   "metadata": {},
   "outputs": [],
   "source": [
    "a2=np.array(l1)"
   ]
  },
  {
   "cell_type": "code",
   "execution_count": 6,
   "id": "1dade61d",
   "metadata": {},
   "outputs": [],
   "source": [
    "a1=np.array([[1,2,3,4],[5,6,7,8]])"
   ]
  },
  {
   "cell_type": "code",
   "execution_count": 7,
   "id": "47535a94",
   "metadata": {},
   "outputs": [
    {
     "data": {
      "text/plain": [
       "2"
      ]
     },
     "execution_count": 7,
     "metadata": {},
     "output_type": "execute_result"
    }
   ],
   "source": [
    "# dimension of array via ndim function\n",
    "a1.ndim"
   ]
  },
  {
   "cell_type": "code",
   "execution_count": 8,
   "id": "45c10aa2",
   "metadata": {},
   "outputs": [
    {
     "data": {
      "text/plain": [
       "8"
      ]
     },
     "execution_count": 8,
     "metadata": {},
     "output_type": "execute_result"
    }
   ],
   "source": [
    "a1.size"
   ]
  },
  {
   "cell_type": "code",
   "execution_count": 9,
   "id": "7f74ea25",
   "metadata": {},
   "outputs": [
    {
     "data": {
      "text/plain": [
       "(2, 4)"
      ]
     },
     "execution_count": 9,
     "metadata": {},
     "output_type": "execute_result"
    }
   ],
   "source": [
    "a1.shape"
   ]
  },
  {
   "cell_type": "code",
   "execution_count": 10,
   "id": "475bf034",
   "metadata": {},
   "outputs": [
    {
     "data": {
      "text/plain": [
       "array([[[1531, 2980, 3384, 1217],\n",
       "        [1115, 5203,  331, 1455]],\n",
       "\n",
       "       [[3350, 5575, 5554, 1593],\n",
       "        [3488, 1841, 2973, 1756]],\n",
       "\n",
       "       [[2759, 1359, 4556, 5460],\n",
       "        [ 616, 2912, 1141, 3110]]])"
      ]
     },
     "execution_count": 10,
     "metadata": {},
     "output_type": "execute_result"
    }
   ],
   "source": [
    "np.random.randint(2,5600,[3,2,4])"
   ]
  },
  {
   "cell_type": "code",
   "execution_count": 11,
   "id": "09faecac",
   "metadata": {},
   "outputs": [
    {
     "data": {
      "text/plain": [
       "array([[0.65784877, 0.40011105, 0.92188157],\n",
       "       [0.48408995, 0.17201174, 0.06632923]])"
      ]
     },
     "execution_count": 11,
     "metadata": {},
     "output_type": "execute_result"
    }
   ],
   "source": [
    "np.random.rand(2,3)"
   ]
  },
  {
   "cell_type": "code",
   "execution_count": 12,
   "id": "2d25eb39",
   "metadata": {},
   "outputs": [],
   "source": [
    "a4=np.random.randn(4,4)"
   ]
  },
  {
   "cell_type": "code",
   "execution_count": 13,
   "id": "0a37323b",
   "metadata": {},
   "outputs": [
    {
     "data": {
      "text/plain": [
       "array([[-1.13803066, -0.01931577, -0.44795759,  0.37010216,  1.05502599,\n",
       "        -1.70861828,  1.27438081, -0.37963408],\n",
       "       [-2.29466435,  0.14489812,  1.16246046,  1.16235494,  0.88323934,\n",
       "         1.2030912 ,  0.50717166,  0.25425543]])"
      ]
     },
     "execution_count": 13,
     "metadata": {},
     "output_type": "execute_result"
    }
   ],
   "source": [
    "a4.reshape(2,-15)"
   ]
  },
  {
   "cell_type": "code",
   "execution_count": 14,
   "id": "11f5757b",
   "metadata": {},
   "outputs": [
    {
     "data": {
      "text/plain": [
       "array([[-1.13803066, -0.01931577, -0.44795759,  0.37010216,  1.05502599,\n",
       "        -1.70861828,  1.27438081, -0.37963408],\n",
       "       [-2.29466435,  0.14489812,  1.16246046,  1.16235494,  0.88323934,\n",
       "         1.2030912 ,  0.50717166,  0.25425543]])"
      ]
     },
     "execution_count": 14,
     "metadata": {},
     "output_type": "execute_result"
    }
   ],
   "source": [
    "a4.reshape(2,8)"
   ]
  },
  {
   "cell_type": "code",
   "execution_count": 15,
   "id": "afb1703e",
   "metadata": {},
   "outputs": [
    {
     "data": {
      "text/plain": [
       "array([[[-1.13803066, -0.01931577, -0.44795759,  0.37010216],\n",
       "        [ 1.05502599, -1.70861828,  1.27438081, -0.37963408]],\n",
       "\n",
       "       [[-2.29466435,  0.14489812,  1.16246046,  1.16235494],\n",
       "        [ 0.88323934,  1.2030912 ,  0.50717166,  0.25425543]]])"
      ]
     },
     "execution_count": 15,
     "metadata": {},
     "output_type": "execute_result"
    }
   ],
   "source": [
    "a4.reshape(2,2,4)"
   ]
  },
  {
   "cell_type": "code",
   "execution_count": 16,
   "id": "5a6bfe7e",
   "metadata": {},
   "outputs": [
    {
     "data": {
      "text/plain": [
       "array(['1', '2', '3', '4', '5', '6', '7', '8', '3.44', 'pran'],\n",
       "      dtype='<U32')"
      ]
     },
     "execution_count": 16,
     "metadata": {},
     "output_type": "execute_result"
    }
   ],
   "source": [
    "a2"
   ]
  },
  {
   "cell_type": "code",
   "execution_count": 17,
   "id": "fd03c843",
   "metadata": {},
   "outputs": [
    {
     "data": {
      "text/plain": [
       "'1'"
      ]
     },
     "execution_count": 17,
     "metadata": {},
     "output_type": "execute_result"
    }
   ],
   "source": [
    "a2[0]"
   ]
  },
  {
   "cell_type": "code",
   "execution_count": 18,
   "id": "49569cdf",
   "metadata": {},
   "outputs": [
    {
     "data": {
      "text/plain": [
       "array(['2', '4'], dtype='<U32')"
      ]
     },
     "execution_count": 18,
     "metadata": {},
     "output_type": "execute_result"
    }
   ],
   "source": [
    "a2[1:4:2]"
   ]
  },
  {
   "cell_type": "code",
   "execution_count": 19,
   "id": "19f177b6",
   "metadata": {},
   "outputs": [
    {
     "data": {
      "text/plain": [
       "array(['pran', '3.44', '8', '7', '6', '5', '4', '3', '2', '1'],\n",
       "      dtype='<U32')"
      ]
     },
     "execution_count": 19,
     "metadata": {},
     "output_type": "execute_result"
    }
   ],
   "source": [
    "a2[::-1]"
   ]
  },
  {
   "cell_type": "code",
   "execution_count": 20,
   "id": "24a459f8",
   "metadata": {},
   "outputs": [
    {
     "data": {
      "text/plain": [
       "array([[1, 2, 3, 4],\n",
       "       [5, 6, 7, 8]])"
      ]
     },
     "execution_count": 20,
     "metadata": {},
     "output_type": "execute_result"
    }
   ],
   "source": [
    "a1"
   ]
  },
  {
   "cell_type": "code",
   "execution_count": 21,
   "id": "1d1a65da",
   "metadata": {},
   "outputs": [
    {
     "data": {
      "text/plain": [
       "array([5, 6, 7, 8])"
      ]
     },
     "execution_count": 21,
     "metadata": {},
     "output_type": "execute_result"
    }
   ],
   "source": [
    "a1[1]"
   ]
  },
  {
   "cell_type": "code",
   "execution_count": 22,
   "id": "948b308e",
   "metadata": {},
   "outputs": [
    {
     "data": {
      "text/plain": [
       "array([[3, 4],\n",
       "       [7, 8]])"
      ]
     },
     "execution_count": 22,
     "metadata": {},
     "output_type": "execute_result"
    }
   ],
   "source": [
    "a1[:,2:5]"
   ]
  },
  {
   "cell_type": "code",
   "execution_count": 23,
   "id": "ffa9132f",
   "metadata": {},
   "outputs": [],
   "source": [
    "a5=np.random.randint(2,90,(6,5))"
   ]
  },
  {
   "cell_type": "code",
   "execution_count": 24,
   "id": "66efb7ea",
   "metadata": {},
   "outputs": [
    {
     "data": {
      "text/plain": [
       "array([[24, 21, 81, 41, 30],\n",
       "       [40, 83, 43, 33, 44],\n",
       "       [10, 81, 85,  5, 55],\n",
       "       [ 3, 36, 44, 29, 38],\n",
       "       [64, 55, 20, 53,  3],\n",
       "       [87, 10, 64, 26,  7]])"
      ]
     },
     "execution_count": 24,
     "metadata": {},
     "output_type": "execute_result"
    }
   ],
   "source": [
    "a5"
   ]
  },
  {
   "cell_type": "code",
   "execution_count": 25,
   "id": "eb9df022",
   "metadata": {},
   "outputs": [
    {
     "data": {
      "text/plain": [
       "array([81, 41, 83, 43, 44, 81, 85, 55, 44, 64, 55, 53, 87, 64])"
      ]
     },
     "execution_count": 25,
     "metadata": {},
     "output_type": "execute_result"
    }
   ],
   "source": [
    "a5[a5>40]"
   ]
  },
  {
   "cell_type": "code",
   "execution_count": 30,
   "id": "6917e6f7",
   "metadata": {},
   "outputs": [],
   "source": [
    "a5[0][3]=-1"
   ]
  },
  {
   "cell_type": "code",
   "execution_count": 31,
   "id": "f28ac2c4",
   "metadata": {},
   "outputs": [
    {
     "data": {
      "text/plain": [
       "array([[24, 21, 81, -1, 30],\n",
       "       [40, 83, 43, 33, 44],\n",
       "       [10, 81, 85,  5, 55],\n",
       "       [ 3, 36, 44, 29, 38],\n",
       "       [64, 55, 20, 53,  3],\n",
       "       [87, 10, 64, 26,  7]])"
      ]
     },
     "execution_count": 31,
     "metadata": {},
     "output_type": "execute_result"
    }
   ],
   "source": [
    "a5"
   ]
  },
  {
   "cell_type": "code",
   "execution_count": 34,
   "id": "70994b98",
   "metadata": {},
   "outputs": [],
   "source": [
    "a6=np.random.randint(2,3,(4,4))"
   ]
  },
  {
   "cell_type": "code",
   "execution_count": 35,
   "id": "79e50210",
   "metadata": {},
   "outputs": [
    {
     "data": {
      "text/plain": [
       "array([[2, 2, 2, 2],\n",
       "       [2, 2, 2, 2],\n",
       "       [2, 2, 2, 2],\n",
       "       [2, 2, 2, 2]])"
      ]
     },
     "execution_count": 35,
     "metadata": {},
     "output_type": "execute_result"
    }
   ],
   "source": [
    "a6"
   ]
  },
  {
   "cell_type": "code",
   "execution_count": 39,
   "id": "f0c2ecf9",
   "metadata": {},
   "outputs": [
    {
     "data": {
      "text/plain": [
       "array([[-2.27606132, -0.03863153, -0.89591517,  0.74020431],\n",
       "       [ 2.11005197, -3.41723656,  2.54876161, -0.75926816],\n",
       "       [-4.5893287 ,  0.28979625,  2.32492092,  2.32470989],\n",
       "       [ 1.76647868,  2.40618239,  1.01434333,  0.50851086]])"
      ]
     },
     "execution_count": 39,
     "metadata": {},
     "output_type": "execute_result"
    }
   ],
   "source": [
    "#Method for element multiplication\n",
    "a4*a6"
   ]
  },
  {
   "cell_type": "code",
   "execution_count": 40,
   "id": "6a8b1e87",
   "metadata": {},
   "outputs": [
    {
     "data": {
      "text/plain": [
       "array([[-2.47040371, -2.47040371, -2.47040371, -2.47040371],\n",
       "       [ 0.48230886,  0.48230886,  0.48230886,  0.48230886],\n",
       "       [ 0.35009837,  0.35009837,  0.35009837,  0.35009837],\n",
       "       [ 5.69551526,  5.69551526,  5.69551526,  5.69551526]])"
      ]
     },
     "execution_count": 40,
     "metadata": {},
     "output_type": "execute_result"
    }
   ],
   "source": [
    "#Method for matrix multiplication\n",
    "a4@a6"
   ]
  },
  {
   "cell_type": "code",
   "execution_count": 42,
   "id": "0fd8a17e",
   "metadata": {},
   "outputs": [
    {
     "data": {
      "text/plain": [
       "array([[102, 102, 102, 102],\n",
       "       [102, 102, 102, 102],\n",
       "       [102, 102, 102, 102],\n",
       "       [102, 102, 102, 102]])"
      ]
     },
     "execution_count": 42,
     "metadata": {},
     "output_type": "execute_result"
    }
   ],
   "source": [
    "a6+100"
   ]
  },
  {
   "cell_type": "code",
   "execution_count": 43,
   "id": "9d85bc2b",
   "metadata": {},
   "outputs": [
    {
     "data": {
      "text/plain": [
       "array([[4, 4, 4, 4],\n",
       "       [4, 4, 4, 4],\n",
       "       [4, 4, 4, 4],\n",
       "       [4, 4, 4, 4]])"
      ]
     },
     "execution_count": 43,
     "metadata": {},
     "output_type": "execute_result"
    }
   ],
   "source": [
    "a6*2"
   ]
  },
  {
   "cell_type": "code",
   "execution_count": 44,
   "id": "1774ce64",
   "metadata": {},
   "outputs": [],
   "source": [
    "a7=np.zeros((4,4))"
   ]
  },
  {
   "cell_type": "code",
   "execution_count": 45,
   "id": "9ec7a25e",
   "metadata": {},
   "outputs": [
    {
     "data": {
      "text/plain": [
       "array([[0., 0., 0., 0.],\n",
       "       [0., 0., 0., 0.],\n",
       "       [0., 0., 0., 0.],\n",
       "       [0., 0., 0., 0.]])"
      ]
     },
     "execution_count": 45,
     "metadata": {},
     "output_type": "execute_result"
    }
   ],
   "source": [
    "a7"
   ]
  },
  {
   "cell_type": "code",
   "execution_count": 46,
   "id": "5587404a",
   "metadata": {},
   "outputs": [],
   "source": [
    "a8=np.ones((4,5))"
   ]
  },
  {
   "cell_type": "code",
   "execution_count": 47,
   "id": "c84704ce",
   "metadata": {},
   "outputs": [
    {
     "data": {
      "text/plain": [
       "array([[1., 1., 1., 1., 1.],\n",
       "       [1., 1., 1., 1., 1.],\n",
       "       [1., 1., 1., 1., 1.],\n",
       "       [1., 1., 1., 1., 1.]])"
      ]
     },
     "execution_count": 47,
     "metadata": {},
     "output_type": "execute_result"
    }
   ],
   "source": [
    "a8"
   ]
  },
  {
   "cell_type": "code",
   "execution_count": 48,
   "id": "a8d83346",
   "metadata": {},
   "outputs": [],
   "source": [
    "a9=a8+np.array([1,2,3,4,5])"
   ]
  },
  {
   "cell_type": "code",
   "execution_count": 49,
   "id": "cd9fc410",
   "metadata": {},
   "outputs": [
    {
     "data": {
      "text/plain": [
       "array([[2., 3., 4., 5., 6.],\n",
       "       [2., 3., 4., 5., 6.],\n",
       "       [2., 3., 4., 5., 6.],\n",
       "       [2., 3., 4., 5., 6.]])"
      ]
     },
     "execution_count": 49,
     "metadata": {},
     "output_type": "execute_result"
    }
   ],
   "source": [
    "a9"
   ]
  },
  {
   "cell_type": "code",
   "execution_count": 60,
   "id": "ff0f5086",
   "metadata": {},
   "outputs": [],
   "source": [
    "a10=np.array([[1,2,3,4]]).T"
   ]
  },
  {
   "cell_type": "code",
   "execution_count": 61,
   "id": "eadf4f1d",
   "metadata": {},
   "outputs": [
    {
     "data": {
      "text/plain": [
       "array([[1],\n",
       "       [2],\n",
       "       [3],\n",
       "       [4]])"
      ]
     },
     "execution_count": 61,
     "metadata": {},
     "output_type": "execute_result"
    }
   ],
   "source": [
    "a10"
   ]
  },
  {
   "cell_type": "code",
   "execution_count": 62,
   "id": "66c37acb",
   "metadata": {},
   "outputs": [
    {
     "data": {
      "text/plain": [
       "array([[2., 2., 2., 2., 2.],\n",
       "       [3., 3., 3., 3., 3.],\n",
       "       [4., 4., 4., 4., 4.],\n",
       "       [5., 5., 5., 5., 5.]])"
      ]
     },
     "execution_count": 62,
     "metadata": {},
     "output_type": "execute_result"
    }
   ],
   "source": [
    "a8+a10"
   ]
  },
  {
   "cell_type": "code",
   "execution_count": 64,
   "id": "89705faf",
   "metadata": {},
   "outputs": [
    {
     "data": {
      "text/plain": [
       "array([[1.41421356, 1.73205081, 2.        , 2.23606798, 2.44948974],\n",
       "       [1.41421356, 1.73205081, 2.        , 2.23606798, 2.44948974],\n",
       "       [1.41421356, 1.73205081, 2.        , 2.23606798, 2.44948974],\n",
       "       [1.41421356, 1.73205081, 2.        , 2.23606798, 2.44948974]])"
      ]
     },
     "execution_count": 64,
     "metadata": {},
     "output_type": "execute_result"
    }
   ],
   "source": [
    "np.sqrt(a9)"
   ]
  },
  {
   "cell_type": "code",
   "execution_count": 72,
   "id": "ecc87c64",
   "metadata": {},
   "outputs": [
    {
     "data": {
      "text/plain": [
       "array([[0.30103   , 0.47712125, 0.60205999, 0.69897   , 0.77815125],\n",
       "       [0.30103   , 0.47712125, 0.60205999, 0.69897   , 0.77815125],\n",
       "       [0.30103   , 0.47712125, 0.60205999, 0.69897   , 0.77815125],\n",
       "       [0.30103   , 0.47712125, 0.60205999, 0.69897   , 0.77815125]])"
      ]
     },
     "execution_count": 72,
     "metadata": {},
     "output_type": "execute_result"
    }
   ],
   "source": [
    "np.log10(a9)"
   ]
  },
  {
   "cell_type": "code",
   "execution_count": 73,
   "id": "89736551",
   "metadata": {},
   "outputs": [
    {
     "data": {
      "text/plain": [
       "[0, 2, 4, 6, 8]"
      ]
     },
     "execution_count": 73,
     "metadata": {},
     "output_type": "execute_result"
    }
   ],
   "source": [
    "list(range(0,10,2))"
   ]
  },
  {
   "cell_type": "code",
   "execution_count": 75,
   "id": "2b1a28f9",
   "metadata": {},
   "outputs": [
    {
     "data": {
      "text/plain": [
       "array([1. , 3.3, 5.6, 7.9])"
      ]
     },
     "execution_count": 75,
     "metadata": {},
     "output_type": "execute_result"
    }
   ],
   "source": [
    "np.arange(1,10,2.3)"
   ]
  },
  {
   "cell_type": "code",
   "execution_count": 78,
   "id": "e4efb957",
   "metadata": {},
   "outputs": [
    {
     "data": {
      "text/plain": [
       "(array([2.        , 2.02040816, 2.04081633, 2.06122449, 2.08163265,\n",
       "        2.10204082, 2.12244898, 2.14285714, 2.16326531, 2.18367347,\n",
       "        2.20408163, 2.2244898 , 2.24489796, 2.26530612, 2.28571429,\n",
       "        2.30612245, 2.32653061, 2.34693878, 2.36734694, 2.3877551 ,\n",
       "        2.40816327, 2.42857143, 2.44897959, 2.46938776, 2.48979592,\n",
       "        2.51020408, 2.53061224, 2.55102041, 2.57142857, 2.59183673,\n",
       "        2.6122449 , 2.63265306, 2.65306122, 2.67346939, 2.69387755,\n",
       "        2.71428571, 2.73469388, 2.75510204, 2.7755102 , 2.79591837,\n",
       "        2.81632653, 2.83673469, 2.85714286, 2.87755102, 2.89795918,\n",
       "        2.91836735, 2.93877551, 2.95918367, 2.97959184, 3.        ]),\n",
       " 0.02040816326530612)"
      ]
     },
     "execution_count": 78,
     "metadata": {},
     "output_type": "execute_result"
    }
   ],
   "source": [
    "np.linspace(2,3,num=50,retstep=True)"
   ]
  },
  {
   "cell_type": "code",
   "execution_count": 79,
   "id": "dc935856",
   "metadata": {},
   "outputs": [
    {
     "data": {
      "text/plain": [
       "array([  100.        ,   464.15888336,  2154.43469003, 10000.        ])"
      ]
     },
     "execution_count": 79,
     "metadata": {},
     "output_type": "execute_result"
    }
   ],
   "source": [
    "np.logspace(2,4,num=4,base=10)"
   ]
  },
  {
   "cell_type": "code",
   "execution_count": 80,
   "id": "e1a9ec92",
   "metadata": {},
   "outputs": [
    {
     "data": {
      "text/plain": [
       "array([[1., 0., 0., 0., 0.],\n",
       "       [0., 1., 0., 0., 0.],\n",
       "       [0., 0., 1., 0., 0.],\n",
       "       [0., 0., 0., 1., 0.],\n",
       "       [0., 0., 0., 0., 1.]])"
      ]
     },
     "execution_count": 80,
     "metadata": {},
     "output_type": "execute_result"
    }
   ],
   "source": [
    "np.eye(5)"
   ]
  },
  {
   "cell_type": "code",
   "execution_count": null,
   "id": "675add01",
   "metadata": {},
   "outputs": [],
   "source": []
  }
 ],
 "metadata": {
  "kernelspec": {
   "display_name": "Python 3 (ipykernel)",
   "language": "python",
   "name": "python3"
  },
  "language_info": {
   "codemirror_mode": {
    "name": "ipython",
    "version": 3
   },
   "file_extension": ".py",
   "mimetype": "text/x-python",
   "name": "python",
   "nbconvert_exporter": "python",
   "pygments_lexer": "ipython3",
   "version": "3.9.7"
  }
 },
 "nbformat": 4,
 "nbformat_minor": 5
}
