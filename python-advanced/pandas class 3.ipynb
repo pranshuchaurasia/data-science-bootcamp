{
 "cells": [
  {
   "cell_type": "code",
   "execution_count": 1,
   "id": "a99c5e03",
   "metadata": {},
   "outputs": [],
   "source": [
    "import pandas as pd"
   ]
  },
  {
   "cell_type": "code",
   "execution_count": 8,
   "id": "220c8508",
   "metadata": {},
   "outputs": [],
   "source": [
    "data = {'name':  ['sudh' , 'krish' , 'hitesh' , 'tulesko'], \n",
    "'salary' : [100 , 200 , 300 , 400], \n",
    "'mail_id' : ['sudh@ineuron.ai' , 'krish@ineuron.ai' , 'hitesh@ineuron.ai' , 'tulesko@ineuron.ai'],\n",
    " 'addr' : ['blr' , 'blr' , 'blr' , 'mum']\n",
    " }"
   ]
  },
  {
   "cell_type": "code",
   "execution_count": 9,
   "id": "fe86c63d",
   "metadata": {},
   "outputs": [
    {
     "data": {
      "text/html": [
       "<div>\n",
       "<style scoped>\n",
       "    .dataframe tbody tr th:only-of-type {\n",
       "        vertical-align: middle;\n",
       "    }\n",
       "\n",
       "    .dataframe tbody tr th {\n",
       "        vertical-align: top;\n",
       "    }\n",
       "\n",
       "    .dataframe thead th {\n",
       "        text-align: right;\n",
       "    }\n",
       "</style>\n",
       "<table border=\"1\" class=\"dataframe\">\n",
       "  <thead>\n",
       "    <tr style=\"text-align: right;\">\n",
       "      <th></th>\n",
       "      <th>name</th>\n",
       "      <th>salary</th>\n",
       "      <th>mail_id</th>\n",
       "      <th>addr</th>\n",
       "    </tr>\n",
       "  </thead>\n",
       "  <tbody>\n",
       "    <tr>\n",
       "      <th>0</th>\n",
       "      <td>sudh</td>\n",
       "      <td>100</td>\n",
       "      <td>sudh@ineuron.ai</td>\n",
       "      <td>blr</td>\n",
       "    </tr>\n",
       "    <tr>\n",
       "      <th>1</th>\n",
       "      <td>krish</td>\n",
       "      <td>200</td>\n",
       "      <td>krish@ineuron.ai</td>\n",
       "      <td>blr</td>\n",
       "    </tr>\n",
       "    <tr>\n",
       "      <th>2</th>\n",
       "      <td>hitesh</td>\n",
       "      <td>300</td>\n",
       "      <td>hitesh@ineuron.ai</td>\n",
       "      <td>blr</td>\n",
       "    </tr>\n",
       "    <tr>\n",
       "      <th>3</th>\n",
       "      <td>tulesko</td>\n",
       "      <td>400</td>\n",
       "      <td>tulesko@ineuron.ai</td>\n",
       "      <td>mum</td>\n",
       "    </tr>\n",
       "  </tbody>\n",
       "</table>\n",
       "</div>"
      ],
      "text/plain": [
       "      name  salary             mail_id addr\n",
       "0     sudh     100     sudh@ineuron.ai  blr\n",
       "1    krish     200    krish@ineuron.ai  blr\n",
       "2   hitesh     300   hitesh@ineuron.ai  blr\n",
       "3  tulesko     400  tulesko@ineuron.ai  mum"
      ]
     },
     "execution_count": 9,
     "metadata": {},
     "output_type": "execute_result"
    }
   ],
   "source": [
    "pd.DataFrame(data)"
   ]
  },
  {
   "cell_type": "code",
   "execution_count": null,
   "id": "02f5807b",
   "metadata": {},
   "outputs": [],
   "source": []
  }
 ],
 "metadata": {
  "kernelspec": {
   "display_name": "Python 3 (ipykernel)",
   "language": "python",
   "name": "python3"
  },
  "language_info": {
   "codemirror_mode": {
    "name": "ipython",
    "version": 3
   },
   "file_extension": ".py",
   "mimetype": "text/x-python",
   "name": "python",
   "nbconvert_exporter": "python",
   "pygments_lexer": "ipython3",
   "version": "3.9.7"
  }
 },
 "nbformat": 4,
 "nbformat_minor": 5
}
